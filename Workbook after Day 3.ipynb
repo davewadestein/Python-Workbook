{
 "cells": [
  {
   "cell_type": "markdown",
   "id": "5210b636-6449-42a7-8218-bdc4de59a7b5",
   "metadata": {},
   "source": [
    "# Important Things About Python\n",
    "* Python's raison d'être is to manipulate data (e.g., text and files)\n",
    "* everything in Python is an object\n",
    "  * everything is in memory (e.g., modules, variables)\n",
    "  * everything has fields and potentially functions inside it\n",
    "* \"mechanical sympathy\"\n",
    "  * Jackie Stewart...if you want to drive a car, you don't need to know it works\n",
    "  * if you want to deeply understand something / take it to its limit, you do need to know what's going on under the hood\n",
    "* dynamically typed\n",
    "  * we don't need to tell Python what type of data we are storing, we just store it\n",
    "  * we can overwite a variable w/data of a different type\n",
    "* basic data types: int, float, bool, str\n",
    "  * basic in the sense that they are what we learn first and expected\n",
    "  * int, float, and bool are also called \"scalars\"\n",
    "* container data types: str, list, tuple, dict\n",
    "  * it can hold 0+ or more items\n",
    "  * we can run __`len()`__ on a container\n",
    "* scalar vs. container\n",
    "* mutable vs. immutable objects\n",
    "  * immutable: str, tuple\n",
    "  * mutable: list, dict\n",
    "* built-in functions do not change the objects that are passed to them\n",
    "  * corollary 1: if you want to change an object, you must call a method on it\n",
    "  * corollary 2: NOT all methods change the objects that are applied to/called on\n",
    "    * there are \"inspector\" methods that simply view the object but don't mutate it"
   ]
  },
  {
   "cell_type": "markdown",
   "id": "ffc15e83-5fa9-4170-b603-62490659b878",
   "metadata": {},
   "source": [
    "# Pythonic\n",
    "* using Python idioms that other Python programmers recognize/understand\n",
    "* when an object is difficult to work with as is, consider converting it to another type\n",
    "* combining/composing functions a la __`input('...').lower().split()`__\n",
    "* e.g., __`[-1]`__ means the last item in the container\n",
    "  * __`[-n:]`__ means the last n items in the container\n",
    "  * __`[:n]`__ means the first n items in the container\n",
    "  * __`[::-1]`__ means a reversed version of the container\n",
    "  * __`[n:]`__ means from index n onward (to the end) in any container\n",
    "    * alteratively, it means skip the first n items\n",
    "  * don't use indexing if you don't need it (e.g., __`for thing in container`__...)\n",
    "  * make a list by splitting a string which is easier to type\n",
    "    * __`'apple lemon cherry fig lime watermelon'.split()`__ \n",
    "  * list comprehensions"
   ]
  },
  {
   "cell_type": "code",
   "execution_count": 2,
   "id": "124cd480-c5cd-4b93-a60c-2db69c24b172",
   "metadata": {},
   "outputs": [
    {
     "name": "stdout",
     "output_type": "stream",
     "text": [
      "The Zen of Python, by Tim Peters\n",
      "\n",
      "Beautiful is better than ugly.\n",
      "Explicit is better than implicit.\n",
      "Simple is better than complex.\n",
      "Complex is better than complicated.\n",
      "Flat is better than nested.\n",
      "Sparse is better than dense.\n",
      "Readability counts.\n",
      "Special cases aren't special enough to break the rules.\n",
      "Although practicality beats purity.\n",
      "Errors should never pass silently.\n",
      "Unless explicitly silenced.\n",
      "In the face of ambiguity, refuse the temptation to guess.\n",
      "There should be one-- and preferably only one --obvious way to do it.\n",
      "Although that way may not be obvious at first unless you're Dutch.\n",
      "Now is better than never.\n",
      "Although never is often better than *right* now.\n",
      "If the implementation is hard to explain, it's a bad idea.\n",
      "If the implementation is easy to explain, it may be a good idea.\n",
      "Namespaces are one honking great idea -- let's do more of those!\n"
     ]
    }
   ],
   "source": [
    "import this"
   ]
  },
  {
   "cell_type": "markdown",
   "id": "e9e5815e-142f-4cf2-8f8a-be4a6200f7ec",
   "metadata": {},
   "source": [
    "# Good Programming Practices\n",
    "* choose good variables names\n",
    "  * they should reflect what the variable is holding\n",
    "  * e.g., __`cost`__ vs. __`c`__, or __`cost_per_ounce`__ vs. __`cpo`__"
   ]
  },
  {
   "cell_type": "markdown",
   "id": "a7d9966f-3efe-4979-81c2-52cfe56c74b8",
   "metadata": {},
   "source": [
    "# other stuff\n",
    "* you read code 10x, so make sure it's easy to read\n",
    "* Hal Abelson: \"Programs are written for others to read and only incidentally for computers to execute\"\n",
    "  * your code is telling a story; make it the best story you can\n",
    "* Eagleson's Law: \"Any code you've written longer than 6 months ago might as well have been written by someone else\"\n"
   ]
  },
  {
   "cell_type": "code",
   "execution_count": 7,
   "id": "c7adb428-000e-4b82-be91-7424b799d38c",
   "metadata": {},
   "outputs": [
    {
     "data": {
      "text/plain": [
       "'3.9.12 (main, Apr  5 2022, 01:53:17) \\n[Clang 12.0.0 ]'"
      ]
     },
     "execution_count": 7,
     "metadata": {},
     "output_type": "execute_result"
    }
   ],
   "source": [
    "import sys\n",
    "sys.version"
   ]
  },
  {
   "cell_type": "code",
   "execution_count": 3,
   "id": "1272ba36-8eec-4706-a37d-bd63c2f3de80",
   "metadata": {},
   "outputs": [
    {
     "data": {
      "text/plain": [
       "140528244828976"
      ]
     },
     "execution_count": 3,
     "metadata": {},
     "output_type": "execute_result"
    }
   ],
   "source": [
    "id(this)"
   ]
  },
  {
   "cell_type": "code",
   "execution_count": 4,
   "id": "71dee8e2-0fc7-4ca2-aa1e-3abf0206880c",
   "metadata": {},
   "outputs": [
    {
     "data": {
      "text/plain": [
       "4"
      ]
     },
     "execution_count": 4,
     "metadata": {},
     "output_type": "execute_result"
    }
   ],
   "source": [
    "2 + 2"
   ]
  },
  {
   "cell_type": "code",
   "execution_count": 5,
   "id": "f120bcdf-e7b2-4f79-824e-210b906e84eb",
   "metadata": {},
   "outputs": [],
   "source": [
    "import math"
   ]
  },
  {
   "cell_type": "code",
   "execution_count": 6,
   "id": "00fad8ac-350d-424a-b711-42cabb9a7db9",
   "metadata": {},
   "outputs": [
    {
     "data": {
      "text/plain": [
       "1.0"
      ]
     },
     "execution_count": 6,
     "metadata": {},
     "output_type": "execute_result"
    }
   ],
   "source": [
    "math.sin(math.pi / 2.0)"
   ]
  },
  {
   "cell_type": "code",
   "execution_count": 7,
   "id": "8fd25909-6d61-4518-ac9c-c9883102dfa9",
   "metadata": {},
   "outputs": [
    {
     "data": {
      "text/plain": [
       "120"
      ]
     },
     "execution_count": 7,
     "metadata": {},
     "output_type": "execute_result"
    }
   ],
   "source": [
    "math.factorial(5)"
   ]
  },
  {
   "cell_type": "code",
   "execution_count": 8,
   "id": "09ed01a1-7419-497c-bf5a-87a94d77f178",
   "metadata": {},
   "outputs": [
    {
     "data": {
      "text/plain": [
       "['__doc__',\n",
       " '__file__',\n",
       " '__loader__',\n",
       " '__name__',\n",
       " '__package__',\n",
       " '__spec__',\n",
       " 'acos',\n",
       " 'acosh',\n",
       " 'asin',\n",
       " 'asinh',\n",
       " 'atan',\n",
       " 'atan2',\n",
       " 'atanh',\n",
       " 'ceil',\n",
       " 'comb',\n",
       " 'copysign',\n",
       " 'cos',\n",
       " 'cosh',\n",
       " 'degrees',\n",
       " 'dist',\n",
       " 'e',\n",
       " 'erf',\n",
       " 'erfc',\n",
       " 'exp',\n",
       " 'expm1',\n",
       " 'fabs',\n",
       " 'factorial',\n",
       " 'floor',\n",
       " 'fmod',\n",
       " 'frexp',\n",
       " 'fsum',\n",
       " 'gamma',\n",
       " 'gcd',\n",
       " 'hypot',\n",
       " 'inf',\n",
       " 'isclose',\n",
       " 'isfinite',\n",
       " 'isinf',\n",
       " 'isnan',\n",
       " 'isqrt',\n",
       " 'lcm',\n",
       " 'ldexp',\n",
       " 'lgamma',\n",
       " 'log',\n",
       " 'log10',\n",
       " 'log1p',\n",
       " 'log2',\n",
       " 'modf',\n",
       " 'nan',\n",
       " 'nextafter',\n",
       " 'perm',\n",
       " 'pi',\n",
       " 'pow',\n",
       " 'prod',\n",
       " 'radians',\n",
       " 'remainder',\n",
       " 'sin',\n",
       " 'sinh',\n",
       " 'sqrt',\n",
       " 'tan',\n",
       " 'tanh',\n",
       " 'tau',\n",
       " 'trunc',\n",
       " 'ulp']"
      ]
     },
     "execution_count": 8,
     "metadata": {},
     "output_type": "execute_result"
    }
   ],
   "source": [
    "dir(math)"
   ]
  },
  {
   "cell_type": "code",
   "execution_count": 9,
   "id": "48be4b4e-e14a-4755-abb3-8608f65c3dc0",
   "metadata": {},
   "outputs": [
    {
     "name": "stdout",
     "output_type": "stream",
     "text": [
      "Help on module math:\n",
      "\n",
      "NAME\n",
      "    math\n",
      "\n",
      "MODULE REFERENCE\n",
      "    https://docs.python.org/3.9/library/math\n",
      "    \n",
      "    The following documentation is automatically generated from the Python\n",
      "    source files.  It may be incomplete, incorrect or include features that\n",
      "    are considered implementation detail and may vary between Python\n",
      "    implementations.  When in doubt, consult the module reference at the\n",
      "    location listed above.\n",
      "\n",
      "DESCRIPTION\n",
      "    This module provides access to the mathematical functions\n",
      "    defined by the C standard.\n",
      "\n",
      "FUNCTIONS\n",
      "    acos(x, /)\n",
      "        Return the arc cosine (measured in radians) of x.\n",
      "        \n",
      "        The result is between 0 and pi.\n",
      "    \n",
      "    acosh(x, /)\n",
      "        Return the inverse hyperbolic cosine of x.\n",
      "    \n",
      "    asin(x, /)\n",
      "        Return the arc sine (measured in radians) of x.\n",
      "        \n",
      "        The result is between -pi/2 and pi/2.\n",
      "    \n",
      "    asinh(x, /)\n",
      "        Return the inverse hyperbolic sine of x.\n",
      "    \n",
      "    atan(x, /)\n",
      "        Return the arc tangent (measured in radians) of x.\n",
      "        \n",
      "        The result is between -pi/2 and pi/2.\n",
      "    \n",
      "    atan2(y, x, /)\n",
      "        Return the arc tangent (measured in radians) of y/x.\n",
      "        \n",
      "        Unlike atan(y/x), the signs of both x and y are considered.\n",
      "    \n",
      "    atanh(x, /)\n",
      "        Return the inverse hyperbolic tangent of x.\n",
      "    \n",
      "    ceil(x, /)\n",
      "        Return the ceiling of x as an Integral.\n",
      "        \n",
      "        This is the smallest integer >= x.\n",
      "    \n",
      "    comb(n, k, /)\n",
      "        Number of ways to choose k items from n items without repetition and without order.\n",
      "        \n",
      "        Evaluates to n! / (k! * (n - k)!) when k <= n and evaluates\n",
      "        to zero when k > n.\n",
      "        \n",
      "        Also called the binomial coefficient because it is equivalent\n",
      "        to the coefficient of k-th term in polynomial expansion of the\n",
      "        expression (1 + x)**n.\n",
      "        \n",
      "        Raises TypeError if either of the arguments are not integers.\n",
      "        Raises ValueError if either of the arguments are negative.\n",
      "    \n",
      "    copysign(x, y, /)\n",
      "        Return a float with the magnitude (absolute value) of x but the sign of y.\n",
      "        \n",
      "        On platforms that support signed zeros, copysign(1.0, -0.0)\n",
      "        returns -1.0.\n",
      "    \n",
      "    cos(x, /)\n",
      "        Return the cosine of x (measured in radians).\n",
      "    \n",
      "    cosh(x, /)\n",
      "        Return the hyperbolic cosine of x.\n",
      "    \n",
      "    degrees(x, /)\n",
      "        Convert angle x from radians to degrees.\n",
      "    \n",
      "    dist(p, q, /)\n",
      "        Return the Euclidean distance between two points p and q.\n",
      "        \n",
      "        The points should be specified as sequences (or iterables) of\n",
      "        coordinates.  Both inputs must have the same dimension.\n",
      "        \n",
      "        Roughly equivalent to:\n",
      "            sqrt(sum((px - qx) ** 2.0 for px, qx in zip(p, q)))\n",
      "    \n",
      "    erf(x, /)\n",
      "        Error function at x.\n",
      "    \n",
      "    erfc(x, /)\n",
      "        Complementary error function at x.\n",
      "    \n",
      "    exp(x, /)\n",
      "        Return e raised to the power of x.\n",
      "    \n",
      "    expm1(x, /)\n",
      "        Return exp(x)-1.\n",
      "        \n",
      "        This function avoids the loss of precision involved in the direct evaluation of exp(x)-1 for small x.\n",
      "    \n",
      "    fabs(x, /)\n",
      "        Return the absolute value of the float x.\n",
      "    \n",
      "    factorial(x, /)\n",
      "        Find x!.\n",
      "        \n",
      "        Raise a ValueError if x is negative or non-integral.\n",
      "    \n",
      "    floor(x, /)\n",
      "        Return the floor of x as an Integral.\n",
      "        \n",
      "        This is the largest integer <= x.\n",
      "    \n",
      "    fmod(x, y, /)\n",
      "        Return fmod(x, y), according to platform C.\n",
      "        \n",
      "        x % y may differ.\n",
      "    \n",
      "    frexp(x, /)\n",
      "        Return the mantissa and exponent of x, as pair (m, e).\n",
      "        \n",
      "        m is a float and e is an int, such that x = m * 2.**e.\n",
      "        If x is 0, m and e are both 0.  Else 0.5 <= abs(m) < 1.0.\n",
      "    \n",
      "    fsum(seq, /)\n",
      "        Return an accurate floating point sum of values in the iterable seq.\n",
      "        \n",
      "        Assumes IEEE-754 floating point arithmetic.\n",
      "    \n",
      "    gamma(x, /)\n",
      "        Gamma function at x.\n",
      "    \n",
      "    gcd(*integers)\n",
      "        Greatest Common Divisor.\n",
      "    \n",
      "    hypot(...)\n",
      "        hypot(*coordinates) -> value\n",
      "        \n",
      "        Multidimensional Euclidean distance from the origin to a point.\n",
      "        \n",
      "        Roughly equivalent to:\n",
      "            sqrt(sum(x**2 for x in coordinates))\n",
      "        \n",
      "        For a two dimensional point (x, y), gives the hypotenuse\n",
      "        using the Pythagorean theorem:  sqrt(x*x + y*y).\n",
      "        \n",
      "        For example, the hypotenuse of a 3/4/5 right triangle is:\n",
      "        \n",
      "            >>> hypot(3.0, 4.0)\n",
      "            5.0\n",
      "    \n",
      "    isclose(a, b, *, rel_tol=1e-09, abs_tol=0.0)\n",
      "        Determine whether two floating point numbers are close in value.\n",
      "        \n",
      "          rel_tol\n",
      "            maximum difference for being considered \"close\", relative to the\n",
      "            magnitude of the input values\n",
      "          abs_tol\n",
      "            maximum difference for being considered \"close\", regardless of the\n",
      "            magnitude of the input values\n",
      "        \n",
      "        Return True if a is close in value to b, and False otherwise.\n",
      "        \n",
      "        For the values to be considered close, the difference between them\n",
      "        must be smaller than at least one of the tolerances.\n",
      "        \n",
      "        -inf, inf and NaN behave similarly to the IEEE 754 Standard.  That\n",
      "        is, NaN is not close to anything, even itself.  inf and -inf are\n",
      "        only close to themselves.\n",
      "    \n",
      "    isfinite(x, /)\n",
      "        Return True if x is neither an infinity nor a NaN, and False otherwise.\n",
      "    \n",
      "    isinf(x, /)\n",
      "        Return True if x is a positive or negative infinity, and False otherwise.\n",
      "    \n",
      "    isnan(x, /)\n",
      "        Return True if x is a NaN (not a number), and False otherwise.\n",
      "    \n",
      "    isqrt(n, /)\n",
      "        Return the integer part of the square root of the input.\n",
      "    \n",
      "    lcm(*integers)\n",
      "        Least Common Multiple.\n",
      "    \n",
      "    ldexp(x, i, /)\n",
      "        Return x * (2**i).\n",
      "        \n",
      "        This is essentially the inverse of frexp().\n",
      "    \n",
      "    lgamma(x, /)\n",
      "        Natural logarithm of absolute value of Gamma function at x.\n",
      "    \n",
      "    log(...)\n",
      "        log(x, [base=math.e])\n",
      "        Return the logarithm of x to the given base.\n",
      "        \n",
      "        If the base not specified, returns the natural logarithm (base e) of x.\n",
      "    \n",
      "    log10(x, /)\n",
      "        Return the base 10 logarithm of x.\n",
      "    \n",
      "    log1p(x, /)\n",
      "        Return the natural logarithm of 1+x (base e).\n",
      "        \n",
      "        The result is computed in a way which is accurate for x near zero.\n",
      "    \n",
      "    log2(x, /)\n",
      "        Return the base 2 logarithm of x.\n",
      "    \n",
      "    modf(x, /)\n",
      "        Return the fractional and integer parts of x.\n",
      "        \n",
      "        Both results carry the sign of x and are floats.\n",
      "    \n",
      "    nextafter(x, y, /)\n",
      "        Return the next floating-point value after x towards y.\n",
      "    \n",
      "    perm(n, k=None, /)\n",
      "        Number of ways to choose k items from n items without repetition and with order.\n",
      "        \n",
      "        Evaluates to n! / (n - k)! when k <= n and evaluates\n",
      "        to zero when k > n.\n",
      "        \n",
      "        If k is not specified or is None, then k defaults to n\n",
      "        and the function returns n!.\n",
      "        \n",
      "        Raises TypeError if either of the arguments are not integers.\n",
      "        Raises ValueError if either of the arguments are negative.\n",
      "    \n",
      "    pow(x, y, /)\n",
      "        Return x**y (x to the power of y).\n",
      "    \n",
      "    prod(iterable, /, *, start=1)\n",
      "        Calculate the product of all the elements in the input iterable.\n",
      "        \n",
      "        The default start value for the product is 1.\n",
      "        \n",
      "        When the iterable is empty, return the start value.  This function is\n",
      "        intended specifically for use with numeric values and may reject\n",
      "        non-numeric types.\n",
      "    \n",
      "    radians(x, /)\n",
      "        Convert angle x from degrees to radians.\n",
      "    \n",
      "    remainder(x, y, /)\n",
      "        Difference between x and the closest integer multiple of y.\n",
      "        \n",
      "        Return x - n*y where n*y is the closest integer multiple of y.\n",
      "        In the case where x is exactly halfway between two multiples of\n",
      "        y, the nearest even value of n is used. The result is always exact.\n",
      "    \n",
      "    sin(x, /)\n",
      "        Return the sine of x (measured in radians).\n",
      "    \n",
      "    sinh(x, /)\n",
      "        Return the hyperbolic sine of x.\n",
      "    \n",
      "    sqrt(x, /)\n",
      "        Return the square root of x.\n",
      "    \n",
      "    tan(x, /)\n",
      "        Return the tangent of x (measured in radians).\n",
      "    \n",
      "    tanh(x, /)\n",
      "        Return the hyperbolic tangent of x.\n",
      "    \n",
      "    trunc(x, /)\n",
      "        Truncates the Real x to the nearest Integral toward 0.\n",
      "        \n",
      "        Uses the __trunc__ magic method.\n",
      "    \n",
      "    ulp(x, /)\n",
      "        Return the value of the least significant bit of the float x.\n",
      "\n",
      "DATA\n",
      "    e = 2.718281828459045\n",
      "    inf = inf\n",
      "    nan = nan\n",
      "    pi = 3.141592653589793\n",
      "    tau = 6.283185307179586\n",
      "\n",
      "FILE\n",
      "    /Users/dave-wadestein/opt/anaconda3/lib/python3.9/lib-dynload/math.cpython-39-darwin.so\n",
      "\n",
      "\n"
     ]
    }
   ],
   "source": [
    "help(math)"
   ]
  },
  {
   "cell_type": "code",
   "execution_count": 12,
   "id": "73cdd35f-f1ca-41bd-853a-d507969bc894",
   "metadata": {},
   "outputs": [
    {
     "name": "stdout",
     "output_type": "stream",
     "text": [
      "Help on built-in function factorial in module math:\n",
      "\n",
      "factorial(x, /)\n",
      "    Find x!.\n",
      "    \n",
      "    Raise a ValueError if x is negative or non-integral.\n",
      "\n"
     ]
    }
   ],
   "source": [
    "help(math.factorial)"
   ]
  },
  {
   "cell_type": "code",
   "execution_count": 13,
   "id": "d80cbb81-95e8-4ea7-ba1e-9d46b77ce7e9",
   "metadata": {},
   "outputs": [],
   "source": [
    "import string"
   ]
  },
  {
   "cell_type": "code",
   "execution_count": 14,
   "id": "6a0f65f9-795c-4176-b733-cdd1fc0185a7",
   "metadata": {},
   "outputs": [
    {
     "data": {
      "text/plain": [
       "140529049885648"
      ]
     },
     "execution_count": 14,
     "metadata": {},
     "output_type": "execute_result"
    }
   ],
   "source": [
    "id(string)"
   ]
  },
  {
   "cell_type": "code",
   "execution_count": 15,
   "id": "8731e25a-d9b2-446d-bc8a-3795dfee30c0",
   "metadata": {},
   "outputs": [
    {
     "data": {
      "text/plain": [
       "['Formatter',\n",
       " 'Template',\n",
       " '_ChainMap',\n",
       " '__all__',\n",
       " '__builtins__',\n",
       " '__cached__',\n",
       " '__doc__',\n",
       " '__file__',\n",
       " '__loader__',\n",
       " '__name__',\n",
       " '__package__',\n",
       " '__spec__',\n",
       " '_re',\n",
       " '_sentinel_dict',\n",
       " '_string',\n",
       " 'ascii_letters',\n",
       " 'ascii_lowercase',\n",
       " 'ascii_uppercase',\n",
       " 'capwords',\n",
       " 'digits',\n",
       " 'hexdigits',\n",
       " 'octdigits',\n",
       " 'printable',\n",
       " 'punctuation',\n",
       " 'whitespace']"
      ]
     },
     "execution_count": 15,
     "metadata": {},
     "output_type": "execute_result"
    }
   ],
   "source": [
    "dir(string)"
   ]
  },
  {
   "cell_type": "code",
   "execution_count": 18,
   "id": "32500762-3da7-4557-b425-20d25d22a8ae",
   "metadata": {},
   "outputs": [
    {
     "data": {
      "text/plain": [
       "'/Users/dave-wadestein/opt/anaconda3/lib/python3.9/string.py'"
      ]
     },
     "execution_count": 18,
     "metadata": {},
     "output_type": "execute_result"
    }
   ],
   "source": [
    "string.__file__"
   ]
  },
  {
   "cell_type": "code",
   "execution_count": null,
   "id": "7f24cfcf-adb6-49fd-967c-441a5fc18200",
   "metadata": {},
   "outputs": [],
   "source": [
    "# help('modules') will give us a list of all available modules"
   ]
  },
  {
   "cell_type": "markdown",
   "id": "213e3bb4-27d7-4261-ab32-5ba8dd1b0eef",
   "metadata": {},
   "source": [
    "# In Python 3.6+, there is something called \"type hinting\"\n",
    "* allows you to earmark a variable as being of a certain type\n",
    "* Python doesn't enforce it, though\n",
    "  * however, there are tools that will let you find errors in typing"
   ]
  },
  {
   "cell_type": "code",
   "execution_count": 28,
   "id": "bf1fbd70-ba48-4f3f-8d24-1931bd688a31",
   "metadata": {},
   "outputs": [],
   "source": [
    "first: int = 1"
   ]
  },
  {
   "cell_type": "code",
   "execution_count": 29,
   "id": "5bb0500e-15b7-4a0a-b83c-ac64e7501460",
   "metadata": {},
   "outputs": [],
   "source": [
    "first = 1.3"
   ]
  },
  {
   "cell_type": "code",
   "execution_count": 30,
   "id": "0b81b157-4cfd-4dd4-ad7b-37d2deacf095",
   "metadata": {},
   "outputs": [
    {
     "data": {
      "text/plain": [
       "'Prince1999'"
      ]
     },
     "execution_count": 30,
     "metadata": {},
     "output_type": "execute_result"
    }
   ],
   "source": [
    "'Prince' + '1999'"
   ]
  },
  {
   "cell_type": "code",
   "execution_count": 35,
   "id": "23730e3e-bbd8-47bb-bd40-6d7b9bb18cc5",
   "metadata": {},
   "outputs": [
    {
     "data": {
      "text/plain": [
       "'1.3house cat'"
      ]
     },
     "execution_count": 35,
     "metadata": {},
     "output_type": "execute_result"
    }
   ],
   "source": [
    "str(first) + 'house' + ' ' + 'cat'"
   ]
  },
  {
   "cell_type": "code",
   "execution_count": 36,
   "id": "1c23264a-6afd-4f78-b209-7adb15f30cf4",
   "metadata": {},
   "outputs": [],
   "source": [
    "import keyword"
   ]
  },
  {
   "cell_type": "code",
   "execution_count": 37,
   "id": "6be92901-a951-446b-9f12-8929492ca94e",
   "metadata": {},
   "outputs": [
    {
     "data": {
      "text/plain": [
       "['False',\n",
       " 'None',\n",
       " 'True',\n",
       " '__peg_parser__',\n",
       " 'and',\n",
       " 'as',\n",
       " 'assert',\n",
       " 'async',\n",
       " 'await',\n",
       " 'break',\n",
       " 'class',\n",
       " 'continue',\n",
       " 'def',\n",
       " 'del',\n",
       " 'elif',\n",
       " 'else',\n",
       " 'except',\n",
       " 'finally',\n",
       " 'for',\n",
       " 'from',\n",
       " 'global',\n",
       " 'if',\n",
       " 'import',\n",
       " 'in',\n",
       " 'is',\n",
       " 'lambda',\n",
       " 'nonlocal',\n",
       " 'not',\n",
       " 'or',\n",
       " 'pass',\n",
       " 'raise',\n",
       " 'return',\n",
       " 'try',\n",
       " 'while',\n",
       " 'with',\n",
       " 'yield']"
      ]
     },
     "execution_count": 37,
     "metadata": {},
     "output_type": "execute_result"
    }
   ],
   "source": [
    "keyword.kwlist"
   ]
  },
  {
   "cell_type": "code",
   "execution_count": 38,
   "id": "920360dd-e447-448d-985f-54200ad5bd55",
   "metadata": {},
   "outputs": [],
   "source": [
    "b = False"
   ]
  },
  {
   "cell_type": "code",
   "execution_count": 39,
   "id": "f2905509-3d4a-47b2-a415-c3ac27c1ed33",
   "metadata": {},
   "outputs": [
    {
     "data": {
      "text/plain": [
       "bool"
      ]
     },
     "execution_count": 39,
     "metadata": {},
     "output_type": "execute_result"
    }
   ],
   "source": [
    "type(b)"
   ]
  },
  {
   "cell_type": "code",
   "execution_count": 40,
   "id": "a24e830e-4d89-49fa-b0f6-a066e0a48640",
   "metadata": {},
   "outputs": [
    {
     "data": {
      "text/plain": [
       "133000000000000.0"
      ]
     },
     "execution_count": 40,
     "metadata": {},
     "output_type": "execute_result"
    }
   ],
   "source": [
    "1.33e14"
   ]
  },
  {
   "cell_type": "code",
   "execution_count": 45,
   "id": "795d60e8-d415-47a8-ade0-687e88ce1cad",
   "metadata": {},
   "outputs": [],
   "source": [
    "x, y = 1.5, -1.5"
   ]
  },
  {
   "cell_type": "code",
   "execution_count": 47,
   "id": "2750f9f2-ca23-41b2-8c08-fb4f582d545a",
   "metadata": {},
   "outputs": [],
   "source": [
    "first, last = 'Margaret', 'Hamilton'"
   ]
  },
  {
   "cell_type": "code",
   "execution_count": 48,
   "id": "c3e04277-58e0-4e57-800d-37774769dfa8",
   "metadata": {},
   "outputs": [
    {
     "data": {
      "text/plain": [
       "'Margaret'"
      ]
     },
     "execution_count": 48,
     "metadata": {},
     "output_type": "execute_result"
    }
   ],
   "source": [
    "first"
   ]
  },
  {
   "cell_type": "code",
   "execution_count": 49,
   "id": "b8f14373-d566-4b35-839e-6df46707b0a3",
   "metadata": {},
   "outputs": [
    {
     "data": {
      "text/plain": [
       "16"
      ]
     },
     "execution_count": 49,
     "metadata": {},
     "output_type": "execute_result"
    }
   ],
   "source": [
    "s = 4\n",
    "s * 4"
   ]
  },
  {
   "cell_type": "code",
   "execution_count": 50,
   "id": "ed47277a-61c1-4167-99bd-6929b6068012",
   "metadata": {},
   "outputs": [
    {
     "data": {
      "text/plain": [
       "'4444'"
      ]
     },
     "execution_count": 50,
     "metadata": {},
     "output_type": "execute_result"
    }
   ],
   "source": [
    "s = '4'\n",
    "s * 4"
   ]
  },
  {
   "cell_type": "code",
   "execution_count": 51,
   "id": "d213bc3b-b716-4f41-b1a4-bbb132789e97",
   "metadata": {},
   "outputs": [
    {
     "data": {
      "text/plain": [
       "4"
      ]
     },
     "execution_count": 51,
     "metadata": {},
     "output_type": "execute_result"
    }
   ],
   "source": [
    "2 + 2"
   ]
  },
  {
   "cell_type": "code",
   "execution_count": 52,
   "id": "7423e98f-54e9-4d36-a41f-843a75e14938",
   "metadata": {},
   "outputs": [
    {
     "data": {
      "text/plain": [
       "'22'"
      ]
     },
     "execution_count": 52,
     "metadata": {},
     "output_type": "execute_result"
    }
   ],
   "source": [
    "'2' + '2'"
   ]
  },
  {
   "cell_type": "code",
   "execution_count": 53,
   "id": "92bbd633-3278-40e0-a51d-6d4af0dae6ae",
   "metadata": {},
   "outputs": [
    {
     "data": {
      "text/plain": [
       "'pop'"
      ]
     },
     "execution_count": 53,
     "metadata": {},
     "output_type": "execute_result"
    }
   ],
   "source": [
    "a, b, o, p = 'b', 'a', 'p', 'o'\n",
    "o + p + o"
   ]
  },
  {
   "cell_type": "code",
   "execution_count": 54,
   "id": "58c09d3a-65a3-469a-a611-693b633542af",
   "metadata": {},
   "outputs": [
    {
     "data": {
      "text/plain": [
       "'bbba'"
      ]
     },
     "execution_count": 54,
     "metadata": {},
     "output_type": "execute_result"
    }
   ],
   "source": [
    "a * 3 + b"
   ]
  },
  {
   "cell_type": "code",
   "execution_count": 55,
   "id": "7ca29c70-8e35-4fb7-99ae-5320e246156a",
   "metadata": {},
   "outputs": [
    {
     "data": {
      "text/plain": [
       "'bookkeeper'"
      ]
     },
     "execution_count": 55,
     "metadata": {},
     "output_type": "execute_result"
    }
   ],
   "source": [
    "a + p * 2 + 'k' * 2 + 'e' * 2 + o + 'er'"
   ]
  },
  {
   "cell_type": "code",
   "execution_count": 56,
   "id": "e60ab731-0eb8-4963-b505-ef387e0bbec7",
   "metadata": {},
   "outputs": [],
   "source": [
    "count = 50 # scalar, a single value"
   ]
  },
  {
   "cell_type": "code",
   "execution_count": 57,
   "id": "252aab1a-412b-464f-b498-b18c97096f72",
   "metadata": {},
   "outputs": [],
   "source": [
    "count = 'five' # str, 0+ more characters"
   ]
  },
  {
   "cell_type": "code",
   "execution_count": 58,
   "id": "5733044e-2c69-4b4f-97bc-2f3ae9f36177",
   "metadata": {},
   "outputs": [
    {
     "data": {
      "text/plain": [
       "True"
      ]
     },
     "execution_count": 58,
     "metadata": {},
     "output_type": "execute_result"
    }
   ],
   "source": [
    "5 > 3"
   ]
  },
  {
   "cell_type": "code",
   "execution_count": 59,
   "id": "fb0b91d1-af58-4484-9b93-d6b315bc5df4",
   "metadata": {},
   "outputs": [
    {
     "data": {
      "text/plain": [
       "True"
      ]
     },
     "execution_count": 59,
     "metadata": {},
     "output_type": "execute_result"
    }
   ],
   "source": [
    "'S' in 'Susquehanna'"
   ]
  },
  {
   "cell_type": "code",
   "execution_count": 62,
   "id": "9127b15e-9a08-4971-9efb-25a3c67af5a5",
   "metadata": {},
   "outputs": [
    {
     "data": {
      "text/plain": [
       "False"
      ]
     },
     "execution_count": 62,
     "metadata": {},
     "output_type": "execute_result"
    }
   ],
   "source": [
    "'Que' in 'Susquehanna'"
   ]
  },
  {
   "cell_type": "code",
   "execution_count": 61,
   "id": "9cc79435-dcf4-4b94-b1c0-022d0d8f7711",
   "metadata": {},
   "outputs": [
    {
     "data": {
      "text/plain": [
       "False"
      ]
     },
     "execution_count": 61,
     "metadata": {},
     "output_type": "execute_result"
    }
   ],
   "source": [
    "'sqh' in 'Susquehanna'"
   ]
  },
  {
   "cell_type": "code",
   "execution_count": 65,
   "id": "4514f11c-215a-4a8d-916b-773fb9aec05a",
   "metadata": {},
   "outputs": [
    {
     "data": {
      "text/plain": [
       "29"
      ]
     },
     "execution_count": 65,
     "metadata": {},
     "output_type": "execute_result"
    }
   ],
   "source": [
    "(5 + 3) * 8"
   ]
  },
  {
   "cell_type": "code",
   "execution_count": 66,
   "id": "0c2cb19f-b96c-4ff4-9c5d-a05ab6bfe9c7",
   "metadata": {},
   "outputs": [],
   "source": [
    "# PEMDAS = parens, exponentiation, mult/div, add/sub"
   ]
  },
  {
   "cell_type": "code",
   "execution_count": 67,
   "id": "a2c94fd0-6e64-4ca9-a167-2f213304c7a3",
   "metadata": {},
   "outputs": [],
   "source": [
    "import random"
   ]
  },
  {
   "cell_type": "code",
   "execution_count": 68,
   "id": "e79ad3d9-9c43-4f53-8849-b522f2cdcd53",
   "metadata": {},
   "outputs": [
    {
     "data": {
      "text/plain": [
       "['BPF',\n",
       " 'LOG4',\n",
       " 'NV_MAGICCONST',\n",
       " 'RECIP_BPF',\n",
       " 'Random',\n",
       " 'SG_MAGICCONST',\n",
       " 'SystemRandom',\n",
       " 'TWOPI',\n",
       " '_Sequence',\n",
       " '_Set',\n",
       " '__all__',\n",
       " '__builtins__',\n",
       " '__cached__',\n",
       " '__doc__',\n",
       " '__file__',\n",
       " '__loader__',\n",
       " '__name__',\n",
       " '__package__',\n",
       " '__spec__',\n",
       " '__warningregistry__',\n",
       " '_accumulate',\n",
       " '_acos',\n",
       " '_bisect',\n",
       " '_ceil',\n",
       " '_cos',\n",
       " '_e',\n",
       " '_exp',\n",
       " '_floor',\n",
       " '_inst',\n",
       " '_log',\n",
       " '_os',\n",
       " '_pi',\n",
       " '_random',\n",
       " '_repeat',\n",
       " '_sha512',\n",
       " '_sin',\n",
       " '_sqrt',\n",
       " '_test',\n",
       " '_test_generator',\n",
       " '_urandom',\n",
       " '_warn',\n",
       " 'betavariate',\n",
       " 'choice',\n",
       " 'choices',\n",
       " 'expovariate',\n",
       " 'gammavariate',\n",
       " 'gauss',\n",
       " 'getrandbits',\n",
       " 'getstate',\n",
       " 'lognormvariate',\n",
       " 'normalvariate',\n",
       " 'paretovariate',\n",
       " 'randbytes',\n",
       " 'randint',\n",
       " 'random',\n",
       " 'randrange',\n",
       " 'sample',\n",
       " 'seed',\n",
       " 'setstate',\n",
       " 'shuffle',\n",
       " 'triangular',\n",
       " 'uniform',\n",
       " 'vonmisesvariate',\n",
       " 'weibullvariate']"
      ]
     },
     "execution_count": 68,
     "metadata": {},
     "output_type": "execute_result"
    }
   ],
   "source": [
    "dir(random)"
   ]
  },
  {
   "cell_type": "code",
   "execution_count": 69,
   "id": "dfc31672-f323-4f0b-8d61-4470c177da69",
   "metadata": {},
   "outputs": [
    {
     "name": "stdout",
     "output_type": "stream",
     "text": [
      "Help on module random:\n",
      "\n",
      "NAME\n",
      "    random - Random variable generators.\n",
      "\n",
      "MODULE REFERENCE\n",
      "    https://docs.python.org/3.9/library/random\n",
      "    \n",
      "    The following documentation is automatically generated from the Python\n",
      "    source files.  It may be incomplete, incorrect or include features that\n",
      "    are considered implementation detail and may vary between Python\n",
      "    implementations.  When in doubt, consult the module reference at the\n",
      "    location listed above.\n",
      "\n",
      "DESCRIPTION\n",
      "        bytes\n",
      "        -----\n",
      "               uniform bytes (values between 0 and 255)\n",
      "    \n",
      "        integers\n",
      "        --------\n",
      "               uniform within range\n",
      "    \n",
      "        sequences\n",
      "        ---------\n",
      "               pick random element\n",
      "               pick random sample\n",
      "               pick weighted random sample\n",
      "               generate random permutation\n",
      "    \n",
      "        distributions on the real line:\n",
      "        ------------------------------\n",
      "               uniform\n",
      "               triangular\n",
      "               normal (Gaussian)\n",
      "               lognormal\n",
      "               negative exponential\n",
      "               gamma\n",
      "               beta\n",
      "               pareto\n",
      "               Weibull\n",
      "    \n",
      "        distributions on the circle (angles 0 to 2pi)\n",
      "        ---------------------------------------------\n",
      "               circular uniform\n",
      "               von Mises\n",
      "    \n",
      "    General notes on the underlying Mersenne Twister core generator:\n",
      "    \n",
      "    * The period is 2**19937-1.\n",
      "    * It is one of the most extensively tested generators in existence.\n",
      "    * The random() method is implemented in C, executes in a single Python step,\n",
      "      and is, therefore, threadsafe.\n",
      "\n",
      "CLASSES\n",
      "    _random.Random(builtins.object)\n",
      "        Random\n",
      "            SystemRandom\n",
      "    \n",
      "    class Random(_random.Random)\n",
      "     |  Random(x=None)\n",
      "     |  \n",
      "     |  Random number generator base class used by bound module functions.\n",
      "     |  \n",
      "     |  Used to instantiate instances of Random to get generators that don't\n",
      "     |  share state.\n",
      "     |  \n",
      "     |  Class Random can also be subclassed if you want to use a different basic\n",
      "     |  generator of your own devising: in that case, override the following\n",
      "     |  methods:  random(), seed(), getstate(), and setstate().\n",
      "     |  Optionally, implement a getrandbits() method so that randrange()\n",
      "     |  can cover arbitrarily large ranges.\n",
      "     |  \n",
      "     |  Method resolution order:\n",
      "     |      Random\n",
      "     |      _random.Random\n",
      "     |      builtins.object\n",
      "     |  \n",
      "     |  Methods defined here:\n",
      "     |  \n",
      "     |  __getstate__(self)\n",
      "     |      # Issue 17489: Since __reduce__ was defined to fix #759889 this is no\n",
      "     |      # longer called; we leave it here because it has been here since random was\n",
      "     |      # rewritten back in 2001 and why risk breaking something.\n",
      "     |  \n",
      "     |  __init__(self, x=None)\n",
      "     |      Initialize an instance.\n",
      "     |      \n",
      "     |      Optional argument x controls seeding, as for Random.seed().\n",
      "     |  \n",
      "     |  __reduce__(self)\n",
      "     |      Helper for pickle.\n",
      "     |  \n",
      "     |  __setstate__(self, state)\n",
      "     |  \n",
      "     |  betavariate(self, alpha, beta)\n",
      "     |      Beta distribution.\n",
      "     |      \n",
      "     |      Conditions on the parameters are alpha > 0 and beta > 0.\n",
      "     |      Returned values range between 0 and 1.\n",
      "     |  \n",
      "     |  choice(self, seq)\n",
      "     |      Choose a random element from a non-empty sequence.\n",
      "     |  \n",
      "     |  choices(self, population, weights=None, *, cum_weights=None, k=1)\n",
      "     |      Return a k sized list of population elements chosen with replacement.\n",
      "     |      \n",
      "     |      If the relative weights or cumulative weights are not specified,\n",
      "     |      the selections are made with equal probability.\n",
      "     |  \n",
      "     |  expovariate(self, lambd)\n",
      "     |      Exponential distribution.\n",
      "     |      \n",
      "     |      lambd is 1.0 divided by the desired mean.  It should be\n",
      "     |      nonzero.  (The parameter would be called \"lambda\", but that is\n",
      "     |      a reserved word in Python.)  Returned values range from 0 to\n",
      "     |      positive infinity if lambd is positive, and from negative\n",
      "     |      infinity to 0 if lambd is negative.\n",
      "     |  \n",
      "     |  gammavariate(self, alpha, beta)\n",
      "     |      Gamma distribution.  Not the gamma function!\n",
      "     |      \n",
      "     |      Conditions on the parameters are alpha > 0 and beta > 0.\n",
      "     |      \n",
      "     |      The probability distribution function is:\n",
      "     |      \n",
      "     |                  x ** (alpha - 1) * math.exp(-x / beta)\n",
      "     |        pdf(x) =  --------------------------------------\n",
      "     |                    math.gamma(alpha) * beta ** alpha\n",
      "     |  \n",
      "     |  gauss(self, mu, sigma)\n",
      "     |      Gaussian distribution.\n",
      "     |      \n",
      "     |      mu is the mean, and sigma is the standard deviation.  This is\n",
      "     |      slightly faster than the normalvariate() function.\n",
      "     |      \n",
      "     |      Not thread-safe without a lock around calls.\n",
      "     |  \n",
      "     |  getstate(self)\n",
      "     |      Return internal state; can be passed to setstate() later.\n",
      "     |  \n",
      "     |  lognormvariate(self, mu, sigma)\n",
      "     |      Log normal distribution.\n",
      "     |      \n",
      "     |      If you take the natural logarithm of this distribution, you'll get a\n",
      "     |      normal distribution with mean mu and standard deviation sigma.\n",
      "     |      mu can have any value, and sigma must be greater than zero.\n",
      "     |  \n",
      "     |  normalvariate(self, mu, sigma)\n",
      "     |      Normal distribution.\n",
      "     |      \n",
      "     |      mu is the mean, and sigma is the standard deviation.\n",
      "     |  \n",
      "     |  paretovariate(self, alpha)\n",
      "     |      Pareto distribution.  alpha is the shape parameter.\n",
      "     |  \n",
      "     |  randbytes(self, n)\n",
      "     |      Generate n random bytes.\n",
      "     |  \n",
      "     |  randint(self, a, b)\n",
      "     |      Return random integer in range [a, b], including both end points.\n",
      "     |  \n",
      "     |  randrange(self, start, stop=None, step=1)\n",
      "     |      Choose a random item from range(start, stop[, step]).\n",
      "     |      \n",
      "     |      This fixes the problem with randint() which includes the\n",
      "     |      endpoint; in Python this is usually not what you want.\n",
      "     |  \n",
      "     |  sample(self, population, k, *, counts=None)\n",
      "     |      Chooses k unique random elements from a population sequence or set.\n",
      "     |      \n",
      "     |      Returns a new list containing elements from the population while\n",
      "     |      leaving the original population unchanged.  The resulting list is\n",
      "     |      in selection order so that all sub-slices will also be valid random\n",
      "     |      samples.  This allows raffle winners (the sample) to be partitioned\n",
      "     |      into grand prize and second place winners (the subslices).\n",
      "     |      \n",
      "     |      Members of the population need not be hashable or unique.  If the\n",
      "     |      population contains repeats, then each occurrence is a possible\n",
      "     |      selection in the sample.\n",
      "     |      \n",
      "     |      Repeated elements can be specified one at a time or with the optional\n",
      "     |      counts parameter.  For example:\n",
      "     |      \n",
      "     |          sample(['red', 'blue'], counts=[4, 2], k=5)\n",
      "     |      \n",
      "     |      is equivalent to:\n",
      "     |      \n",
      "     |          sample(['red', 'red', 'red', 'red', 'blue', 'blue'], k=5)\n",
      "     |      \n",
      "     |      To choose a sample from a range of integers, use range() for the\n",
      "     |      population argument.  This is especially fast and space efficient\n",
      "     |      for sampling from a large population:\n",
      "     |      \n",
      "     |          sample(range(10000000), 60)\n",
      "     |  \n",
      "     |  seed(self, a=None, version=2)\n",
      "     |      Initialize internal state from a seed.\n",
      "     |      \n",
      "     |      The only supported seed types are None, int, float,\n",
      "     |      str, bytes, and bytearray.\n",
      "     |      \n",
      "     |      None or no argument seeds from current time or from an operating\n",
      "     |      system specific randomness source if available.\n",
      "     |      \n",
      "     |      If *a* is an int, all bits are used.\n",
      "     |      \n",
      "     |      For version 2 (the default), all of the bits are used if *a* is a str,\n",
      "     |      bytes, or bytearray.  For version 1 (provided for reproducing random\n",
      "     |      sequences from older versions of Python), the algorithm for str and\n",
      "     |      bytes generates a narrower range of seeds.\n",
      "     |  \n",
      "     |  setstate(self, state)\n",
      "     |      Restore internal state from object returned by getstate().\n",
      "     |  \n",
      "     |  shuffle(self, x, random=None)\n",
      "     |      Shuffle list x in place, and return None.\n",
      "     |      \n",
      "     |      Optional argument random is a 0-argument function returning a\n",
      "     |      random float in [0.0, 1.0); if it is the default None, the\n",
      "     |      standard random.random will be used.\n",
      "     |  \n",
      "     |  triangular(self, low=0.0, high=1.0, mode=None)\n",
      "     |      Triangular distribution.\n",
      "     |      \n",
      "     |      Continuous distribution bounded by given lower and upper limits,\n",
      "     |      and having a given mode value in-between.\n",
      "     |      \n",
      "     |      http://en.wikipedia.org/wiki/Triangular_distribution\n",
      "     |  \n",
      "     |  uniform(self, a, b)\n",
      "     |      Get a random number in the range [a, b) or [a, b] depending on rounding.\n",
      "     |  \n",
      "     |  vonmisesvariate(self, mu, kappa)\n",
      "     |      Circular data distribution.\n",
      "     |      \n",
      "     |      mu is the mean angle, expressed in radians between 0 and 2*pi, and\n",
      "     |      kappa is the concentration parameter, which must be greater than or\n",
      "     |      equal to zero.  If kappa is equal to zero, this distribution reduces\n",
      "     |      to a uniform random angle over the range 0 to 2*pi.\n",
      "     |  \n",
      "     |  weibullvariate(self, alpha, beta)\n",
      "     |      Weibull distribution.\n",
      "     |      \n",
      "     |      alpha is the scale parameter and beta is the shape parameter.\n",
      "     |  \n",
      "     |  ----------------------------------------------------------------------\n",
      "     |  Class methods defined here:\n",
      "     |  \n",
      "     |  __init_subclass__(**kwargs) from builtins.type\n",
      "     |      Control how subclasses generate random integers.\n",
      "     |      \n",
      "     |      The algorithm a subclass can use depends on the random() and/or\n",
      "     |      getrandbits() implementation available to it and determines\n",
      "     |      whether it can generate random integers from arbitrarily large\n",
      "     |      ranges.\n",
      "     |  \n",
      "     |  ----------------------------------------------------------------------\n",
      "     |  Data descriptors defined here:\n",
      "     |  \n",
      "     |  __dict__\n",
      "     |      dictionary for instance variables (if defined)\n",
      "     |  \n",
      "     |  __weakref__\n",
      "     |      list of weak references to the object (if defined)\n",
      "     |  \n",
      "     |  ----------------------------------------------------------------------\n",
      "     |  Data and other attributes defined here:\n",
      "     |  \n",
      "     |  VERSION = 3\n",
      "     |  \n",
      "     |  ----------------------------------------------------------------------\n",
      "     |  Methods inherited from _random.Random:\n",
      "     |  \n",
      "     |  getrandbits(self, k, /)\n",
      "     |      getrandbits(k) -> x.  Generates an int with k random bits.\n",
      "     |  \n",
      "     |  random(self, /)\n",
      "     |      random() -> x in the interval [0, 1).\n",
      "     |  \n",
      "     |  ----------------------------------------------------------------------\n",
      "     |  Static methods inherited from _random.Random:\n",
      "     |  \n",
      "     |  __new__(*args, **kwargs) from builtins.type\n",
      "     |      Create and return a new object.  See help(type) for accurate signature.\n",
      "    \n",
      "    class SystemRandom(Random)\n",
      "     |  SystemRandom(x=None)\n",
      "     |  \n",
      "     |  Alternate random number generator using sources provided\n",
      "     |  by the operating system (such as /dev/urandom on Unix or\n",
      "     |  CryptGenRandom on Windows).\n",
      "     |  \n",
      "     |   Not available on all systems (see os.urandom() for details).\n",
      "     |  \n",
      "     |  Method resolution order:\n",
      "     |      SystemRandom\n",
      "     |      Random\n",
      "     |      _random.Random\n",
      "     |      builtins.object\n",
      "     |  \n",
      "     |  Methods defined here:\n",
      "     |  \n",
      "     |  getrandbits(self, k)\n",
      "     |      getrandbits(k) -> x.  Generates an int with k random bits.\n",
      "     |  \n",
      "     |  getstate = _notimplemented(self, *args, **kwds)\n",
      "     |  \n",
      "     |  randbytes(self, n)\n",
      "     |      Generate n random bytes.\n",
      "     |  \n",
      "     |  random(self)\n",
      "     |      Get the next random number in the range [0.0, 1.0).\n",
      "     |  \n",
      "     |  seed(self, *args, **kwds)\n",
      "     |      Stub method.  Not used for a system random number generator.\n",
      "     |  \n",
      "     |  setstate = _notimplemented(self, *args, **kwds)\n",
      "     |  \n",
      "     |  ----------------------------------------------------------------------\n",
      "     |  Methods inherited from Random:\n",
      "     |  \n",
      "     |  __getstate__(self)\n",
      "     |      # Issue 17489: Since __reduce__ was defined to fix #759889 this is no\n",
      "     |      # longer called; we leave it here because it has been here since random was\n",
      "     |      # rewritten back in 2001 and why risk breaking something.\n",
      "     |  \n",
      "     |  __init__(self, x=None)\n",
      "     |      Initialize an instance.\n",
      "     |      \n",
      "     |      Optional argument x controls seeding, as for Random.seed().\n",
      "     |  \n",
      "     |  __reduce__(self)\n",
      "     |      Helper for pickle.\n",
      "     |  \n",
      "     |  __setstate__(self, state)\n",
      "     |  \n",
      "     |  betavariate(self, alpha, beta)\n",
      "     |      Beta distribution.\n",
      "     |      \n",
      "     |      Conditions on the parameters are alpha > 0 and beta > 0.\n",
      "     |      Returned values range between 0 and 1.\n",
      "     |  \n",
      "     |  choice(self, seq)\n",
      "     |      Choose a random element from a non-empty sequence.\n",
      "     |  \n",
      "     |  choices(self, population, weights=None, *, cum_weights=None, k=1)\n",
      "     |      Return a k sized list of population elements chosen with replacement.\n",
      "     |      \n",
      "     |      If the relative weights or cumulative weights are not specified,\n",
      "     |      the selections are made with equal probability.\n",
      "     |  \n",
      "     |  expovariate(self, lambd)\n",
      "     |      Exponential distribution.\n",
      "     |      \n",
      "     |      lambd is 1.0 divided by the desired mean.  It should be\n",
      "     |      nonzero.  (The parameter would be called \"lambda\", but that is\n",
      "     |      a reserved word in Python.)  Returned values range from 0 to\n",
      "     |      positive infinity if lambd is positive, and from negative\n",
      "     |      infinity to 0 if lambd is negative.\n",
      "     |  \n",
      "     |  gammavariate(self, alpha, beta)\n",
      "     |      Gamma distribution.  Not the gamma function!\n",
      "     |      \n",
      "     |      Conditions on the parameters are alpha > 0 and beta > 0.\n",
      "     |      \n",
      "     |      The probability distribution function is:\n",
      "     |      \n",
      "     |                  x ** (alpha - 1) * math.exp(-x / beta)\n",
      "     |        pdf(x) =  --------------------------------------\n",
      "     |                    math.gamma(alpha) * beta ** alpha\n",
      "     |  \n",
      "     |  gauss(self, mu, sigma)\n",
      "     |      Gaussian distribution.\n",
      "     |      \n",
      "     |      mu is the mean, and sigma is the standard deviation.  This is\n",
      "     |      slightly faster than the normalvariate() function.\n",
      "     |      \n",
      "     |      Not thread-safe without a lock around calls.\n",
      "     |  \n",
      "     |  lognormvariate(self, mu, sigma)\n",
      "     |      Log normal distribution.\n",
      "     |      \n",
      "     |      If you take the natural logarithm of this distribution, you'll get a\n",
      "     |      normal distribution with mean mu and standard deviation sigma.\n",
      "     |      mu can have any value, and sigma must be greater than zero.\n",
      "     |  \n",
      "     |  normalvariate(self, mu, sigma)\n",
      "     |      Normal distribution.\n",
      "     |      \n",
      "     |      mu is the mean, and sigma is the standard deviation.\n",
      "     |  \n",
      "     |  paretovariate(self, alpha)\n",
      "     |      Pareto distribution.  alpha is the shape parameter.\n",
      "     |  \n",
      "     |  randint(self, a, b)\n",
      "     |      Return random integer in range [a, b], including both end points.\n",
      "     |  \n",
      "     |  randrange(self, start, stop=None, step=1)\n",
      "     |      Choose a random item from range(start, stop[, step]).\n",
      "     |      \n",
      "     |      This fixes the problem with randint() which includes the\n",
      "     |      endpoint; in Python this is usually not what you want.\n",
      "     |  \n",
      "     |  sample(self, population, k, *, counts=None)\n",
      "     |      Chooses k unique random elements from a population sequence or set.\n",
      "     |      \n",
      "     |      Returns a new list containing elements from the population while\n",
      "     |      leaving the original population unchanged.  The resulting list is\n",
      "     |      in selection order so that all sub-slices will also be valid random\n",
      "     |      samples.  This allows raffle winners (the sample) to be partitioned\n",
      "     |      into grand prize and second place winners (the subslices).\n",
      "     |      \n",
      "     |      Members of the population need not be hashable or unique.  If the\n",
      "     |      population contains repeats, then each occurrence is a possible\n",
      "     |      selection in the sample.\n",
      "     |      \n",
      "     |      Repeated elements can be specified one at a time or with the optional\n",
      "     |      counts parameter.  For example:\n",
      "     |      \n",
      "     |          sample(['red', 'blue'], counts=[4, 2], k=5)\n",
      "     |      \n",
      "     |      is equivalent to:\n",
      "     |      \n",
      "     |          sample(['red', 'red', 'red', 'red', 'blue', 'blue'], k=5)\n",
      "     |      \n",
      "     |      To choose a sample from a range of integers, use range() for the\n",
      "     |      population argument.  This is especially fast and space efficient\n",
      "     |      for sampling from a large population:\n",
      "     |      \n",
      "     |          sample(range(10000000), 60)\n",
      "     |  \n",
      "     |  shuffle(self, x, random=None)\n",
      "     |      Shuffle list x in place, and return None.\n",
      "     |      \n",
      "     |      Optional argument random is a 0-argument function returning a\n",
      "     |      random float in [0.0, 1.0); if it is the default None, the\n",
      "     |      standard random.random will be used.\n",
      "     |  \n",
      "     |  triangular(self, low=0.0, high=1.0, mode=None)\n",
      "     |      Triangular distribution.\n",
      "     |      \n",
      "     |      Continuous distribution bounded by given lower and upper limits,\n",
      "     |      and having a given mode value in-between.\n",
      "     |      \n",
      "     |      http://en.wikipedia.org/wiki/Triangular_distribution\n",
      "     |  \n",
      "     |  uniform(self, a, b)\n",
      "     |      Get a random number in the range [a, b) or [a, b] depending on rounding.\n",
      "     |  \n",
      "     |  vonmisesvariate(self, mu, kappa)\n",
      "     |      Circular data distribution.\n",
      "     |      \n",
      "     |      mu is the mean angle, expressed in radians between 0 and 2*pi, and\n",
      "     |      kappa is the concentration parameter, which must be greater than or\n",
      "     |      equal to zero.  If kappa is equal to zero, this distribution reduces\n",
      "     |      to a uniform random angle over the range 0 to 2*pi.\n",
      "     |  \n",
      "     |  weibullvariate(self, alpha, beta)\n",
      "     |      Weibull distribution.\n",
      "     |      \n",
      "     |      alpha is the scale parameter and beta is the shape parameter.\n",
      "     |  \n",
      "     |  ----------------------------------------------------------------------\n",
      "     |  Class methods inherited from Random:\n",
      "     |  \n",
      "     |  __init_subclass__(**kwargs) from builtins.type\n",
      "     |      Control how subclasses generate random integers.\n",
      "     |      \n",
      "     |      The algorithm a subclass can use depends on the random() and/or\n",
      "     |      getrandbits() implementation available to it and determines\n",
      "     |      whether it can generate random integers from arbitrarily large\n",
      "     |      ranges.\n",
      "     |  \n",
      "     |  ----------------------------------------------------------------------\n",
      "     |  Data descriptors inherited from Random:\n",
      "     |  \n",
      "     |  __dict__\n",
      "     |      dictionary for instance variables (if defined)\n",
      "     |  \n",
      "     |  __weakref__\n",
      "     |      list of weak references to the object (if defined)\n",
      "     |  \n",
      "     |  ----------------------------------------------------------------------\n",
      "     |  Data and other attributes inherited from Random:\n",
      "     |  \n",
      "     |  VERSION = 3\n",
      "     |  \n",
      "     |  ----------------------------------------------------------------------\n",
      "     |  Static methods inherited from _random.Random:\n",
      "     |  \n",
      "     |  __new__(*args, **kwargs) from builtins.type\n",
      "     |      Create and return a new object.  See help(type) for accurate signature.\n",
      "\n",
      "FUNCTIONS\n",
      "    betavariate(alpha, beta) method of Random instance\n",
      "        Beta distribution.\n",
      "        \n",
      "        Conditions on the parameters are alpha > 0 and beta > 0.\n",
      "        Returned values range between 0 and 1.\n",
      "    \n",
      "    choice(seq) method of Random instance\n",
      "        Choose a random element from a non-empty sequence.\n",
      "    \n",
      "    choices(population, weights=None, *, cum_weights=None, k=1) method of Random instance\n",
      "        Return a k sized list of population elements chosen with replacement.\n",
      "        \n",
      "        If the relative weights or cumulative weights are not specified,\n",
      "        the selections are made with equal probability.\n",
      "    \n",
      "    expovariate(lambd) method of Random instance\n",
      "        Exponential distribution.\n",
      "        \n",
      "        lambd is 1.0 divided by the desired mean.  It should be\n",
      "        nonzero.  (The parameter would be called \"lambda\", but that is\n",
      "        a reserved word in Python.)  Returned values range from 0 to\n",
      "        positive infinity if lambd is positive, and from negative\n",
      "        infinity to 0 if lambd is negative.\n",
      "    \n",
      "    gammavariate(alpha, beta) method of Random instance\n",
      "        Gamma distribution.  Not the gamma function!\n",
      "        \n",
      "        Conditions on the parameters are alpha > 0 and beta > 0.\n",
      "        \n",
      "        The probability distribution function is:\n",
      "        \n",
      "                    x ** (alpha - 1) * math.exp(-x / beta)\n",
      "          pdf(x) =  --------------------------------------\n",
      "                      math.gamma(alpha) * beta ** alpha\n",
      "    \n",
      "    gauss(mu, sigma) method of Random instance\n",
      "        Gaussian distribution.\n",
      "        \n",
      "        mu is the mean, and sigma is the standard deviation.  This is\n",
      "        slightly faster than the normalvariate() function.\n",
      "        \n",
      "        Not thread-safe without a lock around calls.\n",
      "    \n",
      "    getrandbits(k, /) method of Random instance\n",
      "        getrandbits(k) -> x.  Generates an int with k random bits.\n",
      "    \n",
      "    getstate() method of Random instance\n",
      "        Return internal state; can be passed to setstate() later.\n",
      "    \n",
      "    lognormvariate(mu, sigma) method of Random instance\n",
      "        Log normal distribution.\n",
      "        \n",
      "        If you take the natural logarithm of this distribution, you'll get a\n",
      "        normal distribution with mean mu and standard deviation sigma.\n",
      "        mu can have any value, and sigma must be greater than zero.\n",
      "    \n",
      "    normalvariate(mu, sigma) method of Random instance\n",
      "        Normal distribution.\n",
      "        \n",
      "        mu is the mean, and sigma is the standard deviation.\n",
      "    \n",
      "    paretovariate(alpha) method of Random instance\n",
      "        Pareto distribution.  alpha is the shape parameter.\n",
      "    \n",
      "    randbytes(n) method of Random instance\n",
      "        Generate n random bytes.\n",
      "    \n",
      "    randint(a, b) method of Random instance\n",
      "        Return random integer in range [a, b], including both end points.\n",
      "    \n",
      "    random() method of Random instance\n",
      "        random() -> x in the interval [0, 1).\n",
      "    \n",
      "    randrange(start, stop=None, step=1) method of Random instance\n",
      "        Choose a random item from range(start, stop[, step]).\n",
      "        \n",
      "        This fixes the problem with randint() which includes the\n",
      "        endpoint; in Python this is usually not what you want.\n",
      "    \n",
      "    sample(population, k, *, counts=None) method of Random instance\n",
      "        Chooses k unique random elements from a population sequence or set.\n",
      "        \n",
      "        Returns a new list containing elements from the population while\n",
      "        leaving the original population unchanged.  The resulting list is\n",
      "        in selection order so that all sub-slices will also be valid random\n",
      "        samples.  This allows raffle winners (the sample) to be partitioned\n",
      "        into grand prize and second place winners (the subslices).\n",
      "        \n",
      "        Members of the population need not be hashable or unique.  If the\n",
      "        population contains repeats, then each occurrence is a possible\n",
      "        selection in the sample.\n",
      "        \n",
      "        Repeated elements can be specified one at a time or with the optional\n",
      "        counts parameter.  For example:\n",
      "        \n",
      "            sample(['red', 'blue'], counts=[4, 2], k=5)\n",
      "        \n",
      "        is equivalent to:\n",
      "        \n",
      "            sample(['red', 'red', 'red', 'red', 'blue', 'blue'], k=5)\n",
      "        \n",
      "        To choose a sample from a range of integers, use range() for the\n",
      "        population argument.  This is especially fast and space efficient\n",
      "        for sampling from a large population:\n",
      "        \n",
      "            sample(range(10000000), 60)\n",
      "    \n",
      "    seed(a=None, version=2) method of Random instance\n",
      "        Initialize internal state from a seed.\n",
      "        \n",
      "        The only supported seed types are None, int, float,\n",
      "        str, bytes, and bytearray.\n",
      "        \n",
      "        None or no argument seeds from current time or from an operating\n",
      "        system specific randomness source if available.\n",
      "        \n",
      "        If *a* is an int, all bits are used.\n",
      "        \n",
      "        For version 2 (the default), all of the bits are used if *a* is a str,\n",
      "        bytes, or bytearray.  For version 1 (provided for reproducing random\n",
      "        sequences from older versions of Python), the algorithm for str and\n",
      "        bytes generates a narrower range of seeds.\n",
      "    \n",
      "    setstate(state) method of Random instance\n",
      "        Restore internal state from object returned by getstate().\n",
      "    \n",
      "    shuffle(x, random=None) method of Random instance\n",
      "        Shuffle list x in place, and return None.\n",
      "        \n",
      "        Optional argument random is a 0-argument function returning a\n",
      "        random float in [0.0, 1.0); if it is the default None, the\n",
      "        standard random.random will be used.\n",
      "    \n",
      "    triangular(low=0.0, high=1.0, mode=None) method of Random instance\n",
      "        Triangular distribution.\n",
      "        \n",
      "        Continuous distribution bounded by given lower and upper limits,\n",
      "        and having a given mode value in-between.\n",
      "        \n",
      "        http://en.wikipedia.org/wiki/Triangular_distribution\n",
      "    \n",
      "    uniform(a, b) method of Random instance\n",
      "        Get a random number in the range [a, b) or [a, b] depending on rounding.\n",
      "    \n",
      "    vonmisesvariate(mu, kappa) method of Random instance\n",
      "        Circular data distribution.\n",
      "        \n",
      "        mu is the mean angle, expressed in radians between 0 and 2*pi, and\n",
      "        kappa is the concentration parameter, which must be greater than or\n",
      "        equal to zero.  If kappa is equal to zero, this distribution reduces\n",
      "        to a uniform random angle over the range 0 to 2*pi.\n",
      "    \n",
      "    weibullvariate(alpha, beta) method of Random instance\n",
      "        Weibull distribution.\n",
      "        \n",
      "        alpha is the scale parameter and beta is the shape parameter.\n",
      "\n",
      "DATA\n",
      "    __all__ = ['Random', 'SystemRandom', 'betavariate', 'choice', 'choices...\n",
      "    __warningregistry__ = {'version': 14576}\n",
      "\n",
      "FILE\n",
      "    /Users/dave-wadestein/opt/anaconda3/lib/python3.9/random.py\n",
      "\n",
      "\n"
     ]
    }
   ],
   "source": [
    "help(random)"
   ]
  },
  {
   "cell_type": "code",
   "execution_count": 74,
   "id": "3571f534-ede2-4e9d-b02d-492b2d1746a0",
   "metadata": {},
   "outputs": [
    {
     "data": {
      "text/plain": [
       "96"
      ]
     },
     "execution_count": 74,
     "metadata": {},
     "output_type": "execute_result"
    }
   ],
   "source": [
    "random.randint(1, 100)"
   ]
  },
  {
   "cell_type": "code",
   "execution_count": 113,
   "id": "54e8e72f-b703-4981-9ccc-339f60ba9313",
   "metadata": {
    "slideshow": {
     "slide_type": "fragment"
    }
   },
   "outputs": [
    {
     "name": "stdin",
     "output_type": "stream",
     "text": [
      "Enter your name:  Bruce Lee\n"
     ]
    },
    {
     "name": "stdout",
     "output_type": "stream",
     "text": [
      "You entered Bruce Lee\n"
     ]
    }
   ],
   "source": [
    "name = input('Enter your name: ')\n",
    "print('You entered', name)"
   ]
  },
  {
   "cell_type": "markdown",
   "id": "20051d85-bdab-4c97-a045-259c416000f7",
   "metadata": {},
   "source": [
    "## Quick Lab: Loops/Strings\n",
    "* have the user enter a string, then loop through the string to generate (or print) a new string in which every character is duplicated, e.g., \"Python\" => \"PPyytthhoonn\""
   ]
  },
  {
   "cell_type": "code",
   "execution_count": 78,
   "id": "8b8ee032-8e66-4b46-9a85-5331dabe6c6b",
   "metadata": {},
   "outputs": [
    {
     "name": "stdin",
     "output_type": "stream",
     "text": [
      "Enter a string:  Python\n"
     ]
    }
   ],
   "source": [
    "string = input('Enter a string: ')"
   ]
  },
  {
   "cell_type": "code",
   "execution_count": 79,
   "id": "e9d3ee90-27de-4340-bf8b-1efb28a30b82",
   "metadata": {},
   "outputs": [],
   "source": [
    "# 1. get a string from the user\n",
    "# 2. for each letter in the string:\n",
    "# 3.    write it twice"
   ]
  },
  {
   "cell_type": "code",
   "execution_count": 83,
   "id": "8def1d8d-3911-44e1-a231-0c1c195c3bae",
   "metadata": {},
   "outputs": [
    {
     "name": "stdin",
     "output_type": "stream",
     "text": [
      "Enter a string:  hello\n"
     ]
    },
    {
     "name": "stdout",
     "output_type": "stream",
     "text": [
      "hheelllloo"
     ]
    }
   ],
   "source": [
    "string = input('Enter a string: ') # 1\n",
    "for letter in string: # 2\n",
    "    print(letter * 2, end='') # 3 (replicate the letter twice, and don't go to next line...)"
   ]
  },
  {
   "cell_type": "code",
   "execution_count": 86,
   "id": "6c8fd14f-60db-420e-867a-9ddb348dede7",
   "metadata": {},
   "outputs": [
    {
     "name": "stdout",
     "output_type": "stream",
     "text": [
      "hheelllloo\n"
     ]
    }
   ],
   "source": [
    "# 1. get a string from the user\n",
    "# 2. create a new empty string (final)\n",
    "# 3. for each letter in the user-entered string:\n",
    "# 4.   append 2 copies of the letter to the new string\n",
    "# 5. print the new string\n",
    "\n",
    "final = '' # 3 \n",
    "\n",
    "for letter in string: # 2\n",
    "    final += letter + letter # 4 \n",
    "    \n",
    "print(final) # 5"
   ]
  },
  {
   "cell_type": "code",
   "execution_count": 87,
   "id": "3168b218-bc42-48fa-8ba6-bfcc98c67361",
   "metadata": {},
   "outputs": [
    {
     "name": "stdout",
     "output_type": "stream",
     "text": [
      "hheelllloo"
     ]
    }
   ],
   "source": [
    "for letter in string:\n",
    "    print(letter, letter, sep='', end='')"
   ]
  },
  {
   "cell_type": "code",
   "execution_count": 88,
   "id": "2a614253-69a8-4581-9eb3-5c98ae42f6c4",
   "metadata": {},
   "outputs": [
    {
     "data": {
      "text/plain": [
       "5"
      ]
     },
     "execution_count": 88,
     "metadata": {},
     "output_type": "execute_result"
    }
   ],
   "source": [
    "11 // 2"
   ]
  },
  {
   "cell_type": "code",
   "execution_count": 89,
   "id": "d24a5f0a-1bce-40a7-8007-e00d6a2c7379",
   "metadata": {},
   "outputs": [
    {
     "data": {
      "text/plain": [
       "1"
      ]
     },
     "execution_count": 89,
     "metadata": {},
     "output_type": "execute_result"
    }
   ],
   "source": [
    "11 % 2 # what is the remainder when dividing by 2?"
   ]
  },
  {
   "cell_type": "code",
   "execution_count": 90,
   "id": "7f01b1dd-0e5f-485c-ba45-ac08165c5830",
   "metadata": {},
   "outputs": [
    {
     "data": {
      "text/plain": [
       "0"
      ]
     },
     "execution_count": 90,
     "metadata": {},
     "output_type": "execute_result"
    }
   ],
   "source": [
    "12 % 2"
   ]
  },
  {
   "cell_type": "code",
   "execution_count": 91,
   "id": "39d6edd3-f87b-4452-a041-77b450604c55",
   "metadata": {},
   "outputs": [
    {
     "name": "stdout",
     "output_type": "stream",
     "text": [
      "11 % 2 = 1\n",
      "11 % 3 = 2\n",
      "11 % 4 = 3\n",
      "11 % 5 = 1\n",
      "11 % 6 = 5\n",
      "11 % 7 = 4\n",
      "11 % 8 = 3\n",
      "11 % 9 = 2\n",
      "11 % 10 = 1\n"
     ]
    }
   ],
   "source": [
    "# testing our ideas for the number 11\n",
    "for testing in range(2, 11):\n",
    "    print(11, '%', testing, '=', 11 % testing)"
   ]
  },
  {
   "cell_type": "code",
   "execution_count": null,
   "id": "eab1f100-3623-4557-aa23-24c3b8da9e6e",
   "metadata": {},
   "outputs": [],
   "source": [
    "# what I can deduce from above is it's PRIME"
   ]
  },
  {
   "cell_type": "code",
   "execution_count": 1,
   "id": "e2c74f51-7214-4dcd-b853-89dafda957bc",
   "metadata": {},
   "outputs": [
    {
     "name": "stdin",
     "output_type": "stream",
     "text": [
      "Give me a number:  11\n"
     ]
    }
   ],
   "source": [
    "number = input('Give me a number: ')"
   ]
  },
  {
   "cell_type": "code",
   "execution_count": 2,
   "id": "63ac6045-a3b9-4396-bf13-e5637d058d33",
   "metadata": {},
   "outputs": [
    {
     "data": {
      "text/plain": [
       "'11'"
      ]
     },
     "execution_count": 2,
     "metadata": {},
     "output_type": "execute_result"
    }
   ],
   "source": [
    "number # the input() function alwyays returns a string"
   ]
  },
  {
   "cell_type": "code",
   "execution_count": 4,
   "id": "b034cf50-95f4-4e2f-8522-d636763436fb",
   "metadata": {},
   "outputs": [],
   "source": [
    "number = int(number)"
   ]
  },
  {
   "cell_type": "code",
   "execution_count": 5,
   "id": "aef83eb0-8793-4dec-af03-410fc0329687",
   "metadata": {},
   "outputs": [
    {
     "data": {
      "text/plain": [
       "11"
      ]
     },
     "execution_count": 5,
     "metadata": {},
     "output_type": "execute_result"
    }
   ],
   "source": [
    "number"
   ]
  },
  {
   "cell_type": "code",
   "execution_count": null,
   "id": "4f944ba8-e187-48ce-bc6c-0db265b1e1ba",
   "metadata": {},
   "outputs": [],
   "source": [
    "# How do we know if a number is even or odd?\n",
    "# We look at the last digit\n",
    "# We can look at the remainder after dividing by 2"
   ]
  },
  {
   "cell_type": "code",
   "execution_count": 6,
   "id": "5221ad26-3864-4b2a-9af8-cdfa2fd64cd6",
   "metadata": {},
   "outputs": [
    {
     "data": {
      "text/plain": [
       "True"
      ]
     },
     "execution_count": 6,
     "metadata": {},
     "output_type": "execute_result"
    }
   ],
   "source": [
    "'Sus' in 'Susquehanna'"
   ]
  },
  {
   "cell_type": "code",
   "execution_count": 7,
   "id": "2d9c9da6-5576-4317-affb-73e96f4dbd5f",
   "metadata": {},
   "outputs": [
    {
     "data": {
      "text/plain": [
       "True"
      ]
     },
     "execution_count": 7,
     "metadata": {},
     "output_type": "execute_result"
    }
   ],
   "source": [
    "'S' in 'Susquehanna'"
   ]
  },
  {
   "cell_type": "code",
   "execution_count": 8,
   "id": "77a7ce87-6b9e-4052-847a-6e9e3eadd25e",
   "metadata": {},
   "outputs": [],
   "source": [
    "# get a number from the user\n",
    "# look at last digit\n",
    "# if last digit is 0, 2, 4, 6, 8"
   ]
  },
  {
   "cell_type": "code",
   "execution_count": 23,
   "id": "6084de6f-e9b4-405c-aed3-5fbba9aaf0c6",
   "metadata": {},
   "outputs": [
    {
     "name": "stdin",
     "output_type": "stream",
     "text": [
      "Give me a number:  123876123\n"
     ]
    }
   ],
   "source": [
    "number = input('Give me a number: ')"
   ]
  },
  {
   "cell_type": "code",
   "execution_count": 24,
   "id": "c0b42abb-ddb0-40fc-8cc8-70231b7ca828",
   "metadata": {},
   "outputs": [
    {
     "data": {
      "text/plain": [
       "'123876123'"
      ]
     },
     "execution_count": 24,
     "metadata": {},
     "output_type": "execute_result"
    }
   ],
   "source": [
    "number"
   ]
  },
  {
   "cell_type": "code",
   "execution_count": 25,
   "id": "a02a86c0-a65d-4ae0-ab90-a2e2a5090008",
   "metadata": {},
   "outputs": [
    {
     "data": {
      "text/plain": [
       "9"
      ]
     },
     "execution_count": 25,
     "metadata": {},
     "output_type": "execute_result"
    }
   ],
   "source": [
    "len(number)"
   ]
  },
  {
   "cell_type": "code",
   "execution_count": 26,
   "id": "19880848-76a4-447d-a9ea-44150d2ec193",
   "metadata": {},
   "outputs": [
    {
     "data": {
      "text/plain": [
       "'1'"
      ]
     },
     "execution_count": 26,
     "metadata": {},
     "output_type": "execute_result"
    }
   ],
   "source": [
    "number[0]"
   ]
  },
  {
   "cell_type": "code",
   "execution_count": 27,
   "id": "b9d6d26f-784f-41d3-8a46-0478c794f2dd",
   "metadata": {},
   "outputs": [
    {
     "data": {
      "text/plain": [
       "'3'"
      ]
     },
     "execution_count": 27,
     "metadata": {},
     "output_type": "execute_result"
    }
   ],
   "source": [
    "number[-1]"
   ]
  },
  {
   "cell_type": "code",
   "execution_count": 29,
   "id": "cc8bafe0-03d7-4374-946e-eb98195b2f6b",
   "metadata": {},
   "outputs": [
    {
     "name": "stdin",
     "output_type": "stream",
     "text": [
      "Give me a number:  alphabet\n"
     ]
    },
    {
     "name": "stdout",
     "output_type": "stream",
     "text": [
      "even\n"
     ]
    }
   ],
   "source": [
    "number = input('Give me a number: ') # get a \"number\" \n",
    "if number[-1] in '13579': # use indexing to inspect last digit only\n",
    "    print('odd')\n",
    "else: # anything else and we say it's...\n",
    "    print('even')"
   ]
  },
  {
   "cell_type": "code",
   "execution_count": 33,
   "id": "abe4e6db-2b2b-4ecd-bda4-9b572053db81",
   "metadata": {},
   "outputs": [
    {
     "name": "stdin",
     "output_type": "stream",
     "text": [
      "Give me a number:  apple3\n"
     ]
    },
    {
     "name": "stdout",
     "output_type": "stream",
     "text": [
      "odd\n"
     ]
    }
   ],
   "source": [
    "number = input('Give me a number: ') # get a \"number\" \n",
    "if number[-1] in '13579': # use indexing to inspect last digit only\n",
    "    print('odd')\n",
    "elif number[-1] in '24680':\n",
    "    print('even')\n",
    "else:\n",
    "    print(\"that doesn't seem to be a number\")"
   ]
  },
  {
   "cell_type": "code",
   "execution_count": 34,
   "id": "03a0730f-6c2c-44dc-92be-4f23fd87efc1",
   "metadata": {},
   "outputs": [
    {
     "ename": "ValueError",
     "evalue": "invalid literal for int() with base 10: 'apple3'",
     "output_type": "error",
     "traceback": [
      "\u001b[0;31m---------------------------------------------------------------------------\u001b[0m",
      "\u001b[0;31mValueError\u001b[0m                                Traceback (most recent call last)",
      "Input \u001b[0;32mIn [34]\u001b[0m, in \u001b[0;36m<cell line: 1>\u001b[0;34m()\u001b[0m\n\u001b[0;32m----> 1\u001b[0m \u001b[38;5;28;43mint\u001b[39;49m\u001b[43m(\u001b[49m\u001b[43mnumber\u001b[49m\u001b[43m)\u001b[49m\n",
      "\u001b[0;31mValueError\u001b[0m: invalid literal for int() with base 10: 'apple3'"
     ]
    }
   ],
   "source": [
    "int(number)"
   ]
  },
  {
   "cell_type": "code",
   "execution_count": 35,
   "id": "fefc2b8a-c39e-4276-927c-529428aa4fff",
   "metadata": {},
   "outputs": [
    {
     "data": {
      "text/plain": [
       "0"
      ]
     },
     "execution_count": 35,
     "metadata": {},
     "output_type": "execute_result"
    }
   ],
   "source": [
    "23 % 1"
   ]
  },
  {
   "cell_type": "code",
   "execution_count": 36,
   "id": "183c45ef-77c8-4d21-a5ff-ca81db3aa9a1",
   "metadata": {},
   "outputs": [
    {
     "data": {
      "text/plain": [
       "1.125"
      ]
     },
     "execution_count": 36,
     "metadata": {},
     "output_type": "execute_result"
    }
   ],
   "source": [
    "9 / 8"
   ]
  },
  {
   "cell_type": "code",
   "execution_count": 37,
   "id": "9ac9161f-8a50-452a-ad93-5d850532971c",
   "metadata": {},
   "outputs": [
    {
     "data": {
      "text/plain": [
       "1"
      ]
     },
     "execution_count": 37,
     "metadata": {},
     "output_type": "execute_result"
    }
   ],
   "source": [
    "9 // 8"
   ]
  },
  {
   "cell_type": "code",
   "execution_count": 38,
   "id": "746ede57-8ae1-41cd-b74a-a62216c110b8",
   "metadata": {},
   "outputs": [
    {
     "data": {
      "text/plain": [
       "1.8"
      ]
     },
     "execution_count": 38,
     "metadata": {},
     "output_type": "execute_result"
    }
   ],
   "source": [
    "9 / 5"
   ]
  },
  {
   "cell_type": "code",
   "execution_count": 41,
   "id": "ea25bcca-5472-4b65-9c04-a6039bc8ea11",
   "metadata": {},
   "outputs": [
    {
     "data": {
      "text/plain": [
       "2"
      ]
     },
     "execution_count": 41,
     "metadata": {},
     "output_type": "execute_result"
    }
   ],
   "source": [
    "round(9 / 5)"
   ]
  },
  {
   "cell_type": "markdown",
   "id": "6fc6dc63-e379-4d62-9f7f-8b56ffbe6c6c",
   "metadata": {},
   "source": [
    "## (Group) Lab: Loops\n",
    "* Loop through the numbers from 2 to 25 and print out which numbers are prime, and for those numbers which are not prime numbers, you should print them as a product of two factors\n",
    "* Remember that prime = no divisors other than 1 and itself\n",
    "* Don't worry about efficiency, but if you're interested, check out math.sqrt()\n",
    "* example output:\n",
    "<pre>\n",
    "2 is a prime number\n",
    "3 is a prime number\n",
    "4 equals 2 * 2\n",
    "5 is a prime number\n",
    "6 equals 2 * 3\n",
    "7 is a prime number\n",
    "8 equals 2 * 4\n",
    "9 equals 3 * 3\n",
    "10 equals 2 * 5\n",
    "11 is a prime number\n",
    "12 equals 2 * 6\n",
    "13 is a prime number\n",
    "14 equals 2 * 7\n",
    "15 equals 3 * 5\n",
    "16 equals 2 * 8\n",
    "17 is a prime number\n",
    "18 equals 2 * 9\n",
    "19 is a prime number\n",
    "20 equals 2 * 10\n",
    "21 equals 3 * 7\n",
    "22 equals 2 * 11\n",
    "23 is a prime number\n",
    "24 equals 2 * 12\n",
    "25 equals 5 * 5\n",
    "</pre>"
   ]
  },
  {
   "cell_type": "code",
   "execution_count": 42,
   "id": "ccb97822-9178-4b67-bf86-c70daaee37fd",
   "metadata": {},
   "outputs": [
    {
     "name": "stdout",
     "output_type": "stream",
     "text": [
      "2...\n",
      "3...2 \n",
      "4...2 3 \n",
      "5...2 3 4 \n",
      "6...2 3 4 5 \n",
      "7...2 3 4 5 6 \n",
      "8...2 3 4 5 6 7 \n",
      "9...2 3 4 5 6 7 8 \n",
      "10...2 3 4 5 6 7 8 9 \n",
      "11...2 3 4 5 6 7 8 9 10 \n",
      "12...2 3 4 5 6 7 8 9 10 11 \n",
      "13...2 3 4 5 6 7 8 9 10 11 12 \n",
      "14...2 3 4 5 6 7 8 9 10 11 12 13 \n",
      "15...2 3 4 5 6 7 8 9 10 11 12 13 14 \n",
      "16...2 3 4 5 6 7 8 9 10 11 12 13 14 15 \n",
      "17...2 3 4 5 6 7 8 9 10 11 12 13 14 15 16 \n",
      "18...2 3 4 5 6 7 8 9 10 11 12 13 14 15 16 17 \n",
      "19...2 3 4 5 6 7 8 9 10 11 12 13 14 15 16 17 18 \n",
      "20...2 3 4 5 6 7 8 9 10 11 12 13 14 15 16 17 18 19 \n",
      "21...2 3 4 5 6 7 8 9 10 11 12 13 14 15 16 17 18 19 20 \n",
      "22...2 3 4 5 6 7 8 9 10 11 12 13 14 15 16 17 18 19 20 21 \n",
      "23...2 3 4 5 6 7 8 9 10 11 12 13 14 15 16 17 18 19 20 21 22 \n",
      "24...2 3 4 5 6 7 8 9 10 11 12 13 14 15 16 17 18 19 20 21 22 23 \n",
      "25...2 3 4 5 6 7 8 9 10 11 12 13 14 15 16 17 18 19 20 21 22 23 24 \n"
     ]
    }
   ],
   "source": [
    "# 1. look at each number from 2 to 25\n",
    "# identify if that number is prime (has no divisors) or not\n",
    "#     2. look at each possible_divisor from 2 up to the number - 1\n",
    "#.       3. if the possible_divisor divides in evenly then\n",
    "#.          it's not prime\n",
    "#.    if we tried ALL of the possible divisors and none divide in\n",
    "#.          then it's prime\n",
    "\n",
    "for number in range(2, 26): # 2..25\n",
    "    print(number, end='...')\n",
    "    for possible_divisor in range(2, number): # 2..number-1\n",
    "        print(possible_divisor, end=' ')\n",
    "    print()"
   ]
  },
  {
   "cell_type": "code",
   "execution_count": null,
   "id": "294455c5-7f34-4c74-9c48-f771471c0717",
   "metadata": {},
   "outputs": [],
   "source": [
    "# 1. look at each number from 2 to 25\n",
    "# identify if that number is prime (has no divisors) or not\n",
    "#     2. look at each possible_divisor from 2 up to the number - 1\n",
    "#.       3. if the possible_divisor divides in evenly then\n",
    "#.       3a.  \"it's not prime\"\n",
    "#.       3b. STOP CHECKING, no need to check rest of possible_divisors\n",
    "#.    if we tried ALL of the possible divisors and none divide in\n",
    "#.          then it's prime\n",
    "\n",
    "for number in range(2, 26): # 1\n",
    "    result = '' # start out by assuming the number is prime\n",
    "    for possible_divisor in range(2, number): # 2\n",
    "        if number % possible_divisor == 0: # this IS a divisor (ergo, NOT PRIME) (3)\n",
    "            print(number, 'is NOT PRIME because divisible by', possible_divisor) # 3a\n",
    "            result = 'not prime' # we KNOW it's not prime\n",
    "            break # 3b\n",
    "    # if we get to the end of this for loop and did not break, then it's PRIME\n",
    "    if result == '':\n",
    "        print(number, 'is prime')"
   ]
  },
  {
   "cell_type": "code",
   "execution_count": 48,
   "id": "31736dcd-58eb-4f77-bf56-5d6a6f3cd5a2",
   "metadata": {},
   "outputs": [
    {
     "name": "stdout",
     "output_type": "stream",
     "text": [
      "2 is prime\n",
      "3 is prime\n",
      "4 equals 2 * 2\n",
      "5 is prime\n",
      "6 equals 2 * 3\n",
      "7 is prime\n",
      "8 equals 2 * 4\n",
      "9 equals 3 * 3\n",
      "10 equals 2 * 5\n",
      "11 is prime\n",
      "12 equals 2 * 6\n",
      "13 is prime\n",
      "14 equals 2 * 7\n",
      "15 equals 3 * 5\n",
      "16 equals 2 * 8\n",
      "17 is prime\n",
      "18 equals 2 * 9\n",
      "19 is prime\n",
      "20 equals 2 * 10\n",
      "21 equals 3 * 7\n",
      "22 equals 2 * 11\n",
      "23 is prime\n",
      "24 equals 2 * 12\n",
      "25 equals 5 * 5\n"
     ]
    }
   ],
   "source": [
    "# 1. look at each number from 2 to 25\n",
    "# identify if that number is prime (has no divisors) or not\n",
    "#     2. look at each possible_divisor from 2 up to the number - 1\n",
    "#.       3. if the possible_divisor divides in evenly then\n",
    "#.       3a.  \"it's not prime\"\n",
    "#.       3b. STOP CHECKING, no need to check rest of possible_divisors\n",
    "#.    if we tried ALL of the possible divisors and none divide in\n",
    "#.          then it's prime\n",
    "\n",
    "for number in range(2, 26): # 1\n",
    "    is_prime = True # start out by assuming the number is prime\n",
    "    for possible_divisor in range(2, number): # 2\n",
    "        if number % possible_divisor == 0: # this IS a divisor (ergo, NOT PRIME) (3)\n",
    "            print(number, 'equals', possible_divisor, '*', number // possible_divisor) # 3a\n",
    "            is_prime = False # we KNOW it's not prime\n",
    "            break # 3b\n",
    "    # if we get to the end of this for loop and did not break, then it's PRIME\n",
    "    if is_prime: # == True\n",
    "        print(number, 'is prime')"
   ]
  },
  {
   "cell_type": "code",
   "execution_count": 46,
   "id": "a0006233-72ed-455e-9157-554c9824b8a4",
   "metadata": {},
   "outputs": [
    {
     "data": {
      "text/plain": [
       "'5'"
      ]
     },
     "execution_count": 46,
     "metadata": {},
     "output_type": "execute_result"
    }
   ],
   "source": [
    "number = '12345'\n",
    "number[-1]"
   ]
  },
  {
   "cell_type": "code",
   "execution_count": 47,
   "id": "6ca780f2-ffdf-4e1d-b395-61f6fc9e52b3",
   "metadata": {},
   "outputs": [
    {
     "data": {
      "text/plain": [
       "'2'"
      ]
     },
     "execution_count": 47,
     "metadata": {},
     "output_type": "execute_result"
    }
   ],
   "source": [
    "number[1]"
   ]
  },
  {
   "cell_type": "code",
   "execution_count": 53,
   "id": "df3503c1-465c-4e72-9bed-96ac9b4db9c0",
   "metadata": {},
   "outputs": [
    {
     "name": "stdout",
     "output_type": "stream",
     "text": [
      "0\n",
      "5\n",
      "10\n",
      "15\n",
      "20\n",
      "25\n",
      "30\n",
      "35\n",
      "40\n",
      "45\n",
      "50\n",
      "55\n",
      "60\n",
      "65\n",
      "70\n",
      "75\n",
      "80\n",
      "85\n",
      "90\n",
      "95\n",
      "100\n"
     ]
    }
   ],
   "source": [
    "for num in range(0, 101, 5):\n",
    "    print(num)"
   ]
  },
  {
   "cell_type": "code",
   "execution_count": 57,
   "id": "75ca8e5f-6af4-4c17-8a0a-13145ccd4194",
   "metadata": {},
   "outputs": [
    {
     "name": "stdout",
     "output_type": "stream",
     "text": [
      "0\n",
      "5\n",
      "10\n",
      "15\n",
      "20\n",
      "25\n",
      "30\n",
      "35\n",
      "40\n",
      "45\n",
      "50\n",
      "55\n",
      "60\n",
      "65\n",
      "70\n",
      "75\n",
      "80\n",
      "85\n",
      "90\n",
      "95\n",
      "100\n"
     ]
    }
   ],
   "source": [
    "x = 106\n",
    "for num in range(0, x - 5, 5):\n",
    "    print(num)"
   ]
  },
  {
   "cell_type": "code",
   "execution_count": 58,
   "id": "c14a5112-c9c1-4711-8a2e-1d4cf6e101a9",
   "metadata": {},
   "outputs": [],
   "source": [
    "alphabet = 'abcdefghijklmnopqrstuvwxyz'\n",
    "         #  01234567890123456789012345 \n",
    "         #                         321-"
   ]
  },
  {
   "cell_type": "code",
   "execution_count": 59,
   "id": "9a244a31-106d-41bc-aa5d-1b4799a7624b",
   "metadata": {},
   "outputs": [
    {
     "data": {
      "text/plain": [
       "'a'"
      ]
     },
     "execution_count": 59,
     "metadata": {},
     "output_type": "execute_result"
    }
   ],
   "source": [
    "alphabet[0]"
   ]
  },
  {
   "cell_type": "code",
   "execution_count": 60,
   "id": "97f6d55e-1137-40d3-b04e-e991c602927e",
   "metadata": {},
   "outputs": [
    {
     "data": {
      "text/plain": [
       "'m'"
      ]
     },
     "execution_count": 60,
     "metadata": {},
     "output_type": "execute_result"
    }
   ],
   "source": [
    "alphabet[12]"
   ]
  },
  {
   "cell_type": "code",
   "execution_count": 61,
   "id": "f2b66394-8920-4718-9c9e-0d6a20953e93",
   "metadata": {},
   "outputs": [
    {
     "name": "stdout",
     "output_type": "stream",
     "text": [
      "3\n",
      "5\n",
      "7\n",
      "9\n",
      "11\n",
      "13\n",
      "15\n",
      "17\n",
      "19\n",
      "21\n"
     ]
    }
   ],
   "source": [
    "for num in range(3, 23, 2):\n",
    "    print(num)"
   ]
  },
  {
   "cell_type": "code",
   "execution_count": 62,
   "id": "e0fd5d1b-ce9a-402c-8b40-6b0a06234f7e",
   "metadata": {},
   "outputs": [
    {
     "name": "stdout",
     "output_type": "stream",
     "text": [
      "1\n"
     ]
    }
   ],
   "source": [
    "print(1)"
   ]
  },
  {
   "cell_type": "code",
   "execution_count": 63,
   "id": "4a974b44-8882-4668-8c7e-ca94a37a5888",
   "metadata": {},
   "outputs": [
    {
     "name": "stdout",
     "output_type": "stream",
     "text": [
      "1\n"
     ]
    }
   ],
   "source": [
    "print('1')"
   ]
  },
  {
   "cell_type": "code",
   "execution_count": 64,
   "id": "8e96e938-0574-4c2f-a22e-2bcb463f4323",
   "metadata": {},
   "outputs": [
    {
     "name": "stdout",
     "output_type": "stream",
     "text": [
      "1.0\n"
     ]
    }
   ],
   "source": [
    "print(1.0)"
   ]
  },
  {
   "cell_type": "code",
   "execution_count": 65,
   "id": "9147ebe9-5790-4ede-988b-b0be8e470a96",
   "metadata": {},
   "outputs": [
    {
     "name": "stdout",
     "output_type": "stream",
     "text": [
      "True\n"
     ]
    }
   ],
   "source": [
    "print(True)"
   ]
  },
  {
   "cell_type": "code",
   "execution_count": 66,
   "id": "d3b271e1-2b6e-44ad-bdc4-501dfa1ee5aa",
   "metadata": {},
   "outputs": [
    {
     "name": "stdout",
     "output_type": "stream",
     "text": [
      "<built-in function print>\n"
     ]
    }
   ],
   "source": [
    "print(print)"
   ]
  },
  {
   "cell_type": "code",
   "execution_count": 67,
   "id": "8d778092-9005-49e0-970d-bb0fbba681a9",
   "metadata": {},
   "outputs": [],
   "source": [
    "import math"
   ]
  },
  {
   "cell_type": "code",
   "execution_count": 68,
   "id": "f2f8150f-ea83-4c2d-8352-acdab75ba612",
   "metadata": {},
   "outputs": [
    {
     "name": "stdout",
     "output_type": "stream",
     "text": [
      "<module 'math' from '/Users/dave-wadestein/opt/anaconda3/lib/python3.9/lib-dynload/math.cpython-39-darwin.so'>\n"
     ]
    }
   ],
   "source": [
    "print(math)"
   ]
  },
  {
   "cell_type": "code",
   "execution_count": 69,
   "id": "7e5b04ee-9ba6-4e2a-9060-e5b3ccae611a",
   "metadata": {},
   "outputs": [
    {
     "data": {
      "text/plain": [
       "'1'"
      ]
     },
     "execution_count": 69,
     "metadata": {},
     "output_type": "execute_result"
    }
   ],
   "source": [
    "str(1)"
   ]
  },
  {
   "cell_type": "code",
   "execution_count": 70,
   "id": "ed98d007-7e37-4c29-aff0-116202b1afe7",
   "metadata": {},
   "outputs": [
    {
     "data": {
      "text/plain": [
       "'1.0'"
      ]
     },
     "execution_count": 70,
     "metadata": {},
     "output_type": "execute_result"
    }
   ],
   "source": [
    "str(1.0)"
   ]
  },
  {
   "cell_type": "code",
   "execution_count": 71,
   "id": "67e914f9-6ff1-46ef-a5c4-a56f3b7d5f5d",
   "metadata": {},
   "outputs": [
    {
     "data": {
      "text/plain": [
       "'1'"
      ]
     },
     "execution_count": 71,
     "metadata": {},
     "output_type": "execute_result"
    }
   ],
   "source": [
    "str('1')"
   ]
  },
  {
   "cell_type": "code",
   "execution_count": 72,
   "id": "3854ab82-b357-407f-9e49-ddc0b9db3960",
   "metadata": {},
   "outputs": [
    {
     "data": {
      "text/plain": [
       "\"<module 'math' from '/Users/dave-wadestein/opt/anaconda3/lib/python3.9/lib-dynload/math.cpython-39-darwin.so'>\""
      ]
     },
     "execution_count": 72,
     "metadata": {},
     "output_type": "execute_result"
    }
   ],
   "source": [
    "str(math)"
   ]
  },
  {
   "cell_type": "code",
   "execution_count": 73,
   "id": "e2a82d0d-51e6-43ad-9ea9-5e510fc22500",
   "metadata": {},
   "outputs": [
    {
     "name": "stdout",
     "output_type": "stream",
     "text": [
      "1 1.0 1 <module 'math' from '/Users/dave-wadestein/opt/anaconda3/lib/python3.9/lib-dynload/math.cpython-39-darwin.so'>\n"
     ]
    }
   ],
   "source": [
    "print(1, 1.0, '1', math)"
   ]
  },
  {
   "cell_type": "code",
   "execution_count": 74,
   "id": "e942a4cd-f799-42d4-92ce-ec6e02a1482e",
   "metadata": {},
   "outputs": [
    {
     "data": {
      "text/plain": [
       "6"
      ]
     },
     "execution_count": 74,
     "metadata": {},
     "output_type": "execute_result"
    }
   ],
   "source": [
    "len('string')"
   ]
  },
  {
   "cell_type": "code",
   "execution_count": 75,
   "id": "bb414dbc-9c63-4373-931e-8c445cbb251a",
   "metadata": {},
   "outputs": [
    {
     "data": {
      "text/plain": [
       "1"
      ]
     },
     "execution_count": 75,
     "metadata": {},
     "output_type": "execute_result"
    }
   ],
   "source": [
    "int(1)"
   ]
  },
  {
   "cell_type": "code",
   "execution_count": 76,
   "id": "aa77b88d-b5fa-4f12-86dc-f10c4b81e745",
   "metadata": {},
   "outputs": [
    {
     "data": {
      "text/plain": [
       "1"
      ]
     },
     "execution_count": 76,
     "metadata": {},
     "output_type": "execute_result"
    }
   ],
   "source": [
    "int(1.8)"
   ]
  },
  {
   "cell_type": "code",
   "execution_count": 77,
   "id": "6ee44311-d49c-468c-8a8d-12e8b2cb2ba4",
   "metadata": {},
   "outputs": [
    {
     "data": {
      "text/plain": [
       "456"
      ]
     },
     "execution_count": 77,
     "metadata": {},
     "output_type": "execute_result"
    }
   ],
   "source": [
    "int('456')"
   ]
  },
  {
   "cell_type": "code",
   "execution_count": 78,
   "id": "46b253d6-5216-478b-820b-65ce8c3ebf11",
   "metadata": {},
   "outputs": [],
   "source": [
    "string = 'something'"
   ]
  },
  {
   "cell_type": "code",
   "execution_count": 80,
   "id": "1c2eba4f-d811-4d2c-be6d-26342d133c59",
   "metadata": {},
   "outputs": [
    {
     "data": {
      "text/plain": [
       "False"
      ]
     },
     "execution_count": 80,
     "metadata": {},
     "output_type": "execute_result"
    }
   ],
   "source": [
    "string.startswith('thing')"
   ]
  },
  {
   "cell_type": "code",
   "execution_count": 81,
   "id": "12ffec31-4297-4631-8154-b47103eb5759",
   "metadata": {},
   "outputs": [],
   "source": [
    "number = 123"
   ]
  },
  {
   "cell_type": "code",
   "execution_count": 82,
   "id": "0f411614-b6c3-44d5-94f3-3d7eb586d75c",
   "metadata": {},
   "outputs": [
    {
     "ename": "AttributeError",
     "evalue": "'int' object has no attribute 'startswith'",
     "output_type": "error",
     "traceback": [
      "\u001b[0;31m---------------------------------------------------------------------------\u001b[0m",
      "\u001b[0;31mAttributeError\u001b[0m                            Traceback (most recent call last)",
      "Input \u001b[0;32mIn [82]\u001b[0m, in \u001b[0;36m<cell line: 1>\u001b[0;34m()\u001b[0m\n\u001b[0;32m----> 1\u001b[0m \u001b[43mnumber\u001b[49m\u001b[38;5;241;43m.\u001b[39;49m\u001b[43mstartswith\u001b[49m(\u001b[38;5;241m1\u001b[39m)\n",
      "\u001b[0;31mAttributeError\u001b[0m: 'int' object has no attribute 'startswith'"
     ]
    }
   ],
   "source": [
    "number.startswith(1)"
   ]
  },
  {
   "cell_type": "code",
   "execution_count": 83,
   "id": "e97d4f17-0189-4083-9ca3-f0f62df324c9",
   "metadata": {},
   "outputs": [
    {
     "data": {
      "text/plain": [
       "True"
      ]
     },
     "execution_count": 83,
     "metadata": {},
     "output_type": "execute_result"
    }
   ],
   "source": [
    "str(number).startswith('1')"
   ]
  },
  {
   "cell_type": "code",
   "execution_count": 84,
   "id": "b7aaf81d-a810-4e69-8c78-b9473df2b62e",
   "metadata": {},
   "outputs": [
    {
     "data": {
      "text/plain": [
       "3"
      ]
     },
     "execution_count": 84,
     "metadata": {},
     "output_type": "execute_result"
    }
   ],
   "source": [
    "number % 10"
   ]
  },
  {
   "cell_type": "code",
   "execution_count": 85,
   "id": "dcd43c00-6f44-4ebe-aea7-cd755da4f183",
   "metadata": {},
   "outputs": [],
   "source": [
    "s = 'new string'"
   ]
  },
  {
   "cell_type": "code",
   "execution_count": 87,
   "id": "8a5cfc39-7313-455e-978f-0ab143082842",
   "metadata": {},
   "outputs": [
    {
     "name": "stdout",
     "output_type": "stream",
     "text": [
      "Help on built-in function print in module builtins:\n",
      "\n",
      "print(...)\n",
      "    print(value, ..., sep=' ', end='\\n', file=sys.stdout, flush=False)\n",
      "    \n",
      "    Prints the values to a stream, or to sys.stdout by default.\n",
      "    Optional keyword arguments:\n",
      "    file:  a file-like object (stream); defaults to the current sys.stdout.\n",
      "    sep:   string inserted between values, default a space.\n",
      "    end:   string appended after the last value, default a newline.\n",
      "    flush: whether to forcibly flush the stream.\n",
      "\n"
     ]
    }
   ],
   "source": [
    "help(print)"
   ]
  },
  {
   "cell_type": "code",
   "execution_count": 89,
   "id": "2184c642-461f-46b0-a10c-a81000988366",
   "metadata": {},
   "outputs": [
    {
     "name": "stdout",
     "output_type": "stream",
     "text": [
      "Help on built-in function find:\n",
      "\n",
      "find(...) method of builtins.str instance\n",
      "    S.find(sub[, start[, end]]) -> int\n",
      "    \n",
      "    Return the lowest index in S where substring sub is found,\n",
      "    such that sub is contained within S[start:end].  Optional\n",
      "    arguments start and end are interpreted as in slice notation.\n",
      "    \n",
      "    Return -1 on failure.\n",
      "\n"
     ]
    }
   ],
   "source": [
    "help(string.find)"
   ]
  },
  {
   "cell_type": "code",
   "execution_count": 90,
   "id": "d80e8c98-e61c-478a-a359-a6fd1e20df3b",
   "metadata": {},
   "outputs": [
    {
     "name": "stdout",
     "output_type": "stream",
     "text": [
      "Help on method_descriptor:\n",
      "\n",
      "find(...)\n",
      "    S.find(sub[, start[, end]]) -> int\n",
      "    \n",
      "    Return the lowest index in S where substring sub is found,\n",
      "    such that sub is contained within S[start:end].  Optional\n",
      "    arguments start and end are interpreted as in slice notation.\n",
      "    \n",
      "    Return -1 on failure.\n",
      "\n"
     ]
    }
   ],
   "source": [
    "help(str.find)"
   ]
  },
  {
   "cell_type": "code",
   "execution_count": 91,
   "id": "38dfa542-c2bb-45e1-a17d-b291bc4eaed1",
   "metadata": {},
   "outputs": [],
   "source": [
    "name = 'taylor'"
   ]
  },
  {
   "cell_type": "code",
   "execution_count": 92,
   "id": "b7f6efbd-ebd8-4f72-8ce9-f44a559a7451",
   "metadata": {},
   "outputs": [
    {
     "data": {
      "text/plain": [
       "'taylor'"
      ]
     },
     "execution_count": 92,
     "metadata": {},
     "output_type": "execute_result"
    }
   ],
   "source": [
    "name"
   ]
  },
  {
   "cell_type": "code",
   "execution_count": 94,
   "id": "5e5e16d8-5938-4b4f-8891-f8bea5608017",
   "metadata": {},
   "outputs": [
    {
     "ename": "TypeError",
     "evalue": "'str' object does not support item assignment",
     "output_type": "error",
     "traceback": [
      "\u001b[0;31m---------------------------------------------------------------------------\u001b[0m",
      "\u001b[0;31mTypeError\u001b[0m                                 Traceback (most recent call last)",
      "Input \u001b[0;32mIn [94]\u001b[0m, in \u001b[0;36m<cell line: 1>\u001b[0;34m()\u001b[0m\n\u001b[0;32m----> 1\u001b[0m name[\u001b[38;5;241m0\u001b[39m] \u001b[38;5;241m=\u001b[39m \u001b[38;5;124m'\u001b[39m\u001b[38;5;124mT\u001b[39m\u001b[38;5;124m'\u001b[39m\n",
      "\u001b[0;31mTypeError\u001b[0m: 'str' object does not support item assignment"
     ]
    }
   ],
   "source": [
    "name[0] = 'T'"
   ]
  },
  {
   "cell_type": "code",
   "execution_count": 95,
   "id": "65d47689-3a75-46c9-9cf6-30e8e3089fda",
   "metadata": {},
   "outputs": [],
   "source": [
    "name = 'Dave'"
   ]
  },
  {
   "cell_type": "code",
   "execution_count": 96,
   "id": "efdf9b60-cab0-453d-8a6e-de8357b3e9a1",
   "metadata": {},
   "outputs": [
    {
     "data": {
      "text/plain": [
       "True"
      ]
     },
     "execution_count": 96,
     "metadata": {},
     "output_type": "execute_result"
    }
   ],
   "source": [
    "'hanna' in 'Susquehanna'"
   ]
  },
  {
   "cell_type": "code",
   "execution_count": 98,
   "id": "c0b1f399-9919-49cd-b9b0-f1f6ebc88344",
   "metadata": {},
   "outputs": [
    {
     "data": {
      "text/plain": [
       "True"
      ]
     },
     "execution_count": 98,
     "metadata": {},
     "output_type": "execute_result"
    }
   ],
   "source": [
    "'Hanna'.lower() in 'Susquehanna'.lower()"
   ]
  },
  {
   "cell_type": "code",
   "execution_count": 99,
   "id": "fe989626-db88-4baa-aedd-19cc08aa6554",
   "metadata": {},
   "outputs": [
    {
     "data": {
      "text/plain": [
       "'hanna'"
      ]
     },
     "execution_count": 99,
     "metadata": {},
     "output_type": "execute_result"
    }
   ],
   "source": [
    "'Hanna'.lower()"
   ]
  },
  {
   "cell_type": "code",
   "execution_count": 100,
   "id": "d5fcd3dd-f65f-4e96-805e-8da86d738105",
   "metadata": {},
   "outputs": [
    {
     "data": {
      "text/plain": [
       "'susquehanna'"
      ]
     },
     "execution_count": 100,
     "metadata": {},
     "output_type": "execute_result"
    }
   ],
   "source": [
    "'Susquehanna'.lower()"
   ]
  },
  {
   "cell_type": "code",
   "execution_count": 101,
   "id": "4cbabafc-c1ff-48f7-b2c7-5af1cee9cd56",
   "metadata": {},
   "outputs": [
    {
     "data": {
      "text/plain": [
       "'xpple'"
      ]
     },
     "execution_count": 101,
     "metadata": {},
     "output_type": "execute_result"
    }
   ],
   "source": [
    "'apple'.replace('a', 'x')"
   ]
  },
  {
   "cell_type": "code",
   "execution_count": 103,
   "id": "93fca8fa-16f3-47c7-a5cb-c5fbe71873bf",
   "metadata": {},
   "outputs": [
    {
     "data": {
      "text/plain": [
       "'applx'"
      ]
     },
     "execution_count": 103,
     "metadata": {},
     "output_type": "execute_result"
    }
   ],
   "source": [
    "'apple'.replace('e', 'x')"
   ]
  },
  {
   "cell_type": "code",
   "execution_count": null,
   "id": "e7836e25-87ef-4313-afb0-c83db23d1bbe",
   "metadata": {},
   "outputs": [],
   "source": [
    "# take the phrase on this card\n",
    "# write out with every vowel written as 'x'\n",
    "# given this phrase\n",
    "# rewrite it with the vowels replaced by x\n",
    "# be explicit: replace a or e or i or o or u with x\n",
    "# for every a, e, i, o, and u that you see\n",
    "#.    write an x instead"
   ]
  },
  {
   "cell_type": "markdown",
   "id": "6f9f3367-63d4-4367-b24a-f3997fd39897",
   "metadata": {},
   "source": [
    "## Quick Lab: String Functions\n",
    "* write a Python program to read in a string and then print it out as\n",
    "  * a title\n",
    "  * all upper case\n",
    "  * all lower case\n",
    "* also, replace all vowels in the string with the letter 'x'\n",
    "   * you can use the .replace() method to replace each vowel, one at a time"
   ]
  },
  {
   "cell_type": "code",
   "execution_count": 129,
   "id": "a9d8510c-b052-4a31-a6e3-38eee638c692",
   "metadata": {},
   "outputs": [
    {
     "name": "stdin",
     "output_type": "stream",
     "text": [
      "Enter some words...  Pack my bOx with 134 fIve dozen liquor jUgs\n"
     ]
    }
   ],
   "source": [
    "string = input('Enter some words... ')"
   ]
  },
  {
   "cell_type": "code",
   "execution_count": 130,
   "id": "998fbed1-cce2-4fce-8470-0ddcb22390ad",
   "metadata": {},
   "outputs": [
    {
     "data": {
      "text/plain": [
       "'Pack my bOx with 134 fIve dozen liquor jUgs'"
      ]
     },
     "execution_count": 130,
     "metadata": {},
     "output_type": "execute_result"
    }
   ],
   "source": [
    "string"
   ]
  },
  {
   "cell_type": "code",
   "execution_count": 131,
   "id": "357b99f0-a4c9-4af3-9645-a2d0fcb36051",
   "metadata": {},
   "outputs": [
    {
     "data": {
      "text/plain": [
       "'Pack My Box With 134 Five Dozen Liquor Jugs'"
      ]
     },
     "execution_count": 131,
     "metadata": {},
     "output_type": "execute_result"
    }
   ],
   "source": [
    "string.title()"
   ]
  },
  {
   "cell_type": "code",
   "execution_count": 132,
   "id": "9f3de190-0ed1-4b95-8581-1f322543ca62",
   "metadata": {},
   "outputs": [
    {
     "data": {
      "text/plain": [
       "'PACK MY BOX WITH 134 FIVE DOZEN LIQUOR JUGS'"
      ]
     },
     "execution_count": 132,
     "metadata": {},
     "output_type": "execute_result"
    }
   ],
   "source": [
    "string.upper()"
   ]
  },
  {
   "cell_type": "code",
   "execution_count": 133,
   "id": "c9551e49-a4f7-4e1f-b9d7-9b10d6341093",
   "metadata": {},
   "outputs": [
    {
     "data": {
      "text/plain": [
       "'pack my box with 134 five dozen liquor jugs'"
      ]
     },
     "execution_count": 133,
     "metadata": {},
     "output_type": "execute_result"
    }
   ],
   "source": [
    "string = string.lower()"
   ]
  },
  {
   "cell_type": "code",
   "execution_count": 134,
   "id": "9f4043f9-a49f-4f19-a2f9-546ba61d078c",
   "metadata": {},
   "outputs": [],
   "source": [
    "# for each vowel\n",
    "#.  replace it with 'x'\n",
    "for vowel in 'aeiou':\n",
    "    string = string.replace(vowel, 'x')\n",
    "    #print('after replacing', vowel, ':', string)"
   ]
  },
  {
   "cell_type": "code",
   "execution_count": 128,
   "id": "1f3b4780-d83d-49ee-9b65-3fbb93c49089",
   "metadata": {},
   "outputs": [
    {
     "name": "stdout",
     "output_type": "stream",
     "text": [
      "Pxck my bxx wxth 134 fxvx dxzxn lxqxxr jxgs\n"
     ]
    }
   ],
   "source": [
    "print(string)"
   ]
  },
  {
   "cell_type": "code",
   "execution_count": 135,
   "id": "c2717fff-b180-4e2f-9cdd-e753ccfb45a6",
   "metadata": {},
   "outputs": [
    {
     "data": {
      "text/plain": [
       "['a', 'b', 'c', 'd']"
      ]
     },
     "execution_count": 135,
     "metadata": {},
     "output_type": "execute_result"
    }
   ],
   "source": [
    "'a b c d'.split()"
   ]
  },
  {
   "cell_type": "code",
   "execution_count": 136,
   "id": "b49d829c-7f7d-4445-b3b9-ff1ff1bdaeb7",
   "metadata": {},
   "outputs": [
    {
     "ename": "AttributeError",
     "evalue": "'list' object has no attribute 'join'",
     "output_type": "error",
     "traceback": [
      "\u001b[0;31m---------------------------------------------------------------------------\u001b[0m",
      "\u001b[0;31mAttributeError\u001b[0m                            Traceback (most recent call last)",
      "Input \u001b[0;32mIn [136]\u001b[0m, in \u001b[0;36m<cell line: 1>\u001b[0;34m()\u001b[0m\n\u001b[0;32m----> 1\u001b[0m \u001b[43m[\u001b[49m\u001b[38;5;124;43m'\u001b[39;49m\u001b[38;5;124;43ma\u001b[39;49m\u001b[38;5;124;43m'\u001b[39;49m\u001b[43m,\u001b[49m\u001b[43m \u001b[49m\u001b[38;5;124;43m'\u001b[39;49m\u001b[38;5;124;43mb\u001b[39;49m\u001b[38;5;124;43m'\u001b[39;49m\u001b[43m,\u001b[49m\u001b[43m \u001b[49m\u001b[38;5;124;43m'\u001b[39;49m\u001b[38;5;124;43mc\u001b[39;49m\u001b[38;5;124;43m'\u001b[39;49m\u001b[43m,\u001b[49m\u001b[43m \u001b[49m\u001b[38;5;124;43m'\u001b[39;49m\u001b[38;5;124;43md\u001b[39;49m\u001b[38;5;124;43m'\u001b[39;49m\u001b[43m]\u001b[49m\u001b[38;5;241;43m.\u001b[39;49m\u001b[43mjoin\u001b[49m(\u001b[38;5;124m'\u001b[39m\u001b[38;5;124m \u001b[39m\u001b[38;5;124m'\u001b[39m)\n",
      "\u001b[0;31mAttributeError\u001b[0m: 'list' object has no attribute 'join'"
     ]
    }
   ],
   "source": [
    "['a', 'b', 'c', 'd'].join(' ')"
   ]
  },
  {
   "cell_type": "code",
   "execution_count": 137,
   "id": "cafa3cfc-bbba-49b7-abd4-5d45827f6175",
   "metadata": {},
   "outputs": [
    {
     "data": {
      "text/plain": [
       "'a b c d'"
      ]
     },
     "execution_count": 137,
     "metadata": {},
     "output_type": "execute_result"
    }
   ],
   "source": [
    "' '.join(['a', 'b', 'c', 'd'])"
   ]
  },
  {
   "cell_type": "code",
   "execution_count": 140,
   "id": "d9bee119-fc38-45bb-83f0-d153e1caa97c",
   "metadata": {},
   "outputs": [
    {
     "data": {
      "text/plain": [
       "'eggs///bread///milk'"
      ]
     },
     "execution_count": 140,
     "metadata": {},
     "output_type": "execute_result"
    }
   ],
   "source": [
    "'///'.join(['eggs', 'bread', 'milk'])"
   ]
  },
  {
   "cell_type": "code",
   "execution_count": 141,
   "id": "61aa68cd-7aa1-4b5a-8a26-9e4507027c42",
   "metadata": {},
   "outputs": [
    {
     "data": {
      "text/plain": [
       "['w', 'o', 'r', 'd']"
      ]
     },
     "execution_count": 141,
     "metadata": {},
     "output_type": "execute_result"
    }
   ],
   "source": [
    "list('word')"
   ]
  },
  {
   "cell_type": "code",
   "execution_count": 142,
   "id": "7fbe59e7-e8b9-4024-8c5e-a0aa588a8d80",
   "metadata": {},
   "outputs": [
    {
     "data": {
      "text/plain": [
       "[1, 2, 3]"
      ]
     },
     "execution_count": 142,
     "metadata": {},
     "output_type": "execute_result"
    }
   ],
   "source": [
    "list([1, 2, 3])"
   ]
  },
  {
   "cell_type": "code",
   "execution_count": 143,
   "id": "6fe60ab3-0b77-4d3e-89fc-748c235825e8",
   "metadata": {},
   "outputs": [
    {
     "ename": "TypeError",
     "evalue": "'int' object is not iterable",
     "output_type": "error",
     "traceback": [
      "\u001b[0;31m---------------------------------------------------------------------------\u001b[0m",
      "\u001b[0;31mTypeError\u001b[0m                                 Traceback (most recent call last)",
      "Input \u001b[0;32mIn [143]\u001b[0m, in \u001b[0;36m<cell line: 1>\u001b[0;34m()\u001b[0m\n\u001b[0;32m----> 1\u001b[0m \u001b[38;5;28;43mlist\u001b[39;49m\u001b[43m(\u001b[49m\u001b[38;5;241;43m3\u001b[39;49m\u001b[43m)\u001b[49m\n",
      "\u001b[0;31mTypeError\u001b[0m: 'int' object is not iterable"
     ]
    }
   ],
   "source": [
    "list(3)"
   ]
  },
  {
   "cell_type": "code",
   "execution_count": 144,
   "id": "55b75069-dfec-4d9c-a9a8-c843d8fb9f7b",
   "metadata": {},
   "outputs": [
    {
     "data": {
      "text/plain": [
       "[3]"
      ]
     },
     "execution_count": 144,
     "metadata": {},
     "output_type": "execute_result"
    }
   ],
   "source": [
    "list([3])"
   ]
  },
  {
   "cell_type": "code",
   "execution_count": 145,
   "id": "45c6c775-4dcf-4532-a1ff-782101024556",
   "metadata": {},
   "outputs": [],
   "source": [
    "my_list = [1, 2, 8]"
   ]
  },
  {
   "cell_type": "code",
   "execution_count": 155,
   "id": "3b994913-4a77-441f-b42d-44d45ba4c0c0",
   "metadata": {},
   "outputs": [
    {
     "data": {
      "text/plain": [
       "3"
      ]
     },
     "execution_count": 155,
     "metadata": {},
     "output_type": "execute_result"
    }
   ],
   "source": [
    "len(my_list)"
   ]
  },
  {
   "cell_type": "code",
   "execution_count": 156,
   "id": "e1cf723d-5aaf-47db-aa87-f4e0bdd8a7be",
   "metadata": {},
   "outputs": [
    {
     "name": "stdout",
     "output_type": "stream",
     "text": [
      "[1, 2, 8]\n"
     ]
    }
   ],
   "source": [
    "print(my_list)"
   ]
  },
  {
   "cell_type": "code",
   "execution_count": 149,
   "id": "0360b592-6f2d-4c24-acc5-9745cf07674a",
   "metadata": {},
   "outputs": [
    {
     "data": {
      "text/plain": [
       "'[1, 2, 8]'"
      ]
     },
     "execution_count": 149,
     "metadata": {},
     "output_type": "execute_result"
    }
   ],
   "source": [
    "str(my_list)"
   ]
  },
  {
   "cell_type": "code",
   "execution_count": 150,
   "id": "03d075ed-7bd2-4b34-9f09-72dfea237574",
   "metadata": {},
   "outputs": [
    {
     "data": {
      "text/plain": [
       "[1, 2, 8]"
      ]
     },
     "execution_count": 150,
     "metadata": {},
     "output_type": "execute_result"
    }
   ],
   "source": [
    "my_list"
   ]
  },
  {
   "cell_type": "code",
   "execution_count": 151,
   "id": "f5b303ba-d5aa-446b-82e7-fdec170736c7",
   "metadata": {},
   "outputs": [
    {
     "data": {
      "text/plain": [
       "[1, 2, 8]"
      ]
     },
     "execution_count": 151,
     "metadata": {},
     "output_type": "execute_result"
    }
   ],
   "source": [
    "list(my_list)"
   ]
  },
  {
   "cell_type": "code",
   "execution_count": 152,
   "id": "390210a8-6373-49e8-bc06-de97e7d252d0",
   "metadata": {},
   "outputs": [],
   "source": [
    "new_list = list(my_list)"
   ]
  },
  {
   "cell_type": "code",
   "execution_count": 153,
   "id": "b658daba-5d1f-4859-b747-db3411803598",
   "metadata": {},
   "outputs": [
    {
     "data": {
      "text/plain": [
       "[1, 2, 8]"
      ]
     },
     "execution_count": 153,
     "metadata": {},
     "output_type": "execute_result"
    }
   ],
   "source": [
    "my_list"
   ]
  },
  {
   "cell_type": "code",
   "execution_count": 154,
   "id": "10585d9f-c25d-49fe-a2f2-54d3e3d6e001",
   "metadata": {},
   "outputs": [
    {
     "data": {
      "text/plain": [
       "[1, 2, 8]"
      ]
     },
     "execution_count": 154,
     "metadata": {},
     "output_type": "execute_result"
    }
   ],
   "source": [
    "new_list"
   ]
  },
  {
   "cell_type": "code",
   "execution_count": 157,
   "id": "76af8a4c-7ada-4637-84de-e94fcbaa4a35",
   "metadata": {},
   "outputs": [
    {
     "data": {
      "text/plain": [
       "4"
      ]
     },
     "execution_count": 157,
     "metadata": {},
     "output_type": "execute_result"
    }
   ],
   "source": [
    "len('this') # built-in function"
   ]
  },
  {
   "cell_type": "code",
   "execution_count": 158,
   "id": "97e757f0-943d-480d-92a5-17e87606f535",
   "metadata": {},
   "outputs": [
    {
     "data": {
      "text/plain": [
       "'THIS'"
      ]
     },
     "execution_count": 158,
     "metadata": {},
     "output_type": "execute_result"
    }
   ],
   "source": [
    "'this'.upper() # (str) method"
   ]
  },
  {
   "cell_type": "code",
   "execution_count": 159,
   "id": "b838cdac-5945-4c37-b5f1-bb57d55f7c1a",
   "metadata": {},
   "outputs": [
    {
     "data": {
      "text/plain": [
       "120"
      ]
     },
     "execution_count": 159,
     "metadata": {},
     "output_type": "execute_result"
    }
   ],
   "source": [
    "import math # import a module\n",
    "math.factorial(5) # function inside a module"
   ]
  },
  {
   "cell_type": "code",
   "execution_count": 160,
   "id": "d7a88ac8-a134-4024-bf66-b70f25c398ed",
   "metadata": {},
   "outputs": [],
   "source": [
    "name = 'Bruce Lee'"
   ]
  },
  {
   "cell_type": "code",
   "execution_count": 161,
   "id": "dbccaa3e-dd45-47fc-b533-547334410f36",
   "metadata": {},
   "outputs": [
    {
     "data": {
      "text/plain": [
       "'BRUCE LEE'"
      ]
     },
     "execution_count": 161,
     "metadata": {},
     "output_type": "execute_result"
    }
   ],
   "source": [
    "name.upper() # (str) method which DID NOT change the str"
   ]
  },
  {
   "cell_type": "code",
   "execution_count": 162,
   "id": "5990ff52-a1e7-45e1-9576-44d9086f163c",
   "metadata": {},
   "outputs": [],
   "source": [
    "cars = ['Tesla', 'Fisker', 'Faraday', 'Rivian', 'Lordstown', 'Lucid']"
   ]
  },
  {
   "cell_type": "code",
   "execution_count": 163,
   "id": "1bd17519-8d69-4326-bcf4-2d1607bd39d1",
   "metadata": {},
   "outputs": [],
   "source": [
    "# given a list of names\n",
    "# remove any of them which contain 'rad'"
   ]
  },
  {
   "cell_type": "code",
   "execution_count": 164,
   "id": "91d2cb47-4273-4527-bc6a-a022dfd767de",
   "metadata": {},
   "outputs": [],
   "source": [
    "# for each 3x5 card on which there is a name\n",
    "#.   look at it and if it had 'rad' anywhere in it\n",
    "#.   then discard it"
   ]
  },
  {
   "cell_type": "code",
   "execution_count": 165,
   "id": "34e8c699-85bb-4574-938f-5ef049ab249b",
   "metadata": {},
   "outputs": [
    {
     "name": "stdout",
     "output_type": "stream",
     "text": [
      "Tesla\n",
      "Fisker\n",
      "Faraday\n",
      "Rivian\n",
      "Lordstown\n",
      "Lucid\n"
     ]
    }
   ],
   "source": [
    "for car in cars:\n",
    "    print(car)"
   ]
  },
  {
   "cell_type": "code",
   "execution_count": 166,
   "id": "a6a4fa40-f330-4d3d-b141-d6d80fd2d812",
   "metadata": {},
   "outputs": [
    {
     "data": {
      "text/plain": [
       "True"
      ]
     },
     "execution_count": 166,
     "metadata": {},
     "output_type": "execute_result"
    }
   ],
   "source": [
    "'rad' in 'Faraday'"
   ]
  },
  {
   "cell_type": "code",
   "execution_count": 167,
   "id": "2f9d3e73-6e21-4814-86cb-5fb4637e2164",
   "metadata": {},
   "outputs": [],
   "source": [
    "for car in cars:\n",
    "    if 'rad' in car:\n",
    "        cars.remove(car)"
   ]
  },
  {
   "cell_type": "code",
   "execution_count": 168,
   "id": "31f2d13e-b58e-4a74-9343-4e88f3d5c341",
   "metadata": {},
   "outputs": [
    {
     "data": {
      "text/plain": [
       "['Tesla', 'Fisker', 'Rivian', 'Lordstown', 'Lucid']"
      ]
     },
     "execution_count": 168,
     "metadata": {},
     "output_type": "execute_result"
    }
   ],
   "source": [
    "cars"
   ]
  },
  {
   "cell_type": "code",
   "execution_count": 169,
   "id": "c21b1bd8-324e-4aa0-90d4-335922cff384",
   "metadata": {},
   "outputs": [
    {
     "name": "stdout",
     "output_type": "stream",
     "text": [
      "Help on method_descriptor:\n",
      "\n",
      "remove(self, value, /)\n",
      "    Remove first occurrence of value.\n",
      "    \n",
      "    Raises ValueError if the value is not present.\n",
      "\n"
     ]
    }
   ],
   "source": [
    "help(list.remove)"
   ]
  },
  {
   "cell_type": "code",
   "execution_count": 170,
   "id": "d4bd9982-e7aa-4042-8ff4-4534931d1685",
   "metadata": {},
   "outputs": [
    {
     "name": "stdout",
     "output_type": "stream",
     "text": [
      "Help on method_descriptor:\n",
      "\n",
      "sort(self, /, *, key=None, reverse=False)\n",
      "    Sort the list in ascending order and return None.\n",
      "    \n",
      "    The sort is in-place (i.e. the list itself is modified) and stable (i.e. the\n",
      "    order of two equal elements is maintained).\n",
      "    \n",
      "    If a key function is given, apply it once to each list item and sort them,\n",
      "    ascending or descending, according to their function values.\n",
      "    \n",
      "    The reverse flag can be set to sort in descending order.\n",
      "\n"
     ]
    }
   ],
   "source": [
    "help(list.sort)"
   ]
  },
  {
   "cell_type": "code",
   "execution_count": 176,
   "id": "aa76ddf2-c65a-493d-a204-d01d5cea67e0",
   "metadata": {},
   "outputs": [
    {
     "name": "stdin",
     "output_type": "stream",
     "text": [
      "Give me a list of items:  apple fig apple pear fig lemon\n"
     ]
    },
    {
     "data": {
      "text/plain": [
       "['apple', 'fig', 'apple', 'pear', 'fig', 'lemon']"
      ]
     },
     "execution_count": 176,
     "metadata": {},
     "output_type": "execute_result"
    }
   ],
   "source": [
    "input('Give me a list of items: ').split()"
   ]
  },
  {
   "cell_type": "code",
   "execution_count": 173,
   "id": "5d7ad504-1d31-4d88-8e19-4e2e2f93e408",
   "metadata": {},
   "outputs": [
    {
     "name": "stdin",
     "output_type": "stream",
     "text": [
      "Give me a list of items:  apple fig pear\n"
     ]
    }
   ],
   "source": [
    "stuff = input('Give me a list of items: ')"
   ]
  },
  {
   "cell_type": "code",
   "execution_count": 174,
   "id": "322992af-566a-4f85-9d7a-feadfd35edab",
   "metadata": {},
   "outputs": [
    {
     "data": {
      "text/plain": [
       "'apple fig pear'"
      ]
     },
     "execution_count": 174,
     "metadata": {},
     "output_type": "execute_result"
    }
   ],
   "source": [
    "stuff"
   ]
  },
  {
   "cell_type": "code",
   "execution_count": 175,
   "id": "b08f3349-31de-4a01-84d2-c0b7ccef46e4",
   "metadata": {},
   "outputs": [
    {
     "data": {
      "text/plain": [
       "['apple', 'fig', 'pear']"
      ]
     },
     "execution_count": 175,
     "metadata": {},
     "output_type": "execute_result"
    }
   ],
   "source": [
    "stuff.split()"
   ]
  },
  {
   "cell_type": "code",
   "execution_count": 177,
   "id": "990a2b4a-0428-46a3-a463-5d4a0a4e15fe",
   "metadata": {},
   "outputs": [],
   "source": [
    "new_list = []"
   ]
  },
  {
   "cell_type": "code",
   "execution_count": 178,
   "id": "990b0615-e938-4338-aeaf-78805830d38e",
   "metadata": {},
   "outputs": [],
   "source": [
    "new_list = list()"
   ]
  },
  {
   "cell_type": "code",
   "execution_count": 179,
   "id": "d436b936-9b49-4ddf-a05f-2e6a8f99cda2",
   "metadata": {},
   "outputs": [],
   "source": [
    "# get a list from the user\n",
    "# 1.   get input\n",
    "# 2.   split\n",
    "# 3. create an empty list\n",
    "# 4. for each item in the original list:\n",
    "# 5.     if item NOT IN the new list:\n",
    "# 6.         append it"
   ]
  },
  {
   "cell_type": "code",
   "execution_count": 181,
   "id": "60f17d2d-66e4-46df-ab4e-72c103d8e4a0",
   "metadata": {},
   "outputs": [
    {
     "data": {
      "text/plain": [
       "True"
      ]
     },
     "execution_count": 181,
     "metadata": {},
     "output_type": "execute_result"
    }
   ],
   "source": [
    "'z' not in 'Susquehanna'"
   ]
  },
  {
   "cell_type": "code",
   "execution_count": 9,
   "id": "d2070c55-fe0a-4b14-ad34-0f56ac099322",
   "metadata": {},
   "outputs": [
    {
     "name": "stdin",
     "output_type": "stream",
     "text": [
      "Enter a list of items:  Apple apple fig pear Fig\n"
     ]
    },
    {
     "name": "stdout",
     "output_type": "stream",
     "text": [
      "['apple', 'fig', 'pear']\n"
     ]
    }
   ],
   "source": [
    "original_list = input('Enter a list of items: ').lower().split() # 1 AND 2 ... split it while we're at it\n",
    "\n",
    "new_list = [] # 3 \n",
    "\n",
    "for item in original_list: # 4 ... for \"each\" item in the original list (stuff)\n",
    "    if item not in new_list: # 5\n",
    "        new_list.append(item) # 6\n",
    "    \n",
    "print(new_list)"
   ]
  },
  {
   "cell_type": "code",
   "execution_count": 5,
   "id": "35173bb3-c046-4653-bb52-f5c310f0cc56",
   "metadata": {},
   "outputs": [
    {
     "name": "stdin",
     "output_type": "stream",
     "text": [
      "Enter a list of items:  apple fig pear\n"
     ]
    }
   ],
   "source": [
    "original_list = input('Enter a list of items: ')"
   ]
  },
  {
   "cell_type": "code",
   "execution_count": 6,
   "id": "af9c5397-953e-456e-8d54-5e244fd78585",
   "metadata": {},
   "outputs": [
    {
     "data": {
      "text/plain": [
       "'apple fig pear'"
      ]
     },
     "execution_count": 6,
     "metadata": {},
     "output_type": "execute_result"
    }
   ],
   "source": [
    "original_list"
   ]
  },
  {
   "cell_type": "code",
   "execution_count": 7,
   "id": "d0391fa5-b7ae-4c01-a3c4-52e18e3437c8",
   "metadata": {},
   "outputs": [
    {
     "data": {
      "text/plain": [
       "['apple', 'fig', 'pear']"
      ]
     },
     "execution_count": 7,
     "metadata": {},
     "output_type": "execute_result"
    }
   ],
   "source": [
    "original_list.split()"
   ]
  },
  {
   "cell_type": "code",
   "execution_count": 10,
   "id": "08cbcc1f-c5db-4704-934b-29fa4f7f57f7",
   "metadata": {},
   "outputs": [
    {
     "name": "stdin",
     "output_type": "stream",
     "text": [
      "Enter a list of items:  this is IS a A test THIS\n"
     ]
    }
   ],
   "source": [
    "original_list = input('Enter a list of items: ').lower().split()"
   ]
  },
  {
   "cell_type": "code",
   "execution_count": 11,
   "id": "2f9add71-21eb-4b90-a3de-1f5a83044571",
   "metadata": {},
   "outputs": [
    {
     "data": {
      "text/plain": [
       "'this is is a a test this'"
      ]
     },
     "execution_count": 11,
     "metadata": {},
     "output_type": "execute_result"
    }
   ],
   "source": [
    "'this is IS a A test THIS'.lower()"
   ]
  },
  {
   "cell_type": "code",
   "execution_count": 12,
   "id": "4c4cb5db-b543-4e7e-8fa0-40bc2d597557",
   "metadata": {},
   "outputs": [
    {
     "data": {
      "text/plain": [
       "['this', 'is', 'is', 'a', 'a', 'test', 'this']"
      ]
     },
     "execution_count": 12,
     "metadata": {},
     "output_type": "execute_result"
    }
   ],
   "source": [
    "'this is is a a test this'.split()"
   ]
  },
  {
   "cell_type": "code",
   "execution_count": 13,
   "id": "e10d6304-ce46-46de-b3d7-6e9d0ef7148d",
   "metadata": {},
   "outputs": [
    {
     "name": "stdin",
     "output_type": "stream",
     "text": [
      "Some words, please?  quit\n"
     ]
    }
   ],
   "source": [
    "words = input('Some words, please? ')"
   ]
  },
  {
   "cell_type": "code",
   "execution_count": 14,
   "id": "bbeb0e30-5c08-4437-b95f-65fe9b93a79e",
   "metadata": {},
   "outputs": [],
   "source": [
    "# read input until user says 'quit'"
   ]
  },
  {
   "cell_type": "code",
   "execution_count": 15,
   "id": "94538800-7562-4059-aef4-a881426b3b37",
   "metadata": {},
   "outputs": [
    {
     "ename": "NameError",
     "evalue": "name 'user_input' is not defined",
     "output_type": "error",
     "traceback": [
      "\u001b[0;31m---------------------------------------------------------------------------\u001b[0m",
      "\u001b[0;31mNameError\u001b[0m                                 Traceback (most recent call last)",
      "Input \u001b[0;32mIn [15]\u001b[0m, in \u001b[0;36m<cell line: 1>\u001b[0;34m()\u001b[0m\n\u001b[0;32m----> 1\u001b[0m \u001b[38;5;28;01mwhile\u001b[39;00m \u001b[43muser_input\u001b[49m \u001b[38;5;241m!=\u001b[39m \u001b[38;5;124m'\u001b[39m\u001b[38;5;124mquit\u001b[39m\u001b[38;5;124m'\u001b[39m:\n\u001b[1;32m      2\u001b[0m     user_input \u001b[38;5;241m=\u001b[39m \u001b[38;5;28minput\u001b[39m(\u001b[38;5;124m'\u001b[39m\u001b[38;5;124mEnter something: \u001b[39m\u001b[38;5;124m'\u001b[39m)\n",
      "\u001b[0;31mNameError\u001b[0m: name 'user_input' is not defined"
     ]
    }
   ],
   "source": [
    "while user_input != 'quit':\n",
    "    user_input = input('Enter something: ')"
   ]
  },
  {
   "cell_type": "code",
   "execution_count": 17,
   "id": "fa673539-63c9-46f1-80f1-53944456dfe1",
   "metadata": {},
   "outputs": [
    {
     "name": "stdin",
     "output_type": "stream",
     "text": [
      "Enter something:  apple\n"
     ]
    },
    {
     "name": "stdout",
     "output_type": "stream",
     "text": [
      "process apple\n"
     ]
    },
    {
     "name": "stdin",
     "output_type": "stream",
     "text": [
      "Enter something:  fig\n"
     ]
    },
    {
     "name": "stdout",
     "output_type": "stream",
     "text": [
      "process fig\n"
     ]
    },
    {
     "name": "stdin",
     "output_type": "stream",
     "text": [
      "Enter something:  pear\n"
     ]
    },
    {
     "name": "stdout",
     "output_type": "stream",
     "text": [
      "process pear\n"
     ]
    },
    {
     "name": "stdin",
     "output_type": "stream",
     "text": [
      "Enter something:  quit\n"
     ]
    },
    {
     "name": "stdout",
     "output_type": "stream",
     "text": [
      "process quit\n"
     ]
    }
   ],
   "source": [
    "user_input = '' # \"priming the pump\"\n",
    "\n",
    "while user_input != 'quit':\n",
    "    user_input = input('Enter something: ')\n",
    "    print('process', user_input)"
   ]
  },
  {
   "cell_type": "code",
   "execution_count": 18,
   "id": "7ff21d12-14a2-470d-a0f0-b9123087a74a",
   "metadata": {},
   "outputs": [
    {
     "name": "stdin",
     "output_type": "stream",
     "text": [
      "Enter something:  apple\n"
     ]
    },
    {
     "name": "stdout",
     "output_type": "stream",
     "text": [
      "process apple\n"
     ]
    },
    {
     "name": "stdin",
     "output_type": "stream",
     "text": [
      "Enter something:  quit\n"
     ]
    }
   ],
   "source": [
    "user_input = '' # \"priming the pump\"\n",
    "\n",
    "while user_input != 'quit':\n",
    "    user_input = input('Enter something: ')\n",
    "    if user_input != 'quit':\n",
    "        print('process', user_input)"
   ]
  },
  {
   "cell_type": "code",
   "execution_count": 19,
   "id": "93e77227-900a-4956-9a4d-3cc2a3ff950d",
   "metadata": {},
   "outputs": [
    {
     "name": "stdin",
     "output_type": "stream",
     "text": [
      "Enter something:  apple\n"
     ]
    },
    {
     "name": "stdout",
     "output_type": "stream",
     "text": [
      "process apple\n"
     ]
    },
    {
     "name": "stdin",
     "output_type": "stream",
     "text": [
      "Enter something:  fig\n"
     ]
    },
    {
     "name": "stdout",
     "output_type": "stream",
     "text": [
      "process fig\n"
     ]
    },
    {
     "name": "stdin",
     "output_type": "stream",
     "text": [
      "Enter something:  quit\n"
     ]
    }
   ],
   "source": [
    "user_input = '' # \"priming the pump\"\n",
    "\n",
    "while user_input != 'quit':\n",
    "    user_input = input('Enter something: ')\n",
    "    if user_input == 'quit':\n",
    "        break\n",
    "    print('process', user_input)"
   ]
  },
  {
   "cell_type": "code",
   "execution_count": null,
   "id": "255834bd-80a6-4177-a0ee-06c3d35076b2",
   "metadata": {},
   "outputs": [
    {
     "name": "stdin",
     "output_type": "stream",
     "text": [
      "Enter something:  apple\n"
     ]
    },
    {
     "name": "stdout",
     "output_type": "stream",
     "text": [
      "process apple\n"
     ]
    },
    {
     "name": "stdin",
     "output_type": "stream",
     "text": [
      "Enter something:  fig\n"
     ]
    },
    {
     "name": "stdout",
     "output_type": "stream",
     "text": [
      "process fig\n"
     ]
    },
    {
     "name": "stdin",
     "output_type": "stream",
     "text": [
      "Enter something:  pear\n"
     ]
    },
    {
     "name": "stdout",
     "output_type": "stream",
     "text": [
      "process pear\n"
     ]
    },
    {
     "name": "stdin",
     "output_type": "stream",
     "text": [
      "Enter something:  quit\n"
     ]
    }
   ],
   "source": [
    "user_input = '' # \"priming the pump\"\n",
    "\n",
    "while user_input != 'quit':\n",
    "    user_input = input('Enter something: ')\n",
    "    if user_input == 'quit':\n",
    "        break\n",
    "    print('process', user_input)"
   ]
  },
  {
   "cell_type": "code",
   "execution_count": 26,
   "id": "7709289d-1604-4b05-8dfc-52b88bf31a4d",
   "metadata": {},
   "outputs": [],
   "source": [
    "user_input = '' # \"priming the pump\"\n",
    "\n",
    "while True: # run forever (infinite loop)\n",
    "    user_input = input('Enter something: ')\n",
    "    if user_input == 'quit':\n",
    "        break\n",
    "    print('process', user_input)"
   ]
  },
  {
   "cell_type": "code",
   "execution_count": 24,
   "id": "2d21bb62-6660-41b8-8e83-280925d83ed4",
   "metadata": {},
   "outputs": [
    {
     "data": {
      "text/plain": [
       "True"
      ]
     },
     "execution_count": 24,
     "metadata": {},
     "output_type": "execute_result"
    }
   ],
   "source": [
    "5 > 4"
   ]
  },
  {
   "cell_type": "code",
   "execution_count": 25,
   "id": "30df9c2d-2320-44d9-8598-c4a39aff48c5",
   "metadata": {},
   "outputs": [
    {
     "data": {
      "text/plain": [
       "True"
      ]
     },
     "execution_count": 25,
     "metadata": {},
     "output_type": "execute_result"
    }
   ],
   "source": [
    "1 + 1 == 2"
   ]
  },
  {
   "cell_type": "code",
   "execution_count": 31,
   "id": "aae953e2-aa31-44c8-b6f5-fb8d5c75cf56",
   "metadata": {},
   "outputs": [
    {
     "name": "stdin",
     "output_type": "stream",
     "text": [
      "Enter something:  a\n"
     ]
    },
    {
     "name": "stdout",
     "output_type": "stream",
     "text": [
      "process a\n"
     ]
    },
    {
     "name": "stdin",
     "output_type": "stream",
     "text": [
      "Enter something:  b\n"
     ]
    },
    {
     "name": "stdout",
     "output_type": "stream",
     "text": [
      "process b\n"
     ]
    },
    {
     "name": "stdin",
     "output_type": "stream",
     "text": [
      "Enter something:  quit\n"
     ]
    }
   ],
   "source": [
    "message = 'Enter something: '\n",
    "user_input = input(message) # prime the pump\n",
    "\n",
    "while user_input != 'quit':\n",
    "    print('process', user_input)\n",
    "    user_input = input(message)"
   ]
  },
  {
   "cell_type": "code",
   "execution_count": 34,
   "id": "5743f31b-0e70-4570-9f7a-f3323bc514e8",
   "metadata": {},
   "outputs": [
    {
     "name": "stdin",
     "output_type": "stream",
     "text": [
      "Tell me:  apple\n"
     ]
    },
    {
     "name": "stdout",
     "output_type": "stream",
     "text": [
      "process apple\n"
     ]
    },
    {
     "name": "stdin",
     "output_type": "stream",
     "text": [
      "Tell me:  fig\n"
     ]
    },
    {
     "name": "stdout",
     "output_type": "stream",
     "text": [
      "process fig\n"
     ]
    },
    {
     "name": "stdin",
     "output_type": "stream",
     "text": [
      "Tell me:  pear\n"
     ]
    },
    {
     "name": "stdout",
     "output_type": "stream",
     "text": [
      "process pear\n"
     ]
    },
    {
     "name": "stdin",
     "output_type": "stream",
     "text": [
      "Tell me:  quit\n"
     ]
    }
   ],
   "source": [
    "while (user_input := input('Tell me: ')) != 'quit':\n",
    "    print('process', user_input)"
   ]
  },
  {
   "cell_type": "code",
   "execution_count": 33,
   "id": "e08ef874-8832-4253-a21a-ca7550c5dc60",
   "metadata": {},
   "outputs": [],
   "source": [
    "num = 1"
   ]
  },
  {
   "cell_type": "code",
   "execution_count": 36,
   "id": "cd0bad82-0f49-4a36-97e9-fbe0f479da8c",
   "metadata": {},
   "outputs": [],
   "source": [
    "num = 1_234_567"
   ]
  },
  {
   "cell_type": "code",
   "execution_count": 39,
   "id": "f04d74a8-935a-4408-b15f-15ca88730648",
   "metadata": {},
   "outputs": [
    {
     "name": "stdin",
     "output_type": "stream",
     "text": [
      "Tell me:  apple\n"
     ]
    },
    {
     "name": "stdout",
     "output_type": "stream",
     "text": [
      "['apple']\n"
     ]
    },
    {
     "name": "stdin",
     "output_type": "stream",
     "text": [
      "Tell me:  fig\n"
     ]
    },
    {
     "name": "stdout",
     "output_type": "stream",
     "text": [
      "['apple', 'fig']\n"
     ]
    },
    {
     "name": "stdin",
     "output_type": "stream",
     "text": [
      "Tell me:  quit\n"
     ]
    },
    {
     "name": "stdout",
     "output_type": "stream",
     "text": [
      "final list: ['apple', 'fig']\n"
     ]
    }
   ],
   "source": [
    "user_list = []\n",
    "\n",
    "while (user_input := input('Tell me: ')) != 'quit':\n",
    "    user_list.append(user_input)\n",
    "    print(user_list)\n",
    "\n",
    "print('final list:', user_list)"
   ]
  },
  {
   "cell_type": "code",
   "execution_count": 38,
   "id": "a83626ac-be09-48b5-aa44-487451b1e36e",
   "metadata": {},
   "outputs": [
    {
     "data": {
      "text/plain": [
       "['apple', 'fig', 'pear']"
      ]
     },
     "execution_count": 38,
     "metadata": {},
     "output_type": "execute_result"
    }
   ],
   "source": [
    "user_list"
   ]
  },
  {
   "cell_type": "code",
   "execution_count": 54,
   "id": "3df8d849-1432-44fc-a488-eba6ae411d00",
   "metadata": {},
   "outputs": [
    {
     "name": "stdin",
     "output_type": "stream",
     "text": [
      "Tell me:  a\n"
     ]
    },
    {
     "name": "stdout",
     "output_type": "stream",
     "text": [
      "a\n"
     ]
    },
    {
     "name": "stdin",
     "output_type": "stream",
     "text": [
      "Tell me:  b\n"
     ]
    },
    {
     "name": "stdout",
     "output_type": "stream",
     "text": [
      "a, b\n"
     ]
    },
    {
     "name": "stdin",
     "output_type": "stream",
     "text": [
      "Tell me:  c\n"
     ]
    },
    {
     "name": "stdout",
     "output_type": "stream",
     "text": [
      "a, b, c\n"
     ]
    },
    {
     "name": "stdin",
     "output_type": "stream",
     "text": [
      "Tell me:  -\n"
     ]
    },
    {
     "name": "stdout",
     "output_type": "stream",
     "text": [
      "c, b, a\n"
     ]
    },
    {
     "name": "stdin",
     "output_type": "stream",
     "text": [
      "Tell me:  quit\n"
     ]
    },
    {
     "name": "stdout",
     "output_type": "stream",
     "text": [
      "final list: ['c', 'b', 'a']\n"
     ]
    }
   ],
   "source": [
    "user_list = []\n",
    "\n",
    "while (user_input := input('Tell me: ')) != 'quit':\n",
    "    if user_input == '': # did the user hit return, thereby getting empty string back from input\n",
    "        continue\n",
    "    if user_input[0] == '-': # .startswith()\n",
    "        # starts with a '-' or is exactly a '-'\n",
    "        if user_input == '-':\n",
    "            # you might consider it an error to reverse an empty list\n",
    "            # also 1 element\n",
    "            user_list.reverse() # user_list = user_list[::-1]\n",
    "        else: # - followed by something, so remove the something from the list\n",
    "            # what if the item isn't in the list?\n",
    "            user_list.remove(user_input[1:])\n",
    "    else:\n",
    "        user_list.append(user_input)\n",
    "    print(', '.join(user_list)) # quick easy way to present a list in a human-readable format\n",
    "\n",
    "print('final list:', user_list)"
   ]
  },
  {
   "cell_type": "code",
   "execution_count": 47,
   "id": "4cd88f13-54af-4785-af10-79b74a79be3e",
   "metadata": {},
   "outputs": [],
   "source": [
    "user_input = '-apple'"
   ]
  },
  {
   "cell_type": "code",
   "execution_count": 48,
   "id": "d8f68cca-ff2c-49e0-a47f-a630519dc879",
   "metadata": {},
   "outputs": [
    {
     "data": {
      "text/plain": [
       "'apple'"
      ]
     },
     "execution_count": 48,
     "metadata": {},
     "output_type": "execute_result"
    }
   ],
   "source": [
    "user_input[1:]"
   ]
  },
  {
   "cell_type": "code",
   "execution_count": 49,
   "id": "bb526f86-7cf9-4908-94f8-419a66108215",
   "metadata": {},
   "outputs": [
    {
     "data": {
      "text/plain": [
       "'apple'"
      ]
     },
     "execution_count": 49,
     "metadata": {},
     "output_type": "execute_result"
    }
   ],
   "source": [
    "user_input.replace('-', '')"
   ]
  },
  {
   "cell_type": "code",
   "execution_count": 55,
   "id": "8f63c7c1-001f-42ef-895c-f2cd677fc3df",
   "metadata": {},
   "outputs": [],
   "source": [
    "import math"
   ]
  },
  {
   "cell_type": "code",
   "execution_count": 56,
   "id": "d29e4027-7c43-42fb-8029-827f2d737290",
   "metadata": {},
   "outputs": [
    {
     "data": {
      "text/plain": [
       "['__doc__',\n",
       " '__file__',\n",
       " '__loader__',\n",
       " '__name__',\n",
       " '__package__',\n",
       " '__spec__',\n",
       " 'acos',\n",
       " 'acosh',\n",
       " 'asin',\n",
       " 'asinh',\n",
       " 'atan',\n",
       " 'atan2',\n",
       " 'atanh',\n",
       " 'ceil',\n",
       " 'comb',\n",
       " 'copysign',\n",
       " 'cos',\n",
       " 'cosh',\n",
       " 'degrees',\n",
       " 'dist',\n",
       " 'e',\n",
       " 'erf',\n",
       " 'erfc',\n",
       " 'exp',\n",
       " 'expm1',\n",
       " 'fabs',\n",
       " 'factorial',\n",
       " 'floor',\n",
       " 'fmod',\n",
       " 'frexp',\n",
       " 'fsum',\n",
       " 'gamma',\n",
       " 'gcd',\n",
       " 'hypot',\n",
       " 'inf',\n",
       " 'isclose',\n",
       " 'isfinite',\n",
       " 'isinf',\n",
       " 'isnan',\n",
       " 'isqrt',\n",
       " 'lcm',\n",
       " 'ldexp',\n",
       " 'lgamma',\n",
       " 'log',\n",
       " 'log10',\n",
       " 'log1p',\n",
       " 'log2',\n",
       " 'modf',\n",
       " 'nan',\n",
       " 'nextafter',\n",
       " 'perm',\n",
       " 'pi',\n",
       " 'pow',\n",
       " 'prod',\n",
       " 'radians',\n",
       " 'remainder',\n",
       " 'sin',\n",
       " 'sinh',\n",
       " 'sqrt',\n",
       " 'tan',\n",
       " 'tanh',\n",
       " 'tau',\n",
       " 'trunc',\n",
       " 'ulp']"
      ]
     },
     "execution_count": 56,
     "metadata": {},
     "output_type": "execute_result"
    }
   ],
   "source": [
    "dir(math)"
   ]
  },
  {
   "cell_type": "code",
   "execution_count": 57,
   "id": "d672d4da-fa13-4d81-a197-716a63f79ca5",
   "metadata": {},
   "outputs": [],
   "source": [
    "from math import sin, cos, pi"
   ]
  },
  {
   "cell_type": "code",
   "execution_count": 58,
   "id": "244e209b-57f4-417b-a4f1-a8565b765152",
   "metadata": {},
   "outputs": [
    {
     "data": {
      "text/plain": [
       "1.0"
      ]
     },
     "execution_count": 58,
     "metadata": {},
     "output_type": "execute_result"
    }
   ],
   "source": [
    "sin(pi / 2.0)"
   ]
  },
  {
   "cell_type": "code",
   "execution_count": 59,
   "id": "347697cd-14ba-45bd-9a1d-6320f1fac570",
   "metadata": {},
   "outputs": [
    {
     "data": {
      "text/plain": [
       "3.141592653589793"
      ]
     },
     "execution_count": 59,
     "metadata": {},
     "output_type": "execute_result"
    }
   ],
   "source": [
    "math.pi"
   ]
  },
  {
   "cell_type": "code",
   "execution_count": 60,
   "id": "49d5cf93-43af-4f7b-b5f8-b1cd99f372bb",
   "metadata": {},
   "outputs": [],
   "source": [
    "string = 'alphabet soup tastes great!'"
   ]
  },
  {
   "cell_type": "code",
   "execution_count": 67,
   "id": "a948b7e3-138b-4686-8a0c-dad4141df3bc",
   "metadata": {},
   "outputs": [],
   "source": [
    "# suppose we want a list of letter that only appear once in that string\n",
    "unique_letters = [char for char in string\n",
    "                         if string.count(char) == 1]"
   ]
  },
  {
   "cell_type": "code",
   "execution_count": 62,
   "id": "cac6af8f-98e2-4926-b8d7-5f0d3ff04cd1",
   "metadata": {},
   "outputs": [
    {
     "data": {
      "text/plain": [
       "1"
      ]
     },
     "execution_count": 62,
     "metadata": {},
     "output_type": "execute_result"
    }
   ],
   "source": [
    "'alphabet soup tastes great!'.count('h')"
   ]
  },
  {
   "cell_type": "code",
   "execution_count": 68,
   "id": "5e9211f9-7fca-4524-8e25-53dacd1bb242",
   "metadata": {},
   "outputs": [
    {
     "data": {
      "text/plain": [
       "['l', 'h', 'b', 'o', 'u', 'g', 'r', '!']"
      ]
     },
     "execution_count": 68,
     "metadata": {},
     "output_type": "execute_result"
    }
   ],
   "source": [
    "unique_letters"
   ]
  },
  {
   "cell_type": "code",
   "execution_count": 75,
   "id": "2b9e5bf1-207c-4467-af0b-801085977815",
   "metadata": {},
   "outputs": [
    {
     "data": {
      "text/plain": [
       "False"
      ]
     },
     "execution_count": 75,
     "metadata": {},
     "output_type": "execute_result"
    }
   ],
   "source": [
    "'apple'[-1] in 'aeiou'"
   ]
  },
  {
   "cell_type": "code",
   "execution_count": 77,
   "id": "a633a0eb-028e-40de-8416-729ee4175ef1",
   "metadata": {},
   "outputs": [
    {
     "data": {
      "text/plain": [
       "[1,\n",
       " 2,\n",
       " 3,\n",
       " 4,\n",
       " 5,\n",
       " 6,\n",
       " 7,\n",
       " 8,\n",
       " 9,\n",
       " 10,\n",
       " 11,\n",
       " 12,\n",
       " 13,\n",
       " 14,\n",
       " 15,\n",
       " 16,\n",
       " 17,\n",
       " 18,\n",
       " 19,\n",
       " 20,\n",
       " 21,\n",
       " 22,\n",
       " 23,\n",
       " 24,\n",
       " 25,\n",
       " 26,\n",
       " 27,\n",
       " 28,\n",
       " 29,\n",
       " 30,\n",
       " 31,\n",
       " 32,\n",
       " 33,\n",
       " 34,\n",
       " 35,\n",
       " 36,\n",
       " 37,\n",
       " 38,\n",
       " 39,\n",
       " 40,\n",
       " 41,\n",
       " 42,\n",
       " 43,\n",
       " 44,\n",
       " 45,\n",
       " 46,\n",
       " 47,\n",
       " 48,\n",
       " 49,\n",
       " 50,\n",
       " 51,\n",
       " 52,\n",
       " 53,\n",
       " 54,\n",
       " 55,\n",
       " 56,\n",
       " 57,\n",
       " 58,\n",
       " 59,\n",
       " 60,\n",
       " 61,\n",
       " 62,\n",
       " 63,\n",
       " 64,\n",
       " 65,\n",
       " 66,\n",
       " 67,\n",
       " 68,\n",
       " 69,\n",
       " 70,\n",
       " 71,\n",
       " 72,\n",
       " 73,\n",
       " 74,\n",
       " 75,\n",
       " 76,\n",
       " 77,\n",
       " 78,\n",
       " 79,\n",
       " 80,\n",
       " 81,\n",
       " 82,\n",
       " 83,\n",
       " 84,\n",
       " 85,\n",
       " 86,\n",
       " 87,\n",
       " 88,\n",
       " 89,\n",
       " 90,\n",
       " 91,\n",
       " 92,\n",
       " 93,\n",
       " 94,\n",
       " 95,\n",
       " 96,\n",
       " 97,\n",
       " 98,\n",
       " 99,\n",
       " 100]"
      ]
     },
     "execution_count": 77,
     "metadata": {},
     "output_type": "execute_result"
    }
   ],
   "source": [
    "list(range(1, 101))"
   ]
  },
  {
   "cell_type": "code",
   "execution_count": 78,
   "id": "c09241b6-d406-4def-b626-dadde08a36b3",
   "metadata": {},
   "outputs": [
    {
     "data": {
      "text/plain": [
       "0"
      ]
     },
     "execution_count": 78,
     "metadata": {},
     "output_type": "execute_result"
    }
   ],
   "source": [
    "25 % 5"
   ]
  },
  {
   "cell_type": "markdown",
   "id": "0183529b-0d7d-4a02-b692-4481e10d735b",
   "metadata": {},
   "source": [
    "## Lab: List Comprehensions\n",
    "*  Start with Cartesian product example (colors x sizes of t-shirts) and add a third list, __`sleeves = ['short', 'long']`__ then write a new listcomp which generates the Cartesian product __`colors x sizes x sleeves`__. __`tshirts`__ should look like this:<pre><b>\n",
    "    [['black', 'S', 'short'],\n",
    "     ['black', 'S', 'long'],\n",
    "     ['black', 'M', 'short'],\n",
    "     ['black', 'M', 'long'],\n",
    "     ['black', 'L', 'short'],\n",
    "     ['black', 'L', 'long'],\n",
    "     ['white', 'S', 'short'],\n",
    "     ['white', 'S', 'long'],\n",
    "     ['white', 'M', 'short'],\n",
    "     ['white', 'M', 'long'],\n",
    "     ['white', 'L', 'short'],\n",
    "     ['white', 'L', 'long']]\n",
    "     \n",
    " </b></pre>\n",
    "* Use a list comprehension to create a list of the squares of the integers from 1 to 25 (i.e, 1, 4, 9, 16, …, 625)\n",
    "* Given a list of words, create a second list which contains all the words from the first list which do not end with a vowel\n",
    "* Use a list comprehension to create a list of the integers from 1 to 100 which are not divisible by 5\n",
    "* Use a list comprehension and __`zip()`__ to create a list of lists, where the list items are name and ID number that you grabbed from separate lists of names and ID numbers\n",
    "  * start with a list of, say, 5 names ['John', 'Mary', 'Edward', 'Linda', 'Dinesh']\n",
    "  * and a list of, say, 5 ID numbers [1003, 2043, 8762, 7862, 1093]\n",
    "  * additional wrinkle: do not include any names whose corresponding ID is -1"
   ]
  },
  {
   "cell_type": "code",
   "execution_count": 93,
   "id": "162bd4c5-2820-40ea-9da0-71120009c1f0",
   "metadata": {},
   "outputs": [],
   "source": [
    "colors = ['black', 'white']\n",
    "sizes = ['S', 'M', 'L', 'XL']\n",
    "sleeves = ['short', 'long']"
   ]
  },
  {
   "cell_type": "code",
   "execution_count": 103,
   "id": "02a2de2a-0fa1-4a73-9ce2-a5af760e513a",
   "metadata": {},
   "outputs": [
    {
     "data": {
      "text/plain": [
       "[['black', 'S', 'short'],\n",
       " ['black', 'S', 'long'],\n",
       " ['black', 'M', 'short'],\n",
       " ['black', 'M', 'long'],\n",
       " ['black', 'L', 'short'],\n",
       " ['black', 'L', 'long'],\n",
       " ['black', 'XL', 'short'],\n",
       " ['black', 'XL', 'long'],\n",
       " ['white', 'S', 'short'],\n",
       " ['white', 'S', 'long'],\n",
       " ['white', 'M', 'short'],\n",
       " ['white', 'M', 'long'],\n",
       " ['white', 'L', 'short'],\n",
       " ['white', 'L', 'long'],\n",
       " ['white', 'XL', 'short'],\n",
       " ['white', 'XL', 'long']]"
      ]
     },
     "execution_count": 103,
     "metadata": {},
     "output_type": "execute_result"
    }
   ],
   "source": [
    "tshirts = [[color, size, sleeve] for color in colors\n",
    "                                    for size in sizes\n",
    "                                       for sleeve in sleeves]\n",
    "tshirts"
   ]
  },
  {
   "cell_type": "code",
   "execution_count": 83,
   "id": "cef9fc4b-2dec-446e-9a4e-4527ef29d205",
   "metadata": {},
   "outputs": [
    {
     "name": "stdout",
     "output_type": "stream",
     "text": [
      "[1, 4, 9, 16, 25, 36, 49, 64, 81, 100, 121, 144, 169, 196, 225, 256, 289, 324, 361, 400, 441, 484, 529, 576, 625]\n"
     ]
    }
   ],
   "source": [
    "# squares of numbers from 1 to 25\n",
    "squares = [num * num for num in range(1, 26)]\n",
    "print(squares)"
   ]
  },
  {
   "cell_type": "code",
   "execution_count": 84,
   "id": "d79c08c5-1bdd-4e81-a159-1894ab65d737",
   "metadata": {},
   "outputs": [
    {
     "name": "stdout",
     "output_type": "stream",
     "text": [
      "[1, 2, 3, 4, 6, 7, 8, 9, 11, 12, 13, 14, 16, 17, 18, 19, 21, 22, 23, 24, 26, 27, 28, 29, 31, 32, 33, 34, 36, 37, 38, 39, 41, 42, 43, 44, 46, 47, 48, 49, 51, 52, 53, 54, 56, 57, 58, 59, 61, 62, 63, 64, 66, 67, 68, 69, 71, 72, 73, 74, 76, 77, 78, 79, 81, 82, 83, 84, 86, 87, 88, 89, 91, 92, 93, 94, 96, 97, 98, 99]\n"
     ]
    }
   ],
   "source": [
    "no_divis_by_5 = [num for num in range(1, 101) if num % 5 != 0]\n",
    "print(no_divis_by_5)"
   ]
  },
  {
   "cell_type": "code",
   "execution_count": 109,
   "id": "f0d758ed-7985-4aae-9d0b-93e5a62eb51d",
   "metadata": {},
   "outputs": [
    {
     "name": "stdout",
     "output_type": "stream",
     "text": [
      "[5, 10, 15, 20, 25, 30, 35, 40, 45, 50, 55, 60, 65, 70, 75, 80, 85, 90, 95, 100]\n"
     ]
    }
   ],
   "source": [
    "print(list(range(5, 101, 5)))"
   ]
  },
  {
   "cell_type": "code",
   "execution_count": 107,
   "id": "f6016370-a104-4a0e-b4e0-b37e5d9fad58",
   "metadata": {},
   "outputs": [
    {
     "name": "stdout",
     "output_type": "stream",
     "text": [
      "['fig', 'pear', 'egg']\n"
     ]
    }
   ],
   "source": [
    "words = 'apple fig pear banana guava egg'.split()\n",
    "no_end_in_vowel_words = [word for word in words if word[-1] not in 'aeiou']\n",
    "print(no_vowel_words)"
   ]
  },
  {
   "cell_type": "code",
   "execution_count": 116,
   "id": "a6748608-0bc0-45d0-a9ec-426192c4dc41",
   "metadata": {},
   "outputs": [
    {
     "name": "stdout",
     "output_type": "stream",
     "text": [
      "[['John', 1003], ['Mary', 2043], ['Edward', 8762], ['Linda', 7862], ['Dinesh', 1093]]\n"
     ]
    }
   ],
   "source": [
    "names = ['John', 'Mary', 'Edward', 'Linda', 'Dinesh']\n",
    "ids = [1003, 2043, 8762, 7862, 1093]\n",
    "employees = [[name, id_num] for name, id_num in zip(names, ids)]\n",
    "print(employees)"
   ]
  },
  {
   "cell_type": "code",
   "execution_count": 117,
   "id": "178527b4-ef70-4f3c-a346-afaebf2125b2",
   "metadata": {},
   "outputs": [
    {
     "name": "stdout",
     "output_type": "stream",
     "text": [
      "[['John', 1003], ['Mary', 2043], ['Linda', 7862]]\n"
     ]
    }
   ],
   "source": [
    "ids = [1003, 2043, -1, 7862, -1]\n",
    "current_employees = [[name, id] for name, id in zip(names, ids)\n",
    "                                    if id != -1]\n",
    "print(current_employees)"
   ]
  },
  {
   "cell_type": "code",
   "execution_count": 105,
   "id": "7dd5da0c-7aa2-46d6-a0ba-4f302f283fd1",
   "metadata": {},
   "outputs": [
    {
     "ename": "SyntaxError",
     "evalue": "EOL while scanning string literal (3544074151.py, line 1)",
     "output_type": "error",
     "traceback": [
      "\u001b[0;36m  Input \u001b[0;32mIn [105]\u001b[0;36m\u001b[0m\n\u001b[0;31m    print('hello there)\u001b[0m\n\u001b[0m                       ^\u001b[0m\n\u001b[0;31mSyntaxError\u001b[0m\u001b[0;31m:\u001b[0m EOL while scanning string literal\n"
     ]
    }
   ],
   "source": [
    "print('hello there)"
   ]
  },
  {
   "cell_type": "code",
   "execution_count": 112,
   "id": "15976d1a-bfe6-4c18-ae11-bfeb1ce24bf3",
   "metadata": {},
   "outputs": [],
   "source": [
    "len = 8 # unfortunately, Python lets you name a variable the same as a built-in function"
   ]
  },
  {
   "cell_type": "code",
   "execution_count": 111,
   "id": "c1bb750c-ef3b-401d-9ab3-cbdc19e6e3a7",
   "metadata": {},
   "outputs": [
    {
     "ename": "TypeError",
     "evalue": "'int' object is not callable",
     "output_type": "error",
     "traceback": [
      "\u001b[0;31m---------------------------------------------------------------------------\u001b[0m",
      "\u001b[0;31mTypeError\u001b[0m                                 Traceback (most recent call last)",
      "Input \u001b[0;32mIn [111]\u001b[0m, in \u001b[0;36m<cell line: 1>\u001b[0;34m()\u001b[0m\n\u001b[0;32m----> 1\u001b[0m \u001b[38;5;28;43mlen\u001b[39;49m\u001b[43m(\u001b[49m\u001b[38;5;124;43m'\u001b[39;49m\u001b[38;5;124;43mhello\u001b[39;49m\u001b[38;5;124;43m'\u001b[39;49m\u001b[43m)\u001b[49m\n",
      "\u001b[0;31mTypeError\u001b[0m: 'int' object is not callable"
     ]
    }
   ],
   "source": [
    "len('hello')"
   ]
  },
  {
   "cell_type": "code",
   "execution_count": 113,
   "id": "0336ed19-21b0-42be-94f2-3d830fe60a72",
   "metadata": {},
   "outputs": [],
   "source": [
    "del len # get rid of the variable I created, exposing the built-in function"
   ]
  },
  {
   "cell_type": "code",
   "execution_count": 114,
   "id": "80d91611-ee81-415d-94d2-619498eef8c6",
   "metadata": {},
   "outputs": [
    {
     "data": {
      "text/plain": [
       "5"
      ]
     },
     "execution_count": 114,
     "metadata": {},
     "output_type": "execute_result"
    }
   ],
   "source": [
    "len('hello')"
   ]
  },
  {
   "cell_type": "code",
   "execution_count": 118,
   "id": "de56161e-c8fb-4bfd-9728-d381180c8f55",
   "metadata": {},
   "outputs": [
    {
     "data": {
      "text/plain": [
       "2"
      ]
     },
     "execution_count": 118,
     "metadata": {},
     "output_type": "execute_result"
    }
   ],
   "source": [
    "len('hi')"
   ]
  },
  {
   "cell_type": "code",
   "execution_count": 119,
   "id": "20491c0c-8def-4b83-9c06-ccff4cf193e3",
   "metadata": {},
   "outputs": [
    {
     "data": {
      "text/plain": [
       "3"
      ]
     },
     "execution_count": 119,
     "metadata": {},
     "output_type": "execute_result"
    }
   ],
   "source": [
    "len([1, 2, 3])"
   ]
  },
  {
   "cell_type": "code",
   "execution_count": 120,
   "id": "74900a60-4f04-46bc-99e3-11d9616859ec",
   "metadata": {},
   "outputs": [
    {
     "data": {
      "text/plain": [
       "3"
      ]
     },
     "execution_count": 120,
     "metadata": {},
     "output_type": "execute_result"
    }
   ],
   "source": [
    "len(('Swift', 'Taylor', 1989))"
   ]
  },
  {
   "cell_type": "code",
   "execution_count": 122,
   "id": "c7ca4e1f-3116-4bfc-871f-5692d5d65027",
   "metadata": {},
   "outputs": [],
   "source": [
    "x, y, z = 1, 2, 3"
   ]
  },
  {
   "cell_type": "code",
   "execution_count": 123,
   "id": "32211638-f7a4-4446-bd49-73351e9533aa",
   "metadata": {},
   "outputs": [],
   "source": [
    "first, last, num, ft_status = 'Jones', 'John', 1023, True"
   ]
  },
  {
   "cell_type": "code",
   "execution_count": 125,
   "id": "5c9ae0c7-692d-4a32-bef9-fc1961205adb",
   "metadata": {},
   "outputs": [],
   "source": [
    "employee = 'Jones', 'John', 1023, True"
   ]
  },
  {
   "cell_type": "code",
   "execution_count": 126,
   "id": "d2efec04-7657-4dc6-91db-a955c690da3f",
   "metadata": {},
   "outputs": [],
   "source": [
    "first, last, num, ft_status = employee"
   ]
  },
  {
   "cell_type": "markdown",
   "id": "cbdada60-4c16-40a7-ba73-cf6b4d7e35f8",
   "metadata": {},
   "source": [
    "## Lab: Tuples\n",
    "* We don't really know enough yet to use a tuple in interesting ways, so instead let's just tinker around with tuples here in the notebook...\n",
    "  * Create a tuple representing a city w/fields of your own choosing (e.g., city name, state/country, population, elevation, etc.)\n",
    "  * \"Add\" a field to the tuple–since tuples are immutable, you will have to do this by concatenating tuples\n",
    "  * Using the _in_ operator, check to see if a particular value is in the tuple\n",
    "  * Using the __`.index()`__ method, find the position of a particular value in the tuple"
   ]
  },
  {
   "cell_type": "code",
   "execution_count": 127,
   "id": "0a67eb11-3953-4831-9335-b08db36ae99b",
   "metadata": {},
   "outputs": [],
   "source": [
    "t = 1, 2, 3"
   ]
  },
  {
   "cell_type": "code",
   "execution_count": 128,
   "id": "2e769c93-2ffc-47a8-9b4d-c1960a321139",
   "metadata": {},
   "outputs": [],
   "source": [
    "s = 'this'"
   ]
  },
  {
   "cell_type": "code",
   "execution_count": 136,
   "id": "58c9fdcd-6fdd-4cb2-8775-071436760b0b",
   "metadata": {},
   "outputs": [
    {
     "data": {
      "text/plain": [
       "'this or that or that'"
      ]
     },
     "execution_count": 136,
     "metadata": {},
     "output_type": "execute_result"
    }
   ],
   "source": [
    "s = s + ' or that'\n",
    "s"
   ]
  },
  {
   "cell_type": "code",
   "execution_count": 133,
   "id": "9a16976b-83c2-4564-a430-9e5ad0e63592",
   "metadata": {},
   "outputs": [],
   "source": [
    "t = t + (4,)"
   ]
  },
  {
   "cell_type": "code",
   "execution_count": 134,
   "id": "8c485a9f-206a-4b76-bcb1-8d67b59744ba",
   "metadata": {},
   "outputs": [
    {
     "data": {
      "text/plain": [
       "(1, 2, 3, 4)"
      ]
     },
     "execution_count": 134,
     "metadata": {},
     "output_type": "execute_result"
    }
   ],
   "source": [
    "t"
   ]
  },
  {
   "cell_type": "code",
   "execution_count": 138,
   "id": "c83f1b5d-1816-4063-bcf1-a0de7f703b07",
   "metadata": {},
   "outputs": [],
   "source": [
    "city = 'Louisville', 'CO', 20_975, 5338"
   ]
  },
  {
   "cell_type": "code",
   "execution_count": 139,
   "id": "a4ebfdd0-f2b8-44f4-bd37-f231281053f9",
   "metadata": {},
   "outputs": [
    {
     "data": {
      "text/plain": [
       "('Louisville', 'CO', 20975, 5338, 1877)"
      ]
     },
     "execution_count": 139,
     "metadata": {},
     "output_type": "execute_result"
    }
   ],
   "source": [
    "city + (1877,)"
   ]
  },
  {
   "cell_type": "code",
   "execution_count": 140,
   "id": "5a435879-0d04-4e68-a833-4fe8b52b916c",
   "metadata": {},
   "outputs": [],
   "source": [
    "city += (1877,) # city = city + (1877,)"
   ]
  },
  {
   "cell_type": "code",
   "execution_count": 141,
   "id": "780ca5d6-d559-46c3-bfd2-12fdc2e69c6c",
   "metadata": {},
   "outputs": [
    {
     "data": {
      "text/plain": [
       "('Louisville', 'CO', 20975, 5338, 1877)"
      ]
     },
     "execution_count": 141,
     "metadata": {},
     "output_type": "execute_result"
    }
   ],
   "source": [
    "city"
   ]
  },
  {
   "cell_type": "code",
   "execution_count": 155,
   "id": "59fa9619-32ef-48e9-b866-1f8b80092e9a",
   "metadata": {},
   "outputs": [
    {
     "data": {
      "text/plain": [
       "False"
      ]
     },
     "execution_count": 155,
     "metadata": {},
     "output_type": "execute_result"
    }
   ],
   "source": [
    "1878 in city"
   ]
  },
  {
   "cell_type": "code",
   "execution_count": 159,
   "id": "4856adfb-c551-4bcd-a83d-d173f9096859",
   "metadata": {},
   "outputs": [
    {
     "data": {
      "text/plain": [
       "1"
      ]
     },
     "execution_count": 159,
     "metadata": {},
     "output_type": "execute_result"
    }
   ],
   "source": [
    "city.count(20975)"
   ]
  },
  {
   "cell_type": "code",
   "execution_count": 144,
   "id": "bb8eddc7-8f25-4e51-b438-4fd7642a5a01",
   "metadata": {},
   "outputs": [],
   "source": [
    "string1 = 'one'\n",
    "string2 = 'two'"
   ]
  },
  {
   "cell_type": "code",
   "execution_count": 145,
   "id": "4c56ca98-a566-49fc-8614-a61a7983cba1",
   "metadata": {},
   "outputs": [
    {
     "data": {
      "text/plain": [
       "'onetwo'"
      ]
     },
     "execution_count": 145,
     "metadata": {},
     "output_type": "execute_result"
    }
   ],
   "source": [
    "string1 + string2"
   ]
  },
  {
   "cell_type": "code",
   "execution_count": 146,
   "id": "ad1b5eec-687a-4dcd-b067-562d619a0939",
   "metadata": {},
   "outputs": [],
   "source": [
    "string1 = string1 + string2"
   ]
  },
  {
   "cell_type": "code",
   "execution_count": 147,
   "id": "287cb489-3e49-427e-a83c-737b9f86e773",
   "metadata": {},
   "outputs": [
    {
     "data": {
      "text/plain": [
       "'onetwo'"
      ]
     },
     "execution_count": 147,
     "metadata": {},
     "output_type": "execute_result"
    }
   ],
   "source": [
    "string1"
   ]
  },
  {
   "cell_type": "code",
   "execution_count": 148,
   "id": "a81ae0af-93ef-4879-a330-f4be17eaa482",
   "metadata": {},
   "outputs": [],
   "source": [
    "t = 1, 2"
   ]
  },
  {
   "cell_type": "code",
   "execution_count": 149,
   "id": "83eb3c8d-1af1-47b6-bb4a-e36565baca83",
   "metadata": {},
   "outputs": [
    {
     "data": {
      "text/plain": [
       "(1, 2)"
      ]
     },
     "execution_count": 149,
     "metadata": {},
     "output_type": "execute_result"
    }
   ],
   "source": [
    "t"
   ]
  },
  {
   "cell_type": "code",
   "execution_count": 150,
   "id": "82b786b0-b92d-443e-9d8a-7230d112da9a",
   "metadata": {},
   "outputs": [
    {
     "ename": "AttributeError",
     "evalue": "'tuple' object has no attribute 'append'",
     "output_type": "error",
     "traceback": [
      "\u001b[0;31m---------------------------------------------------------------------------\u001b[0m",
      "\u001b[0;31mAttributeError\u001b[0m                            Traceback (most recent call last)",
      "Input \u001b[0;32mIn [150]\u001b[0m, in \u001b[0;36m<cell line: 1>\u001b[0;34m()\u001b[0m\n\u001b[0;32m----> 1\u001b[0m \u001b[43mt\u001b[49m\u001b[38;5;241;43m.\u001b[39;49m\u001b[43mappend\u001b[49m(\u001b[38;5;241m3\u001b[39m)\n",
      "\u001b[0;31mAttributeError\u001b[0m: 'tuple' object has no attribute 'append'"
     ]
    }
   ],
   "source": [
    "t.append(3)"
   ]
  },
  {
   "cell_type": "code",
   "execution_count": 151,
   "id": "dfc08e30-dbb7-4ba0-bbdb-411344930991",
   "metadata": {},
   "outputs": [
    {
     "data": {
      "text/plain": [
       "(1, 2, 3, 4)"
      ]
     },
     "execution_count": 151,
     "metadata": {},
     "output_type": "execute_result"
    }
   ],
   "source": [
    "t + (3, 4)"
   ]
  },
  {
   "cell_type": "code",
   "execution_count": 152,
   "id": "885f404c-fc45-46cf-aece-d45d201826a3",
   "metadata": {},
   "outputs": [
    {
     "data": {
      "text/plain": [
       "(1, 2)"
      ]
     },
     "execution_count": 152,
     "metadata": {},
     "output_type": "execute_result"
    }
   ],
   "source": [
    "t"
   ]
  },
  {
   "cell_type": "code",
   "execution_count": 153,
   "id": "c2bb3603-4977-4777-a8ba-6c9cabfd3471",
   "metadata": {},
   "outputs": [],
   "source": [
    "t = t + (3, 4)"
   ]
  },
  {
   "cell_type": "code",
   "execution_count": 154,
   "id": "5e0606fe-f90e-46dd-981d-99ee42a2177c",
   "metadata": {},
   "outputs": [
    {
     "data": {
      "text/plain": [
       "(1, 2, 3, 4)"
      ]
     },
     "execution_count": 154,
     "metadata": {},
     "output_type": "execute_result"
    }
   ],
   "source": [
    "t"
   ]
  },
  {
   "cell_type": "code",
   "execution_count": 160,
   "id": "9189d9db-a2da-4038-b18f-72446dbcbcf5",
   "metadata": {},
   "outputs": [
    {
     "data": {
      "text/plain": [
       "4"
      ]
     },
     "execution_count": 160,
     "metadata": {},
     "output_type": "execute_result"
    }
   ],
   "source": [
    "t[-1]"
   ]
  },
  {
   "cell_type": "code",
   "execution_count": 161,
   "id": "17a3c5dd-5787-4ec5-b2ab-2859ab132f7d",
   "metadata": {},
   "outputs": [
    {
     "ename": "TypeError",
     "evalue": "'tuple' object does not support item assignment",
     "output_type": "error",
     "traceback": [
      "\u001b[0;31m---------------------------------------------------------------------------\u001b[0m",
      "\u001b[0;31mTypeError\u001b[0m                                 Traceback (most recent call last)",
      "Input \u001b[0;32mIn [161]\u001b[0m, in \u001b[0;36m<cell line: 1>\u001b[0;34m()\u001b[0m\n\u001b[0;32m----> 1\u001b[0m t[\u001b[38;5;241m-\u001b[39m\u001b[38;5;241m1\u001b[39m] \u001b[38;5;241m=\u001b[39m \u001b[38;5;241m1\u001b[39m\n",
      "\u001b[0;31mTypeError\u001b[0m: 'tuple' object does not support item assignment"
     ]
    }
   ],
   "source": [
    "t[-1] = 1"
   ]
  },
  {
   "cell_type": "code",
   "execution_count": 162,
   "id": "41b715cc-86a9-41b8-ac47-371fa2d5af43",
   "metadata": {},
   "outputs": [],
   "source": [
    "d = { 'X': 10, 'V': 5, 'I': 1 } # can be initialized when declared"
   ]
  },
  {
   "cell_type": "code",
   "execution_count": 163,
   "id": "dc400c98-9810-498f-8b47-f9c0c2430911",
   "metadata": {},
   "outputs": [
    {
     "data": {
      "text/plain": [
       "{'X': 10, 'V': 5, 'I': 1}"
      ]
     },
     "execution_count": 163,
     "metadata": {},
     "output_type": "execute_result"
    }
   ],
   "source": [
    "d"
   ]
  },
  {
   "cell_type": "code",
   "execution_count": 164,
   "id": "860d550b-3bc8-4195-a60c-c706b87a936f",
   "metadata": {},
   "outputs": [],
   "source": [
    "d['X'] = 'ecks'"
   ]
  },
  {
   "cell_type": "code",
   "execution_count": 165,
   "id": "0efdae63-d628-40df-aed1-4e6396070675",
   "metadata": {},
   "outputs": [
    {
     "data": {
      "text/plain": [
       "{'X': 'ecks', 'V': 5, 'I': 1}"
      ]
     },
     "execution_count": 165,
     "metadata": {},
     "output_type": "execute_result"
    }
   ],
   "source": [
    "d"
   ]
  },
  {
   "cell_type": "code",
   "execution_count": 166,
   "id": "49cfcf45-1187-4c4b-a8f6-b8871bac68e0",
   "metadata": {},
   "outputs": [],
   "source": [
    "d['X'] = [10, 'ecks']"
   ]
  },
  {
   "cell_type": "code",
   "execution_count": 167,
   "id": "068a5d92-d460-4cd9-abf9-525ea27cac9f",
   "metadata": {},
   "outputs": [
    {
     "data": {
      "text/plain": [
       "{'X': [10, 'ecks'], 'V': 5, 'I': 1}"
      ]
     },
     "execution_count": 167,
     "metadata": {},
     "output_type": "execute_result"
    }
   ],
   "source": [
    "d"
   ]
  },
  {
   "cell_type": "code",
   "execution_count": 168,
   "id": "33a51aa2-b4fd-44d0-9249-1cfb907f2c57",
   "metadata": {},
   "outputs": [],
   "source": [
    "d = { 1: 'one', 2: 'one', 3: 'one' }"
   ]
  },
  {
   "cell_type": "code",
   "execution_count": 169,
   "id": "89e0af05-1d7c-4e4d-b7d4-1f6be9e2ec37",
   "metadata": {},
   "outputs": [
    {
     "data": {
      "text/plain": [
       "{1: 'one', 2: 'one', 3: 'one'}"
      ]
     },
     "execution_count": 169,
     "metadata": {},
     "output_type": "execute_result"
    }
   ],
   "source": [
    "d"
   ]
  },
  {
   "cell_type": "code",
   "execution_count": 170,
   "id": "c22aa0ce-06f5-422b-8a7d-2fbb64bcadaa",
   "metadata": {},
   "outputs": [
    {
     "data": {
      "text/plain": [
       "'one'"
      ]
     },
     "execution_count": 170,
     "metadata": {},
     "output_type": "execute_result"
    }
   ],
   "source": [
    "d[1]"
   ]
  },
  {
   "cell_type": "code",
   "execution_count": 171,
   "id": "a847bc6c-ca29-4532-b96e-9d23f9e1de9b",
   "metadata": {},
   "outputs": [
    {
     "data": {
      "text/plain": [
       "'one'"
      ]
     },
     "execution_count": 171,
     "metadata": {},
     "output_type": "execute_result"
    }
   ],
   "source": [
    "d[3]"
   ]
  },
  {
   "cell_type": "code",
   "execution_count": 172,
   "id": "07cca637-c0ab-494e-9634-57cbed5697f5",
   "metadata": {},
   "outputs": [
    {
     "data": {
      "text/plain": [
       "6"
      ]
     },
     "execution_count": 172,
     "metadata": {},
     "output_type": "execute_result"
    }
   ],
   "source": [
    "sum([1, 2, 3])"
   ]
  },
  {
   "cell_type": "code",
   "execution_count": 173,
   "id": "dc057365-66c0-4542-9269-bed16651f97b",
   "metadata": {},
   "outputs": [
    {
     "data": {
      "text/plain": [
       "6"
      ]
     },
     "execution_count": 173,
     "metadata": {},
     "output_type": "execute_result"
    }
   ],
   "source": [
    "sum((1, 2, 3))"
   ]
  },
  {
   "cell_type": "code",
   "execution_count": 175,
   "id": "3cf1e59f-4a6e-4fc9-a208-5a209184a720",
   "metadata": {},
   "outputs": [
    {
     "data": {
      "text/plain": [
       "3"
      ]
     },
     "execution_count": 175,
     "metadata": {},
     "output_type": "execute_result"
    }
   ],
   "source": [
    "sum({1 : 'one', 2 : 'two'})"
   ]
  },
  {
   "cell_type": "code",
   "execution_count": 176,
   "id": "28dd2c52-4bc1-4707-ae77-f74dc08cf602",
   "metadata": {},
   "outputs": [
    {
     "data": {
      "text/plain": [
       "{1: 'one', 2: 'one', 3: 'one'}"
      ]
     },
     "execution_count": 176,
     "metadata": {},
     "output_type": "execute_result"
    }
   ],
   "source": [
    "d"
   ]
  },
  {
   "cell_type": "code",
   "execution_count": 177,
   "id": "d049ca13-5f96-4ec6-9046-094b7afa5a7d",
   "metadata": {},
   "outputs": [],
   "source": [
    "d = {'foo': 'bar'}"
   ]
  },
  {
   "cell_type": "code",
   "execution_count": 178,
   "id": "2ebdc77f-7689-4e96-b6f0-7ad3dd47f88a",
   "metadata": {},
   "outputs": [
    {
     "data": {
      "text/plain": [
       "'bar'"
      ]
     },
     "execution_count": 178,
     "metadata": {},
     "output_type": "execute_result"
    }
   ],
   "source": [
    "d['foo']"
   ]
  },
  {
   "cell_type": "code",
   "execution_count": 179,
   "id": "79de05ae-77cf-46f4-b5a7-b652f3e23483",
   "metadata": {},
   "outputs": [
    {
     "ename": "KeyError",
     "evalue": "'food'",
     "output_type": "error",
     "traceback": [
      "\u001b[0;31m---------------------------------------------------------------------------\u001b[0m",
      "\u001b[0;31mKeyError\u001b[0m                                  Traceback (most recent call last)",
      "Input \u001b[0;32mIn [179]\u001b[0m, in \u001b[0;36m<cell line: 1>\u001b[0;34m()\u001b[0m\n\u001b[0;32m----> 1\u001b[0m \u001b[43md\u001b[49m\u001b[43m[\u001b[49m\u001b[38;5;124;43m'\u001b[39;49m\u001b[38;5;124;43mfood\u001b[39;49m\u001b[38;5;124;43m'\u001b[39;49m\u001b[43m]\u001b[49m\n",
      "\u001b[0;31mKeyError\u001b[0m: 'food'"
     ]
    }
   ],
   "source": [
    "d['food']"
   ]
  },
  {
   "cell_type": "code",
   "execution_count": 180,
   "id": "9e0d19ee-9d1b-48d6-a17a-5362d3703dfb",
   "metadata": {},
   "outputs": [],
   "source": [
    "s = {'venti': 20, 'tall': 12, 'grande': 16}"
   ]
  },
  {
   "cell_type": "code",
   "execution_count": 181,
   "id": "ef980011-b845-47ef-ad18-7188b8c6c03d",
   "metadata": {},
   "outputs": [
    {
     "data": {
      "text/plain": [
       "['grande', 'tall', 'venti']"
      ]
     },
     "execution_count": 181,
     "metadata": {},
     "output_type": "execute_result"
    }
   ],
   "source": [
    "sorted(s)"
   ]
  },
  {
   "cell_type": "code",
   "execution_count": 182,
   "id": "6e96e7c7-2c3f-4310-b1b8-4a0da76e1801",
   "metadata": {},
   "outputs": [
    {
     "data": {
      "text/plain": [
       "16"
      ]
     },
     "execution_count": 182,
     "metadata": {},
     "output_type": "execute_result"
    }
   ],
   "source": [
    "s.get('grande')"
   ]
  },
  {
   "cell_type": "code",
   "execution_count": 183,
   "id": "f4bbc92e-7e44-4381-8047-ba9a1e198c39",
   "metadata": {},
   "outputs": [
    {
     "data": {
      "text/plain": [
       "12"
      ]
     },
     "execution_count": 183,
     "metadata": {},
     "output_type": "execute_result"
    }
   ],
   "source": [
    "s.get('tall')"
   ]
  },
  {
   "cell_type": "code",
   "execution_count": 185,
   "id": "bdf14d7d-56de-491f-97f5-ca5488c99ac7",
   "metadata": {},
   "outputs": [
    {
     "data": {
      "text/plain": [
       "['grande', 'tall', 'venti']"
      ]
     },
     "execution_count": 185,
     "metadata": {},
     "output_type": "execute_result"
    }
   ],
   "source": [
    "sorted(s) # means sort the keys"
   ]
  },
  {
   "cell_type": "code",
   "execution_count": 186,
   "id": "2ebd0f4c-d2ca-4783-951d-2ac6874ac1cd",
   "metadata": {},
   "outputs": [
    {
     "data": {
      "text/plain": [
       "['tall', 'grande', 'venti']"
      ]
     },
     "execution_count": 186,
     "metadata": {},
     "output_type": "execute_result"
    }
   ],
   "source": [
    "sorted(s, key=s.get) # sort the keys of s using the .get() method on each pair of keys to determine their oreder"
   ]
  },
  {
   "cell_type": "code",
   "execution_count": 187,
   "id": "f2606011-0ec4-4600-911b-89eb5b52ec89",
   "metadata": {},
   "outputs": [],
   "source": [
    "fruits = 'apple fig pear'.split()"
   ]
  },
  {
   "cell_type": "code",
   "execution_count": 189,
   "id": "b3b97de1-88fb-426b-93f5-29a1aa00674c",
   "metadata": {},
   "outputs": [
    {
     "data": {
      "text/plain": [
       "['apple', 'fig', 'pear']"
      ]
     },
     "execution_count": 189,
     "metadata": {},
     "output_type": "execute_result"
    }
   ],
   "source": [
    "sorted(fruits)"
   ]
  },
  {
   "cell_type": "code",
   "execution_count": 190,
   "id": "a1e9190c-a98a-4e79-b1f3-36866c3fdf37",
   "metadata": {},
   "outputs": [
    {
     "data": {
      "text/plain": [
       "['fig', 'pear', 'apple']"
      ]
     },
     "execution_count": 190,
     "metadata": {},
     "output_type": "execute_result"
    }
   ],
   "source": [
    "sorted(fruits, key=len) # hey sorted, when you need to determine the order of two fruits call len() on each of them"
   ]
  },
  {
   "cell_type": "code",
   "execution_count": 192,
   "id": "949a36d6-6e88-4f2a-bd29-06ffd29350ec",
   "metadata": {},
   "outputs": [],
   "source": [
    "my_list = [1, 3]"
   ]
  },
  {
   "cell_type": "markdown",
   "id": "6a1b9ab4-6368-4266-bd50-4b2e36f8c44f",
   "metadata": {},
   "source": [
    "## Lab: dictionary\n",
    "* use a dict to translate Roman numerals into their Arabic equivalents\n",
    "1. load the dict with Roman numerals M (1000), D (500), C (100), L (50), X (10), V (5), I (1)\n",
    "2. read in a Roman numeral\n",
    "3. print Arabic equivalent\n",
    "4. try it with MCLX = 1000 + 100 + 50 + 10 = 1160\n",
    "4. __The rest of this could be homework...__\n",
    "4. __Deal with the case where a smaller number precedes a larger number, e.g., XC = 100 - 10 = 90, or MCM = 1000 + (1000-100) = 1900__\n",
    "  * e.g.,  __MCMXCIX = 1999__"
   ]
  },
  {
   "cell_type": "code",
   "execution_count": 193,
   "id": "cd92b139-2dbb-466d-a9cd-a692367e3133",
   "metadata": {},
   "outputs": [],
   "source": [
    "roman_to_hindu_arabic = { # 1\n",
    "    'M': (1000),\n",
    "    'D': (500),\n",
    "    'C': (100),\n",
    "    'L': (50),\n",
    "    'X': (10),\n",
    "    'V': (5),\n",
    "    'I': (1),\n",
    "}"
   ]
  },
  {
   "cell_type": "code",
   "execution_count": 194,
   "id": "587b5d88-e311-41e6-adcc-c40db3fc0cd3",
   "metadata": {},
   "outputs": [
    {
     "data": {
      "text/plain": [
       "100"
      ]
     },
     "execution_count": 194,
     "metadata": {},
     "output_type": "execute_result"
    }
   ],
   "source": [
    "roman_to_hindu_arabic['C']"
   ]
  },
  {
   "cell_type": "code",
   "execution_count": 204,
   "id": "e88cd62a-7263-4597-9a77-6b0f0b630c78",
   "metadata": {},
   "outputs": [
    {
     "name": "stdin",
     "output_type": "stream",
     "text": [
      "Enter a Roman numeral:  MCZ\n"
     ]
    }
   ],
   "source": [
    "numeral = input('Enter a Roman numeral: ')"
   ]
  },
  {
   "cell_type": "code",
   "execution_count": 197,
   "id": "ed6b78d0-174a-49fe-ac34-d85afb7e9b55",
   "metadata": {},
   "outputs": [
    {
     "data": {
      "text/plain": [
       "'MCLX'"
      ]
     },
     "execution_count": 197,
     "metadata": {},
     "output_type": "execute_result"
    }
   ],
   "source": [
    "numeral"
   ]
  },
  {
   "cell_type": "code",
   "execution_count": 200,
   "id": "562c3b48-3818-4ac8-84e5-95ad79456c50",
   "metadata": {},
   "outputs": [
    {
     "data": {
      "text/plain": [
       "'M'"
      ]
     },
     "execution_count": 200,
     "metadata": {},
     "output_type": "execute_result"
    }
   ],
   "source": [
    "numeral[0]"
   ]
  },
  {
   "cell_type": "code",
   "execution_count": 201,
   "id": "a181f06c-c51d-4155-ab56-c5e4b81309d0",
   "metadata": {},
   "outputs": [
    {
     "data": {
      "text/plain": [
       "1000"
      ]
     },
     "execution_count": 201,
     "metadata": {},
     "output_type": "execute_result"
    }
   ],
   "source": [
    "roman_to_hindu_arabic['M']"
   ]
  },
  {
   "cell_type": "code",
   "execution_count": 202,
   "id": "da7d8670-6920-4f0a-87e9-c22ed29bfa04",
   "metadata": {},
   "outputs": [
    {
     "data": {
      "text/plain": [
       "100"
      ]
     },
     "execution_count": 202,
     "metadata": {},
     "output_type": "execute_result"
    }
   ],
   "source": [
    "roman_to_hindu_arabic['C']"
   ]
  },
  {
   "cell_type": "code",
   "execution_count": null,
   "id": "37855bb5-3c04-40a4-a3b5-4911685cde64",
   "metadata": {},
   "outputs": [],
   "source": [
    "# 0. fill in dict\n",
    "# 0a. start with a running total of 0\n",
    "# 1. get a Roman numeral\n",
    "# 2. for each Roman digit in the input\n",
    "# 3.    plug it into the dict to get the Hindu-Arabic equivalent\n",
    "# 3a.   ...and add that to the running total\n",
    "# 4. print out running total"
   ]
  },
  {
   "cell_type": "code",
   "execution_count": 207,
   "id": "070fd933-b28f-4628-b7d7-8e309808a773",
   "metadata": {},
   "outputs": [
    {
     "name": "stdin",
     "output_type": "stream",
     "text": [
      "Enter a Roman numeral:  MCZ\n"
     ]
    },
    {
     "ename": "KeyError",
     "evalue": "'Z'",
     "output_type": "error",
     "traceback": [
      "\u001b[0;31m---------------------------------------------------------------------------\u001b[0m",
      "\u001b[0;31mKeyError\u001b[0m                                  Traceback (most recent call last)",
      "Input \u001b[0;32mIn [207]\u001b[0m, in \u001b[0;36m<cell line: 4>\u001b[0;34m()\u001b[0m\n\u001b[1;32m      2\u001b[0m numeral \u001b[38;5;241m=\u001b[39m \u001b[38;5;28minput\u001b[39m(\u001b[38;5;124m'\u001b[39m\u001b[38;5;124mEnter a Roman numeral: \u001b[39m\u001b[38;5;124m'\u001b[39m) \u001b[38;5;66;03m# 1\u001b[39;00m\n\u001b[1;32m      4\u001b[0m \u001b[38;5;28;01mfor\u001b[39;00m digit \u001b[38;5;129;01min\u001b[39;00m numeral: \u001b[38;5;66;03m# 2\u001b[39;00m\n\u001b[0;32m----> 5\u001b[0m     running_total \u001b[38;5;241m+\u001b[39m\u001b[38;5;241m=\u001b[39m \u001b[43mroman_to_hindu_arabic\u001b[49m\u001b[43m[\u001b[49m\u001b[43mdigit\u001b[49m\u001b[43m]\u001b[49m \u001b[38;5;66;03m# 3, 3a\u001b[39;00m\n\u001b[1;32m      7\u001b[0m \u001b[38;5;28mprint\u001b[39m(running_total)\n",
      "\u001b[0;31mKeyError\u001b[0m: 'Z'"
     ]
    }
   ],
   "source": [
    "running_total = 0 # 0a\n",
    "numeral = input('Enter a Roman numeral: ') # 1\n",
    "\n",
    "for digit in numeral: # 2\n",
    "    running_total += roman_to_hindu_arabic[digit] # 3, 3a\n",
    "\n",
    "print(running_total) # 4"
   ]
  },
  {
   "cell_type": "code",
   "execution_count": null,
   "id": "9d0884b0-c85c-4b91-ad89-4c41907f060d",
   "metadata": {},
   "outputs": [],
   "source": [
    "s = \"\"\"Gur Mra bs Clguba, ol Gvz Crgref\n",
    "\n",
    "Ornhgvshy vf orggre guna htyl.\n",
    "Rkcyvpvg vf orggre guna vzcyvpvg.\n",
    "Fvzcyr vf orggre guna pbzcyrk.\n",
    "Pbzcyrk vf orggre guna pbzcyvpngrq.\n",
    "Syng vf orggre guna arfgrq.\n",
    "Fcnefr vf orggre guna qrafr.\"\"\"\n",
    "\n",
    "d = {}\n",
    "for c in (65, 97):\n",
    "    for i in range(26):\n",
    "        d[chr(i+c)] = chr((i+13) % 26 + c)\n",
    "\n",
    "print(\"\".join([d.get(c, c) for c in s]))"
   ]
  },
  {
   "cell_type": "code",
   "execution_count": 209,
   "id": "32c0f857-c18f-43cc-9b74-29312e9fd8c7",
   "metadata": {},
   "outputs": [
    {
     "data": {
      "text/plain": [
       "65"
      ]
     },
     "execution_count": 209,
     "metadata": {},
     "output_type": "execute_result"
    }
   ],
   "source": [
    "ord('A')"
   ]
  },
  {
   "cell_type": "code",
   "execution_count": 210,
   "id": "138fbdcb-8ceb-41d1-97bd-6c12858d957f",
   "metadata": {},
   "outputs": [
    {
     "data": {
      "text/plain": [
       "97"
      ]
     },
     "execution_count": 210,
     "metadata": {},
     "output_type": "execute_result"
    }
   ],
   "source": [
    "ord('a')"
   ]
  },
  {
   "cell_type": "code",
   "execution_count": 211,
   "id": "12118d7d-7198-430e-af23-83d2fbf01d88",
   "metadata": {},
   "outputs": [
    {
     "data": {
      "text/plain": [
       "8364"
      ]
     },
     "execution_count": 211,
     "metadata": {},
     "output_type": "execute_result"
    }
   ],
   "source": [
    "ord('€')"
   ]
  },
  {
   "cell_type": "code",
   "execution_count": 213,
   "id": "87fd1bb3-cf1b-452d-be66-a3ac2b305d51",
   "metadata": {},
   "outputs": [
    {
     "data": {
      "text/plain": [
       "'€'"
      ]
     },
     "execution_count": 213,
     "metadata": {},
     "output_type": "execute_result"
    }
   ],
   "source": [
    "chr(8364)"
   ]
  },
  {
   "cell_type": "code",
   "execution_count": 214,
   "id": "8be8cc6f-8d0b-41fc-bdc6-de90a7721651",
   "metadata": {},
   "outputs": [
    {
     "data": {
      "text/plain": [
       "'A'"
      ]
     },
     "execution_count": 214,
     "metadata": {},
     "output_type": "execute_result"
    }
   ],
   "source": [
    "chr(65)"
   ]
  },
  {
   "cell_type": "code",
   "execution_count": null,
   "id": "ce1632b1-5dd5-49bc-bb0f-c0a963ce446d",
   "metadata": {},
   "outputs": [],
   "source": []
  }
 ],
 "metadata": {
  "kernelspec": {
   "display_name": "Python 3 (ipykernel)",
   "language": "python",
   "name": "python3"
  },
  "language_info": {
   "codemirror_mode": {
    "name": "ipython",
    "version": 3
   },
   "file_extension": ".py",
   "mimetype": "text/x-python",
   "name": "python",
   "nbconvert_exporter": "python",
   "pygments_lexer": "ipython3",
   "version": "3.9.12"
  }
 },
 "nbformat": 4,
 "nbformat_minor": 5
}
